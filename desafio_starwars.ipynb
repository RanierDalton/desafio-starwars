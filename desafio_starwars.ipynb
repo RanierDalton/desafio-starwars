{
  "cells": [
    {
      "cell_type": "markdown",
      "metadata": {
        "id": "0NWlikjFqubR"
      },
      "source": [
        "# DESAFIO STAR WARS\n",
        "##Alunos: Gabriel Holanda, Bruno D'Nofrio, Enrico e Ranier"
      ]
    },
    {
      "cell_type": "markdown",
      "metadata": {},
      "source": [
        "##CELINHA E GIU ACOMPANHANDO NOSSO DESAFIO"
      ]
    },
    {
      "cell_type": "markdown",
      "metadata": {},
      "source": [
        "![alt text](image-1.png)"
      ]
    },
    {
      "cell_type": "markdown",
      "metadata": {
        "id": "5fpeFmVGqxgN"
      },
      "source": [
        "###INSTALACÃO DE BIBLIOTECAS"
      ]
    },
    {
      "cell_type": "code",
      "execution_count": null,
      "metadata": {
        "colab": {
          "base_uri": "https://localhost:8080/",
          "height": 141
        },
        "id": "-eJD2YkJosIh",
        "outputId": "5da7bce9-f861-44f3-84c4-9108aae2fcbe"
      },
      "outputs": [
        {
          "ename": "NameError",
          "evalue": "name 'install' is not defined",
          "output_type": "error",
          "traceback": [
            "\u001b[0;31m---------------------------------------------------------------------------\u001b[0m",
            "\u001b[0;31mNameError\u001b[0m                                 Traceback (most recent call last)",
            "\u001b[0;32m<ipython-input-1-3b21dff1699a>\u001b[0m in \u001b[0;36m<cell line: 0>\u001b[0;34m()\u001b[0m\n\u001b[0;32m----> 1\u001b[0;31m \u001b[0minstall\u001b[0m\u001b[0;34m.\u001b[0m\u001b[0mpackages\u001b[0m\u001b[0;34m(\u001b[0m\u001b[0mdplyr\u001b[0m\u001b[0;34m)\u001b[0m\u001b[0;34m\u001b[0m\u001b[0;34m\u001b[0m\u001b[0m\n\u001b[0m",
            "\u001b[0;31mNameError\u001b[0m: name 'install' is not defined"
          ]
        }
      ],
      "source": [
        "\n"
      ]
    },
    {
      "cell_type": "markdown",
      "metadata": {
        "id": "V98FagxBrCop"
      },
      "source": [
        "###SEPARAÇÃO DAS PLAVARAS DE CADA PERSONAGEM"
      ]
    },
    {
      "cell_type": "markdown",
      "metadata": {
        "id": "NK5BfRobrXkx"
      },
      "source": [
        "####EPISÓDIO 4"
      ]
    },
    {
      "cell_type": "code",
      "execution_count": null,
      "metadata": {
        "id": "99g5c7otrq_g"
      },
      "outputs": [],
      "source": []
    },
    {
      "cell_type": "markdown",
      "metadata": {
        "id": "1PJ9olkWrbSi"
      },
      "source": [
        "####EPISÓDIO 5"
      ]
    },
    {
      "cell_type": "code",
      "execution_count": null,
      "metadata": {
        "id": "0e5aBeuFrqlA"
      },
      "outputs": [],
      "source": []
    },
    {
      "cell_type": "markdown",
      "metadata": {
        "id": "o_Cj7RP-reJV"
      },
      "source": [
        "####EPISÓDIO 6"
      ]
    },
    {
      "cell_type": "code",
      "execution_count": null,
      "metadata": {
        "id": "v5yvA52yrWzD"
      },
      "outputs": [],
      "source": []
    },
    {
      "cell_type": "markdown",
      "metadata": {
        "id": "6G3D8c1yrJvH"
      },
      "source": [
        "###ANALISANDO SENTIMENTO POR TRÁS DAS PLAVRAS"
      ]
    },
    {
      "cell_type": "code",
      "execution_count": null,
      "metadata": {
        "id": "T7X-FRlvrXOd"
      },
      "outputs": [],
      "source": []
    }
  ],
  "metadata": {
    "colab": {
      "provenance": []
    },
    "kernelspec": {
      "display_name": "Python 3",
      "name": "python3"
    },
    "language_info": {
      "name": "python"
    }
  },
  "nbformat": 4,
  "nbformat_minor": 0
}
