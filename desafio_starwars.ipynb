{
  "nbformat": 4,
  "nbformat_minor": 0,
  "metadata": {
    "colab": {
      "provenance": []
    },
    "kernelspec": {
      "name": "python3",
      "display_name": "Python 3"
    },
    "language_info": {
      "name": "python"
    }
  },
  "cells": [
    {
      "cell_type": "markdown",
      "source": [
        "# DESAFIO STAR WARS\n",
        "##Alunos: Gabriel Holanda, Bruno D'Nofrio, Enrico e Ranier"
      ],
      "metadata": {
        "id": "0NWlikjFqubR"
      }
    },
    {
      "cell_type": "markdown",
      "source": [
        "###INSTALACÃO DE BIBLIOTECAS"
      ],
      "metadata": {
        "id": "5fpeFmVGqxgN"
      }
    },
    {
      "cell_type": "code",
      "execution_count": null,
      "metadata": {
        "id": "-eJD2YkJosIh",
        "outputId": "5da7bce9-f861-44f3-84c4-9108aae2fcbe",
        "colab": {
          "base_uri": "https://localhost:8080/",
          "height": 141
        }
      },
      "outputs": [
        {
          "output_type": "error",
          "ename": "NameError",
          "evalue": "name 'install' is not defined",
          "traceback": [
            "\u001b[0;31m---------------------------------------------------------------------------\u001b[0m",
            "\u001b[0;31mNameError\u001b[0m                                 Traceback (most recent call last)",
            "\u001b[0;32m<ipython-input-1-3b21dff1699a>\u001b[0m in \u001b[0;36m<cell line: 0>\u001b[0;34m()\u001b[0m\n\u001b[0;32m----> 1\u001b[0;31m \u001b[0minstall\u001b[0m\u001b[0;34m.\u001b[0m\u001b[0mpackages\u001b[0m\u001b[0;34m(\u001b[0m\u001b[0mdplyr\u001b[0m\u001b[0;34m)\u001b[0m\u001b[0;34m\u001b[0m\u001b[0;34m\u001b[0m\u001b[0m\n\u001b[0m",
            "\u001b[0;31mNameError\u001b[0m: name 'install' is not defined"
          ]
        }
      ],
      "source": [
        "\n"
      ]
    },
    {
      "cell_type": "markdown",
      "source": [
        "###SEPARAÇÃO DAS PLAVARAS DE CADA PERSONAGEM"
      ],
      "metadata": {
        "id": "V98FagxBrCop"
      }
    },
    {
      "cell_type": "markdown",
      "source": [
        "####EPISÓDIO 4"
      ],
      "metadata": {
        "id": "NK5BfRobrXkx"
      }
    },
    {
      "cell_type": "code",
      "source": [],
      "metadata": {
        "id": "99g5c7otrq_g"
      },
      "execution_count": null,
      "outputs": []
    },
    {
      "cell_type": "markdown",
      "source": [
        "####EPISÓDIO 5"
      ],
      "metadata": {
        "id": "1PJ9olkWrbSi"
      }
    },
    {
      "cell_type": "code",
      "source": [],
      "metadata": {
        "id": "0e5aBeuFrqlA"
      },
      "execution_count": null,
      "outputs": []
    },
    {
      "cell_type": "markdown",
      "source": [
        "####EPISÓDIO 6"
      ],
      "metadata": {
        "id": "o_Cj7RP-reJV"
      }
    },
    {
      "cell_type": "code",
      "source": [],
      "metadata": {
        "id": "v5yvA52yrWzD"
      },
      "execution_count": null,
      "outputs": []
    },
    {
      "cell_type": "markdown",
      "source": [
        "###ANALISANDO SENTIMENTO POR TRÁS DAS PLAVRAS"
      ],
      "metadata": {
        "id": "6G3D8c1yrJvH"
      }
    },
    {
      "cell_type": "code",
      "source": [],
      "metadata": {
        "id": "T7X-FRlvrXOd"
      },
      "execution_count": null,
      "outputs": []
    }
  ]
}