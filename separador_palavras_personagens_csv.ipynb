{
  "cells": [
    {
      "cell_type": "code",
      "execution_count": 7,
      "metadata": {
        "id": "Z2i9iQF9pJzo"
      },
      "outputs": [],
      "source": [
        "AMBIENTE_EXEC = 'local' # colab, local\n",
        "\n",
        "if AMBIENTE_EXEC == 'colab':\n",
        "  path = '/content/'\n",
        "else:\n",
        "  path = 'data/'"
      ]
    },
    {
      "cell_type": "code",
      "execution_count": 8,
      "metadata": {
        "id": "JyEOYreJ1LHX"
      },
      "outputs": [],
      "source": [
        "import pandas as pd\n",
        "import string\n",
        "from collections import defaultdict"
      ]
    },
    {
      "cell_type": "code",
      "execution_count": 9,
      "metadata": {
        "colab": {
          "base_uri": "https://localhost:8080/"
        },
        "id": "jpHh1czV23CL",
        "outputId": "c9d2cd13-f415-444f-c07d-fd154053065b"
      },
      "outputs": [
        {
          "name": "stdout",
          "output_type": "stream",
          "text": [
            "['a', 'about', 'above', 'after', 'again', 'against', 'ain', 'all', 'am', 'an', 'and', 'any', 'are', 'aren', \"aren't\", 'as', 'at', 'be', 'because', 'been', 'before', 'being', 'below', 'between', 'both', 'but', 'by', 'can', 'couldn', \"couldn't\", 'd', 'did', 'didn', \"didn't\", 'do', 'does', 'doesn', \"doesn't\", 'doing', 'don', \"don't\", 'down', 'during', 'each', 'few', 'for', 'from', 'further', 'had', 'hadn', \"hadn't\", 'has', 'hasn', \"hasn't\", 'have', 'haven', \"haven't\", 'having', 'he', \"he'd\", \"he'll\", 'her', 'here', 'hers', 'herself', \"he's\", 'him', 'himself', 'his', 'how', 'i', \"i'd\", 'if', \"i'll\", \"i'm\", 'in', 'into', 'is', 'isn', \"isn't\", 'it', \"it'd\", \"it'll\", \"it's\", 'its', 'itself', \"i've\", 'just', 'll', 'm', 'ma', 'me', 'mightn', \"mightn't\", 'more', 'most', 'mustn', \"mustn't\", 'my', 'myself', 'needn', \"needn't\", 'no', 'nor', 'not', 'now', 'o', 'of', 'off', 'on', 'once', 'only', 'or', 'other', 'our', 'ours', 'ourselves', 'out', 'over', 'own', 're', 's', 'same', 'shan', \"shan't\", 'she', \"she'd\", \"she'll\", \"she's\", 'should', 'shouldn', \"shouldn't\", \"should've\", 'so', 'some', 'such', 't', 'than', 'that', \"that'll\", 'the', 'their', 'theirs', 'them', 'themselves', 'then', 'there', 'these', 'they', \"they'd\", \"they'll\", \"they're\", \"they've\", 'this', 'those', 'through', 'to', 'too', 'under', 'until', 'up', 've', 'very', 'was', 'wasn', \"wasn't\", 'we', \"we'd\", \"we'll\", \"we're\", 'were', 'weren', \"weren't\", \"we've\", 'what', 'when', 'where', 'which', 'while', 'who', 'whom', 'why', 'will', 'with', 'won', \"won't\", 'wouldn', \"wouldn't\", 'y', 'you', \"you'd\", \"you'll\", 'your', \"you're\", 'yours', 'yourself', 'yourselves', \"you've\"]\n"
          ]
        },
        {
          "name": "stderr",
          "output_type": "stream",
          "text": [
            "[nltk_data] Downloading package stopwords to\n",
            "[nltk_data]     C:\\Users\\RANIERDALTONDOCOUTO\\AppData\\Roaming\\nltk_data\n",
            "[nltk_data]     ...\n",
            "[nltk_data]   Package stopwords is already up-to-date!\n"
          ]
        }
      ],
      "source": [
        "import nltk\n",
        "from nltk.corpus import stopwords\n",
        "\n",
        "nltk.download('stopwords')\n",
        "print(stopwords.words('english'))"
      ]
    },
    {
      "cell_type": "code",
      "execution_count": 10,
      "metadata": {
        "colab": {
          "base_uri": "https://localhost:8080/"
        },
        "id": "Le34MOCjFIfe",
        "outputId": "9ff71f84-ce78-4585-add0-cfc65db5aea2"
      },
      "outputs": [
        {
          "data": {
            "text/plain": [
              "['a',\n",
              " 'à',\n",
              " 'ao',\n",
              " 'aos',\n",
              " 'aquela',\n",
              " 'aquelas',\n",
              " 'aquele',\n",
              " 'aqueles',\n",
              " 'aquilo',\n",
              " 'as',\n",
              " 'às',\n",
              " 'até',\n",
              " 'com',\n",
              " 'como',\n",
              " 'da',\n",
              " 'das',\n",
              " 'de',\n",
              " 'dela',\n",
              " 'delas',\n",
              " 'dele',\n",
              " 'deles',\n",
              " 'depois',\n",
              " 'do',\n",
              " 'dos',\n",
              " 'e',\n",
              " 'é',\n",
              " 'ela',\n",
              " 'elas',\n",
              " 'ele',\n",
              " 'eles',\n",
              " 'em',\n",
              " 'entre',\n",
              " 'era',\n",
              " 'eram',\n",
              " 'éramos',\n",
              " 'essa',\n",
              " 'essas',\n",
              " 'esse',\n",
              " 'esses',\n",
              " 'esta',\n",
              " 'está',\n",
              " 'estamos',\n",
              " 'estão',\n",
              " 'estar',\n",
              " 'estas',\n",
              " 'estava',\n",
              " 'estavam',\n",
              " 'estávamos',\n",
              " 'este',\n",
              " 'esteja',\n",
              " 'estejam',\n",
              " 'estejamos',\n",
              " 'estes',\n",
              " 'esteve',\n",
              " 'estive',\n",
              " 'estivemos',\n",
              " 'estiver',\n",
              " 'estivera',\n",
              " 'estiveram',\n",
              " 'estivéramos',\n",
              " 'estiverem',\n",
              " 'estivermos',\n",
              " 'estivesse',\n",
              " 'estivessem',\n",
              " 'estivéssemos',\n",
              " 'estou',\n",
              " 'eu',\n",
              " 'foi',\n",
              " 'fomos',\n",
              " 'for',\n",
              " 'fora',\n",
              " 'foram',\n",
              " 'fôramos',\n",
              " 'forem',\n",
              " 'formos',\n",
              " 'fosse',\n",
              " 'fossem',\n",
              " 'fôssemos',\n",
              " 'fui',\n",
              " 'há',\n",
              " 'haja',\n",
              " 'hajam',\n",
              " 'hajamos',\n",
              " 'hão',\n",
              " 'havemos',\n",
              " 'haver',\n",
              " 'hei',\n",
              " 'houve',\n",
              " 'houvemos',\n",
              " 'houver',\n",
              " 'houvera',\n",
              " 'houverá',\n",
              " 'houveram',\n",
              " 'houvéramos',\n",
              " 'houverão',\n",
              " 'houverei',\n",
              " 'houverem',\n",
              " 'houveremos',\n",
              " 'houveria',\n",
              " 'houveriam',\n",
              " 'houveríamos',\n",
              " 'houvermos',\n",
              " 'houvesse',\n",
              " 'houvessem',\n",
              " 'houvéssemos',\n",
              " 'isso',\n",
              " 'isto',\n",
              " 'já',\n",
              " 'lhe',\n",
              " 'lhes',\n",
              " 'mais',\n",
              " 'mas',\n",
              " 'me',\n",
              " 'mesmo',\n",
              " 'meu',\n",
              " 'meus',\n",
              " 'minha',\n",
              " 'minhas',\n",
              " 'muito',\n",
              " 'na',\n",
              " 'não',\n",
              " 'nas',\n",
              " 'nem',\n",
              " 'no',\n",
              " 'nos',\n",
              " 'nós',\n",
              " 'nossa',\n",
              " 'nossas',\n",
              " 'nosso',\n",
              " 'nossos',\n",
              " 'num',\n",
              " 'numa',\n",
              " 'o',\n",
              " 'os',\n",
              " 'ou',\n",
              " 'para',\n",
              " 'pela',\n",
              " 'pelas',\n",
              " 'pelo',\n",
              " 'pelos',\n",
              " 'por',\n",
              " 'qual',\n",
              " 'quando',\n",
              " 'que',\n",
              " 'quem',\n",
              " 'são',\n",
              " 'se',\n",
              " 'seja',\n",
              " 'sejam',\n",
              " 'sejamos',\n",
              " 'sem',\n",
              " 'ser',\n",
              " 'será',\n",
              " 'serão',\n",
              " 'serei',\n",
              " 'seremos',\n",
              " 'seria',\n",
              " 'seriam',\n",
              " 'seríamos',\n",
              " 'seu',\n",
              " 'seus',\n",
              " 'só',\n",
              " 'somos',\n",
              " 'sou',\n",
              " 'sua',\n",
              " 'suas',\n",
              " 'também',\n",
              " 'te',\n",
              " 'tem',\n",
              " 'tém',\n",
              " 'temos',\n",
              " 'tenha',\n",
              " 'tenham',\n",
              " 'tenhamos',\n",
              " 'tenho',\n",
              " 'terá',\n",
              " 'terão',\n",
              " 'terei',\n",
              " 'teremos',\n",
              " 'teria',\n",
              " 'teriam',\n",
              " 'teríamos',\n",
              " 'teu',\n",
              " 'teus',\n",
              " 'teve',\n",
              " 'tinha',\n",
              " 'tinham',\n",
              " 'tínhamos',\n",
              " 'tive',\n",
              " 'tivemos',\n",
              " 'tiver',\n",
              " 'tivera',\n",
              " 'tiveram',\n",
              " 'tivéramos',\n",
              " 'tiverem',\n",
              " 'tivermos',\n",
              " 'tivesse',\n",
              " 'tivessem',\n",
              " 'tivéssemos',\n",
              " 'tu',\n",
              " 'tua',\n",
              " 'tuas',\n",
              " 'um',\n",
              " 'uma',\n",
              " 'você',\n",
              " 'vocês',\n",
              " 'vos']"
            ]
          },
          "execution_count": 10,
          "metadata": {},
          "output_type": "execute_result"
        }
      ],
      "source": [
        "stopwords.words('portuguese')"
      ]
    },
    {
      "cell_type": "code",
      "execution_count": 11,
      "metadata": {
        "colab": {
          "base_uri": "https://localhost:8080/",
          "height": 321
        },
        "id": "N4OI7S7-Czvh",
        "outputId": "5a65a609-cf33-4b44-c9e2-c600d772933e"
      },
      "outputs": [],
      "source": [
        "# df_ep6 = pd.read_csv(\"data/ep6.csv\", encoding=\"utf-8\")\n",
        "# df_ep5 = pd.read_csv(\"data/ep5.csv\", encoding=\"utf-8\")\n",
        "# df_ep4 = pd.read_csv(\"data/ep4.csv\", encoding=\"utf-8\")"
      ]
    },
    {
      "cell_type": "code",
      "execution_count": 12,
      "metadata": {
        "id": "Qcf2CkTc1M2X"
      },
      "outputs": [],
      "source": [
        "df_ep6 = pd.read_csv(f\"{path}ep6.csv\", encoding=\"utf-8\")\n",
        "df_ep5 = pd.read_csv(f\"{path}ep6.csv\", encoding=\"utf-8\")\n",
        "df_ep4 = pd.read_csv(f\"{path}ep6.csv\", encoding=\"utf-8\")"
      ]
    },
    {
      "cell_type": "code",
      "execution_count": 13,
      "metadata": {
        "colab": {
          "base_uri": "https://localhost:8080/",
          "height": 206
        },
        "id": "nGSfxsva1hQu",
        "outputId": "166529d5-7692-4aec-cc89-b9634d1d7b49"
      },
      "outputs": [
        {
          "data": {
            "text/html": [
              "<div>\n",
              "<style scoped>\n",
              "    .dataframe tbody tr th:only-of-type {\n",
              "        vertical-align: middle;\n",
              "    }\n",
              "\n",
              "    .dataframe tbody tr th {\n",
              "        vertical-align: top;\n",
              "    }\n",
              "\n",
              "    .dataframe thead th {\n",
              "        text-align: right;\n",
              "    }\n",
              "</style>\n",
              "<table border=\"1\" class=\"dataframe\">\n",
              "  <thead>\n",
              "    <tr style=\"text-align: right;\">\n",
              "      <th></th>\n",
              "      <th>personagem</th>\n",
              "      <th>diálogo</th>\n",
              "    </tr>\n",
              "  </thead>\n",
              "  <tbody>\n",
              "    <tr>\n",
              "      <th>0</th>\n",
              "      <td>SHUTTLE CAPTAIN</td>\n",
              "      <td>Estação de comando, esta é a ST 321. Liberação...</td>\n",
              "    </tr>\n",
              "    <tr>\n",
              "      <th>1</th>\n",
              "      <td>DEATH STAR CONTROLLER</td>\n",
              "      <td>O escudo defletor de segurança será desativado...</td>\n",
              "    </tr>\n",
              "    <tr>\n",
              "      <th>2</th>\n",
              "      <td>SHUTTLE CAPTAIN</td>\n",
              "      <td>Estamos começando nossa abordagem.</td>\n",
              "    </tr>\n",
              "    <tr>\n",
              "      <th>3</th>\n",
              "      <td>OFICIAL</td>\n",
              "      <td>Informe o comandante que a nave de Lord Vader ...</td>\n",
              "    </tr>\n",
              "    <tr>\n",
              "      <th>4</th>\n",
              "      <td>OPERADOR</td>\n",
              "      <td>Sim, senhor.</td>\n",
              "    </tr>\n",
              "  </tbody>\n",
              "</table>\n",
              "</div>"
            ],
            "text/plain": [
              "              personagem                                            diálogo\n",
              "0        SHUTTLE CAPTAIN  Estação de comando, esta é a ST 321. Liberação...\n",
              "1  DEATH STAR CONTROLLER  O escudo defletor de segurança será desativado...\n",
              "2        SHUTTLE CAPTAIN                 Estamos começando nossa abordagem.\n",
              "3                OFICIAL  Informe o comandante que a nave de Lord Vader ...\n",
              "4               OPERADOR                                       Sim, senhor."
            ]
          },
          "execution_count": 13,
          "metadata": {},
          "output_type": "execute_result"
        }
      ],
      "source": [
        "df_ep6.head()"
      ]
    },
    {
      "cell_type": "code",
      "execution_count": 14,
      "metadata": {
        "colab": {
          "base_uri": "https://localhost:8080/"
        },
        "id": "XIikq3793p1I",
        "outputId": "2638ae54-fab9-4130-f597-b5a6169296c0"
      },
      "outputs": [
        {
          "name": "stderr",
          "output_type": "stream",
          "text": [
            "[nltk_data] Downloading package stopwords to\n",
            "[nltk_data]     C:\\Users\\RANIERDALTONDOCOUTO\\AppData\\Roaming\\nltk_data\n",
            "[nltk_data]     ...\n",
            "[nltk_data]   Package stopwords is already up-to-date!\n"
          ]
        }
      ],
      "source": [
        "nltk.download('stopwords')\n",
        "stopword_pt_list = stopwords.words('portuguese')"
      ]
    },
    {
      "cell_type": "code",
      "execution_count": 15,
      "metadata": {
        "id": "HBze5X0p6HZb"
      },
      "outputs": [],
      "source": [
        "stopword_pt_list.append('estação')\n",
        "stopword_pt_list.append('ia')\n",
        "stopword_pt_list.append('ia')\n",
        "stopword_pt_list.append('todo')\n",
        "stopword_pt_list.append('toda')\n",
        "stopword_pt_list.append('ei')\n",
        "stopword_pt_list.append('quê')\n",
        "stopword_pt_list.append('ai')\n",
        "stopword_pt_list.append('sei')"
      ]
    },
    {
      "cell_type": "code",
      "execution_count": 16,
      "metadata": {
        "collapsed": true,
        "id": "38__XTDyCzvj"
      },
      "outputs": [],
      "source": [
        "contador_personagens_ep6 = defaultdict(lambda: defaultdict(int))\n",
        "\n",
        "for touple in df_ep6.itertuples():\n",
        "    personagem = touple.personagem\n",
        "    fala = touple.diálogo\n",
        "    tokens = str(fala).lower().split()\n",
        "    palavras_filtradas = [palavra.strip() for palavra in tokens if palavra.isalpha() and palavra not in stopword_pt_list]\n",
        "\n",
        "    for palavra in palavras_filtradas:\n",
        "        contador_personagens_ep6[personagem][palavra] += 1\n",
        "\n"
      ]
    },
    {
      "cell_type": "code",
      "execution_count": 17,
      "metadata": {
        "id": "RV37fC95Czvl"
      },
      "outputs": [],
      "source": [
        "contador_personagens_ep5 = defaultdict(lambda: defaultdict(int))\n",
        "\n",
        "for touple in df_ep6.itertuples():\n",
        "    personagem = touple.personagem\n",
        "    fala = touple.diálogo\n",
        "    tokens = str(fala).lower().split()\n",
        "    palavras_filtradas = [palavra.strip() for palavra in tokens if palavra.isalpha() and palavra not in stopword_pt_list]\n",
        "\n",
        "    for palavra in palavras_filtradas:\n",
        "        contador_personagens_ep5[personagem][palavra] += 1"
      ]
    },
    {
      "cell_type": "code",
      "execution_count": 18,
      "metadata": {
        "id": "T0mjrbsfCzvl"
      },
      "outputs": [],
      "source": [
        "contador_personagens_ep4 = defaultdict(lambda: defaultdict(int))\n",
        "\n",
        "for touple in df_ep6.itertuples():\n",
        "    personagem = touple.personagem\n",
        "    fala = touple.diálogo\n",
        "    tokens = str(fala).lower().split()\n",
        "    palavras_filtradas = [palavra.strip() for palavra in tokens if palavra.isalpha() and palavra not in stopword_pt_list]\n",
        "\n",
        "    for palavra in palavras_filtradas:\n",
        "        contador_personagens_ep4[personagem][palavra] += 1"
      ]
    },
    {
      "attachments": {
        "person-freq-ep6.png": {
          "image/png": "[encoded data removed]"
        }
      },
      "cell_type": "markdown",
      "metadata": {},
      "source": [
        "![person-freq-ep6.png](attachment:person-freq-ep6.png)"
      ]
    },
    {
      "attachments": {
        "person-freq-ep5.png": {
          "image/png": "[encoded data removed]"
        }
      },
      "cell_type": "markdown",
      "metadata": {
        "id": "nmWLOQMaCzvm"
      },
      "source": [
        "![person-freq-ep5.png](attachment:person-freq-ep5.png)"
      ]
    },
    {
      "cell_type": "markdown",
      "metadata": {
        "id": "jDsiO8oyCzvn"
      },
      "source": [
        "![alt text](res/graficos-freq-person/person-freq-ep4.png)"
      ]
    },
    {
      "cell_type": "code",
      "execution_count": 19,
      "metadata": {
        "id": "UrQBi7lw5rsX"
      },
      "outputs": [],
      "source": [
        "personagens_episodio6 = ['HAN', 'LUKE','THREEPIO', 'LEIA', 'VADER','LANDO']\n",
        "personagens_episodio5 = ['HAN', 'LUKE','LEIA','THREEPIO', 'LANDO', 'VADER']\n",
        "personagens_episodio4 = ['LUKE','HAN', 'THREEPIO', 'BEN', 'LEIA','VADER']"
      ]
    },
    {
      "cell_type": "code",
      "execution_count": 20,
      "metadata": {
        "colab": {
          "base_uri": "https://localhost:8080/"
        },
        "id": "AZpw5LrICzvn",
        "outputId": "59cffbfd-8316-4b31-8109-5899e9150a74"
      },
      "outputs": [
        {
          "name": "stdout",
          "output_type": "stream",
          "text": [
            "{'HAN': [('vamos', 7), ('vai', 7), ('tudo', 6), ('lando', 6), ('acho', 5), ('onde', 4), ('acontecendo', 3), ('pensando', 3), ('grande', 3), ('agora', 3), ('bom', 3), ('nada', 3), ('alguns', 3), ('consigo', 2), ('pode', 2), ('tão', 2), ('borrão', 2), ('pedaço', 2), ('boba', 2), ('ver', 2), ('monte', 2), ('então', 2), ('lá', 2), ('sobre', 2), ('coisa', 2), ('devo', 2), ('olhe', 2), ('ataque', 2), ('disse', 2), ('boa', 2), ('leve', 2), ('ajuda', 2), ('sensação', 2), ('bem', 2), ('fique', 2), ('manter', 2), ('fazer', 2), ('chewie', 2), ('cuidaremos', 2), ('fica', 2), ('ahhh', 2), ('apenas', 2), ('sempre', 2), ('poderia', 2), ('conheço', 1), ('indo', 1), ('pagar', 1), ('desviei', 1), ('pago', 1), ('jogando', 1), ('fortuna', 1), ('luke', 1), ('cuidar', 1), ('si', 1), ('menos', 1), ('resgatar', 1), ('cavaleiro', 1), ('disso', 1), ('mundo', 1), ('delírios', 1), ('juntos', 1), ('odeio', 1), ('longas', 1), ('parece', 1), ('passar', 1), ('olhos', 1), ('vez', 1), ('vejo', 1), ('morrer', 1), ('trêspio', 1), ('diga', 1), ('viscoso', 1), ('imundície', 1), ('cheia', 1), ('vermes', 1), ('tanto', 1), ('prazer', 1), ('quase', 1), ('delicadamente', 1), ('dê', 1), ('confie', 1), ('puxe', 1), ('posso', 1), ('areia', 1), ('congelamento', 1), ('carbono', 1), ('próxima', 1), ('morte', 1), ('dormir', 1), ('deixa', 1), ('caixote', 1), ('vem', 1), ('agradecimentos', 1), ('obrigado', 1), ('vir', 1), ('atrás', 1), ('acabei', 1), ('dizer', 1), ('sabia', 1), ('procurando', 1), ('alguém', 1), ('liderar', 1), ('equipe', 1), ('tripulação', 1), ('comando', 1), ('ônibus', 1), ('queria', 1), ('falar', 1), ('quero', 1), ('falando', 1), ('precisa', 1), ('nave', 1), ('rápida', 1), ('recebi', 1), ('promessa', 1), ('império', 1), ('wookiees', 1), ('mente', 1), ('vê', 1), ('lixo', 1), ('fizerem', 1), ('ter', 1), ('sair', 1), ('daqui', 1), ('shuttle', 1), ('tydirium', 1), ('solicitando', 1), ('desativação', 1), ('escudo', 1), ('início', 1), ('naves', 1), ('mantenha', 1), ('pareça', 1), ('tentando', 1), ('voe', 1), ('pouco', 1), ('otimismo', 1), ('vão', 1), ('levar', 1), ('festa', 1), ('inteira', 1), ('valerá', 1), ('pensei', 1), ('esquadrão', 1), ('encontraremos', 1), ('gerador', 1), ('escudos', 1), ('espero', 1), ('animal', 1), ('aponte', 1), ('outro', 1), ('dizendo', 1), ('usa', 1), ('influência', 1), ('divina', 1), ('tira', 1), ('erro', 1), ('velho', 1), ('amigo', 1), ('mau', 1), ('pressentimento', 1), ('alguma', 1), ('ajudou', 1), ('exatamente', 1), ('curta', 1), ('melhor', 1), ('nenhuma', 1), ('pergunte', 1), ('precisamos', 1), ('suprimentos', 1), ('novos', 1), ('tente', 1), ('pegar', 1), ('armas', 1), ('sim', 1), ('dia', 1), ('contou', 1), ('sinto', 1), ('entramos', 1), ('muitos', 1), ('lugares', 1), ('fortemente', 1), ('vigiados', 1), ('porta', 1), ('deve', 1), ('mal', 1), ('pequena', 1), ('bola', 1), ('resta', 1), ('aqui', 1), ('suponho', 1), ('ligar', 1), ('desça', 1), ('jogue', 1), ('outra', 1)], 'LUKE': [('vai', 8), ('pode', 8), ('posso', 7), ('vader', 6), ('vou', 6), ('apenas', 4), ('lado', 4), ('capitão', 3), ('solo', 3), ('preciso', 3), ('levar', 3), ('ter', 3), ('então', 3), ('fazer', 3), ('deixar', 3), ('vamos', 3), ('pai', 3), ('raiva', 2), ('dois', 2), ('bem', 2), ('devo', 2), ('deveria', 2), ('fique', 2), ('aponte', 2), ('promessa', 2), ('velho', 2), ('mestre', 2), ('darth', 2), ('matar', 2), ('tudo', 2), ('colocando', 2), ('missão', 2), ('threepio', 2), ('diga', 2), ('nunca', 2), ('senti', 2), ('algo', 2), ('bom', 2), ('imperador', 2), ('sinto', 2), ('lutar', 2), ('luke', 1), ('cavaleiro', 1), ('jedi', 1), ('amigo', 1), ('poderoso', 1), ('deve', 1), ('igualmente', 1), ('busco', 1), ('audiência', 1), ('vossa', 1), ('grandeza', 1), ('barganhar', 1), ('vida', 1), ('certeza', 1), ('podemos', 1), ('chegar', 1), ('acordo', 1), ('mutuamente', 1), ('benéfico', 1), ('permita', 1), ('evitar', 1), ('qualquer', 1), ('confronto', 1), ('prova', 1), ('boa', 1), ('vontade', 1), ('apresento', 1), ('ambos', 1), ('trabalhadores', 1), ('irão', 1), ('falar', 1), ('jabba', 1), ('serve', 1), ('permissão', 1), ('trazer', 1), ('wookiee', 1), ('levando', 1), ('lucrar', 1), ('escolha', 1), ('aviso', 1), ('subestimar', 1), ('último', 1), ('erro', 1), ('nada', 1), ('morava', 1), ('perto', 1), ('chewie', 1), ('lando', 1), ('cuidei', 1), ('última', 1), ('pegue', 1), ('esqueça', 1), ('muita', 1), ('pense', 1), ('vejo', 1), ('cumprir', 1), ('encontro', 1), ('indo', 1), ('sistema', 1), ('claro', 1), ('voltei', 1), ('completar', 1), ('infeliz', 1), ('saiba', 1), ('continuar', 1), ('disse', 1), ('traiu', 1), ('assassinou', 1), ('certo', 1), ('ponto', 1), ('ainda', 1), ('coisas', 1), ('boas', 1), ('tentei', 1), ('ajudar', 1), ('descobri', 1), ('próprio', 1), ('yoda', 1), ('falou', 1), ('leia', 1), ('envolver', 1), ('novo', 1), ('algum', 1), ('chegando', 1), ('naquele', 1), ('bloqueie', 1), ('comlink', 1), ('interruptor', 1), ('continue', 1), ('melhor', 1), ('irmos', 1), ('precisar', 1), ('speeders', 1), ('destruídos', 1), ('lá', 1), ('encontrei', 1), ('wa', 1), ('descobrir', 1), ('maneira', 1), ('sair', 1), ('dessa', 1), ('alcançar', 1), ('sabre', 1), ('faça', 1), ('ficar', 1), ('dê', 1), ('entende', 1), ('alguma', 1), ('coisa', 1), ('fizerem', 1), ('ficará', 1), ('usará', 1), ('lembra', 1), ('mãe', 1), ('lembro', 1), ('nesta', 1), ('presença', 1), ('veio', 1), ('sentir', 1), ('enquanto', 1), ('risco', 1), ('grupo', 1), ('fácil', 1), ('única', 1), ('esperança', 1), ('tempo', 1), ('aprenderá', 1), ('força', 1), ('forte', 1), ('irmã', 1), ('sabe', 1), ('porque', 1), ('sempre', 1), ('entregar', 1), ('volta', 1), ('aceitei', 1), ('verdade', 1), ('anakin', 1), ('nome', 1), ('verdadeiro', 1), ('tirou', 1), ('completamente', 1), ('venha', 1), ('forçado', 1), ('procure', 1), ('conflito', 1), ('dentro', 1), ('deixe', 1), ('realmente', 1), ('gravemente', 1), ('converter', 1), ('fez', 1), ('logo', 1), ('estarei', 1), ('excesso', 1), ('confiança', 1), ('pensamentos', 1), ('conseguiu', 1), ('acredito', 1), ('vá', 1), ('destruir', 1), ('voltar', 1), ('antes', 1), ('vem', 1)], 'THREEPIO': [('mestre', 13), ('jabba', 6), ('ohhh', 5), ('nunca', 3), ('lugar', 3), ('certeza', 3), ('parece', 3), ('vamos', 3), ('artoo', 3), ('vão', 3), ('mensagem', 3), ('luke', 3), ('diz', 3), ('posso', 3), ('general', 3), ('princesa', 3), ('sobre', 2), ('the', 2), ('melhor', 2), ('deus', 2), ('apenas', 2), ('sinto', 2), ('receio', 2), ('tão', 2), ('tipo', 2), ('bom', 2), ('poderia', 2), ('ter', 2), ('algo', 2), ('fluente', 2), ('seis', 2), ('milhões', 2), ('formas', 2), ('deve', 2), ('grande', 2), ('sarlacc', 2), ('algum', 2), ('agora', 2), ('disse', 2), ('boa', 2), ('bastante', 2), ('claro', 1), ('deveria', 1), ('lando', 1), ('calrissian', 1), ('pobre', 1), ('chewbacca', 1), ('voltaram', 1), ('deste', 1), ('tanta', 1), ('contasse', 1), ('metade', 1), ('coisas', 1), ('ouvi', 1), ('provavelmente', 1), ('entraria', 1), ('ninguém', 1), ('voltar', 1), ('contar', 1), ('dê', 1), ('detoowha', 1), ('bo', 1), ('veja', 1), ('três', 1), ('piowha', 1), ('estranho', 1), ('mischka', 1), ('du', 1), ('acho', 1), ('deixar', 1), ('espere', 1), ('entregue', 1), ('tire', 1), ('oh', 1), ('wauaga', 1), ('trazemos', 1), ('instruções', 1), ('dar', 1), ('próprio', 1), ('teimoso', 1), ('mau', 1), ('pressentimento', 1), ('pode', 1), ('jogando', 1), ('capitão', 1), ('ainda', 1), ('congelado', 1), ('acontecido', 1), ('expressou', 1), ('qualquer', 1), ('infelicidade', 1), ('ohh', 1), ('threepio', 1), ('comunicação', 1), ('ilustre', 1), ('dá', 1), ('grado', 1), ('pagará', 1), ('recompensa', 1), ('vinte', 1), ('cinco', 1), ('poderoso', 1), ('pergunta', 1), ('pagar', 1), ('cinquenta', 1), ('porque', 1), ('segurando', 1), ('detonador', 1), ('oferece', 1), ('soma', 1), ('trinta', 1), ('sugiro', 1), ('suporto', 1), ('veio', 1), ('alta', 1), ('decretou', 1), ('exterminado', 1), ('levado', 1), ('mar', 1), ('dunas', 1), ('lançado', 1), ('poço', 1), ('carkoon', 1), ('local', 1), ('nidificação', 1), ('barriga', 1), ('encontrará', 1), ('nova', 1), ('definição', 1), ('dor', 1), ('pois', 1), ('digerido', 1), ('lentamente', 1), ('longo', 1), ('mil', 1), ('fazendo', 1), ('ver', 1), ('servindo', 1), ('executar', 1), ('tomarmos', 1), ('gostaria', 1), ('vítimas', 1), ('excelência', 1), ('espera', 1), ('morram', 1), ('desejar', 1), ('implorar', 1), ('ouvirá', 1), ('onde', 1), ('dificilmente', 1), ('palavra', 1), ('aqui', 1), ('perigoso', 1), ('alguém', 1), ('sabemos', 1), ('bonito', 1), ('temo', 1), ('sensores', 1), ('encontrem', 1), ('vestígios', 1), ('dro', 1), ('usando', 1), ('dialeto', 1), ('acredito', 1), ('pensam', 1), ('peço', 1), ('contra', 1), ('programação', 1), ('personificar', 1), ('prato', 1), ('principal', 1), ('banquete', 1), ('vossa', 1), ('alteza', 1), ('acreditaram', 1), ('elp', 1), ('faça', 1), ('alguma', 1), ('graças', 1), ('soube', 1), ('chegando', 1), ('parte', 1), ('batedores', 1), ('mostrar', 1), ('caminho', 1), ('rápido', 1), ('gerador', 1), ('entrada', 1), ('secreta', 1), ('outro', 1), ('lado', 1), ('companheiro', 1), ('peludo', 1), ('ido', 1), ('feito', 1), ('decidi', 1), ('ficar', 1), ('wa', 1), ('fique', 1), ('procurando', 1), ('indo', 1), ('hora', 1)], 'LEIA': [('vamos', 4), ('vai', 3), ('tudo', 3), ('sair', 2), ('qualquer', 2), ('pode', 2), ('quer', 2), ('deve', 2), ('agora', 2), ('código', 2), ('vou', 2), ('onde', 2), ('alguma', 2), ('poder', 2), ('bunker', 2), ('precisamos', 2), ('alguém', 1), ('tirar', 1), ('amigos', 1), ('arrepender', 1), ('daqui', 1), ('dizer', 1), ('aliança', 1), ('pergunto', 1), ('encontraram', 1), ('fazer', 1), ('conte', 1), ('descobrir', 1), ('vale', 1), ('preço', 1), ('tentar', 1), ('dar', 1), ('pare', 1), ('parece', 1), ('preso', 1), ('problema', 1), ('talvez', 1), ('possa', 1), ('prometo', 1), ('venha', 1), ('comer', 1), ('coisinha', 1), ('threepio', 1), ('devem', 1), ('morreu', 1), ('perguntando', 1), ('fale', 1), ('entendo', 1), ('nunca', 1), ('poderia', 1), ('sempre', 1), ('fuja', 1), ('sentir', 1), ('então', 1), ('saia', 1), ('deste', 1), ('gostaria', 1), ('ir', 1), ('quero', 1), ('ficar', 1), ('pouco', 1), ('posso', 1), ('entrada', 1), ('principal', 1), ('controle', 1), ('fica', 1), ('outro', 1), ('lado', 1), ('plataforma', 1), ('basta', 1), ('soar', 1), ('frota', 1), ('estará', 1), ('aqui', 1), ('dou', 1)], 'VADER': [('imperador', 6), ('lado', 4), ('pode', 3), ('talvez', 3), ('então', 3), ('possa', 2), ('rebelde', 2), ('vai', 2), ('sabre', 2), ('poder', 2), ('sentimentos', 2), ('agora', 2), ('dispensar', 1), ('aqui', 1), ('volta', 1), ('encontrar', 1), ('novas', 1), ('maneiras', 1), ('compartilha', 1), ('avaliação', 1), ('otimista', 1), ('dizer', 1), ('descontente', 1), ('aparente', 1), ('falta', 1), ('espero', 1), ('perdoa', 1), ('tanto', 1), ('quanto', 1), ('estrela', 1), ('morte', 1), ('concluída', 1), ('dentro', 1), ('relatórios', 1), ('frota', 1), ('concentrando', 1), ('perto', 1), ('sullust', 1), ('onde', 1), ('têm', 1), ('autorização', 1), ('lidarei', 1), ('ver', 1), ('pequena', 1), ('força', 1), ('penetrou', 1), ('escudo', 1), ('pousou', 1), ('filho', 1), ('virá', 1), ('bom', 1), ('conduza', 1), ('busca', 1), ('traga', 1), ('companheiros', 1), ('esperando', 1), ('aceitou', 1), ('nome', 1), ('significado', 1), ('vejo', 1), ('construiu', 1), ('novo', 1), ('habilidades', 1), ('pensou', 1), ('conhece', 1), ('devo', 1), ('obedecer', 1), ('tarde', 1), ('demais', 1), ('mostrará', 1), ('verdadeira', 1), ('natureza', 1), ('mestre', 1), ('inútil', 1), ('ensinou', 1), ('imprudente', 1), ('baixar', 1), ('subestima', 1), ('encontrará', 1), ('esconder', 1), ('única', 1), ('maneira', 1), ('salvar', 1), ('pensamentos', 1), ('especialmente', 1), ('irmã', 1), ('traíram', 1), ('sábio', 1), ('fracasso', 1), ('transformar', 1), ('ajude', 1), ('tirar', 1), ('nada', 1), ('parar', 1), ('olhar', 1), ('próprios', 1)], 'LANDO': [('tudo', 5), ('vamos', 4), ('velho', 3), ('todos', 3), ('caças', 3), ('escudo', 3), ('achei', 2), ('pouco', 2), ('deve', 2), ('vai', 2), ('levar', 2), ('todas', 2), ('lutadores', 2), ('destróieres', 2), ('estelares', 2), ('estrela', 2), ('disse', 2), ('alguns', 2), ('grupo', 2), ('energia', 2), ('deixasse', 1), ('congelado', 1), ('desse', 1), ('jeito', 1), ('daria', 1), ('azar', 1), ('resto', 1), ('então', 1), ('melhor', 1), ('descongelar', 1), ('cedo', 1), ('sair', 1), ('dessa', 1), ('miserável', 1), ('bola', 1), ('alguém', 1), ('ter', 1), ('contado', 1), ('sobre', 1), ('pequena', 1), ('manobra', 1), ('batalha', 1), ('taanab', 1), ('surpreso', 1), ('pediram', 1), ('fazer', 1), ('significa', 1), ('vou', 1), ('cuidar', 1), ('bem', 1), ('pode', 1), ('boa', 1), ('amigos', 1), ('lá', 1), ('vão', 1), ('derrubar', 1), ('ofensiva', 1), ('curta', 1), ('alas', 1), ('conseguir', 1), ('algum', 1), ('tipo', 1), ('leitura', 1), ('nesse', 1), ('cima', 1), ('podem', 1), ('atrapalhando', 1), ('sabem', 1), ('interrompa', 1), ('ainda', 1), ('puxe', 1), ('embarcações', 1), ('acelere', 1), ('atacar', 1), ('afaste', 1), ('fogo', 1), ('três', 1), ('apenas', 1), ('pergunto', 1), ('explosão', 1), ('veio', 1), ('coisa', 1), ('home', 1), ('gold', 1), ('outra', 1), ('chance', 1), ('han', 1), ('dar', 1), ('máximo', 1), ('puder', 1), ('enfrente', 1), ('durar', 1), ('contra', 1), ('podemos', 1), ('esquadrão', 1), ('fariam', 1), ('aqui', 1), ('agora', 1), ('trave', 1), ('fonte', 1), ('gerador', 1), ('volte', 1), ('veja', 1), ('consegue', 1), ('desses', 1), ('tie', 1), ('vá', 1), ('regulador', 1), ('torre', 1), ('acho', 1), ('prometi', 1), ('devolver', 1), ('navio', 1), ('espero', 1), ('pirata', 1)]}\n"
          ]
        }
      ],
      "source": [
        "palavras_mais_ditas_ep6 = dict()\n",
        "\n",
        "for personagem in personagens_episodio6:\n",
        "    palavras_mais_ditas_ep6[personagem] = sorted(contador_personagens_ep6[personagem].items(), key=lambda x: x[1], reverse=True)\n",
        "\n",
        "print(palavras_mais_ditas_ep6)"
      ]
    },
    {
      "cell_type": "code",
      "execution_count": 21,
      "metadata": {
        "colab": {
          "base_uri": "https://localhost:8080/"
        },
        "id": "LcS8izUgCzvo",
        "outputId": "0cf9a1e7-65d9-4b81-afdf-0f99c80a4adb"
      },
      "outputs": [
        {
          "name": "stdout",
          "output_type": "stream",
          "text": [
            "{'HAN': [('vamos', 7), ('vai', 7), ('tudo', 6), ('lando', 6), ('acho', 5), ('onde', 4), ('acontecendo', 3), ('pensando', 3), ('grande', 3), ('agora', 3), ('bom', 3), ('nada', 3), ('alguns', 3), ('consigo', 2), ('pode', 2), ('tão', 2), ('borrão', 2), ('pedaço', 2), ('boba', 2), ('ver', 2), ('monte', 2), ('então', 2), ('lá', 2), ('sobre', 2), ('coisa', 2), ('devo', 2), ('olhe', 2), ('ataque', 2), ('disse', 2), ('boa', 2), ('leve', 2), ('ajuda', 2), ('sensação', 2), ('bem', 2), ('fique', 2), ('manter', 2), ('fazer', 2), ('chewie', 2), ('cuidaremos', 2), ('fica', 2), ('ahhh', 2), ('apenas', 2), ('sempre', 2), ('poderia', 2), ('conheço', 1), ('indo', 1), ('pagar', 1), ('desviei', 1), ('pago', 1), ('jogando', 1), ('fortuna', 1), ('luke', 1), ('cuidar', 1), ('si', 1), ('menos', 1), ('resgatar', 1), ('cavaleiro', 1), ('disso', 1), ('mundo', 1), ('delírios', 1), ('juntos', 1), ('odeio', 1), ('longas', 1), ('parece', 1), ('passar', 1), ('olhos', 1), ('vez', 1), ('vejo', 1), ('morrer', 1), ('trêspio', 1), ('diga', 1), ('viscoso', 1), ('imundície', 1), ('cheia', 1), ('vermes', 1), ('tanto', 1), ('prazer', 1), ('quase', 1), ('delicadamente', 1), ('dê', 1), ('confie', 1), ('puxe', 1), ('posso', 1), ('areia', 1), ('congelamento', 1), ('carbono', 1), ('próxima', 1), ('morte', 1), ('dormir', 1), ('deixa', 1), ('caixote', 1), ('vem', 1), ('agradecimentos', 1), ('obrigado', 1), ('vir', 1), ('atrás', 1), ('acabei', 1), ('dizer', 1), ('sabia', 1), ('procurando', 1), ('alguém', 1), ('liderar', 1), ('equipe', 1), ('tripulação', 1), ('comando', 1), ('ônibus', 1), ('queria', 1), ('falar', 1), ('quero', 1), ('falando', 1), ('precisa', 1), ('nave', 1), ('rápida', 1), ('recebi', 1), ('promessa', 1), ('império', 1), ('wookiees', 1), ('mente', 1), ('vê', 1), ('lixo', 1), ('fizerem', 1), ('ter', 1), ('sair', 1), ('daqui', 1), ('shuttle', 1), ('tydirium', 1), ('solicitando', 1), ('desativação', 1), ('escudo', 1), ('início', 1), ('naves', 1), ('mantenha', 1), ('pareça', 1), ('tentando', 1), ('voe', 1), ('pouco', 1), ('otimismo', 1), ('vão', 1), ('levar', 1), ('festa', 1), ('inteira', 1), ('valerá', 1), ('pensei', 1), ('esquadrão', 1), ('encontraremos', 1), ('gerador', 1), ('escudos', 1), ('espero', 1), ('animal', 1), ('aponte', 1), ('outro', 1), ('dizendo', 1), ('usa', 1), ('influência', 1), ('divina', 1), ('tira', 1), ('erro', 1), ('velho', 1), ('amigo', 1), ('mau', 1), ('pressentimento', 1), ('alguma', 1), ('ajudou', 1), ('exatamente', 1), ('curta', 1), ('melhor', 1), ('nenhuma', 1), ('pergunte', 1), ('precisamos', 1), ('suprimentos', 1), ('novos', 1), ('tente', 1), ('pegar', 1), ('armas', 1), ('sim', 1), ('dia', 1), ('contou', 1), ('sinto', 1), ('entramos', 1), ('muitos', 1), ('lugares', 1), ('fortemente', 1), ('vigiados', 1), ('porta', 1), ('deve', 1), ('mal', 1), ('pequena', 1), ('bola', 1), ('resta', 1), ('aqui', 1), ('suponho', 1), ('ligar', 1), ('desça', 1), ('jogue', 1), ('outra', 1)], 'LUKE': [('vai', 8), ('pode', 8), ('posso', 7), ('vader', 6), ('vou', 6), ('apenas', 4), ('lado', 4), ('capitão', 3), ('solo', 3), ('preciso', 3), ('levar', 3), ('ter', 3), ('então', 3), ('fazer', 3), ('deixar', 3), ('vamos', 3), ('pai', 3), ('raiva', 2), ('dois', 2), ('bem', 2), ('devo', 2), ('deveria', 2), ('fique', 2), ('aponte', 2), ('promessa', 2), ('velho', 2), ('mestre', 2), ('darth', 2), ('matar', 2), ('tudo', 2), ('colocando', 2), ('missão', 2), ('threepio', 2), ('diga', 2), ('nunca', 2), ('senti', 2), ('algo', 2), ('bom', 2), ('imperador', 2), ('sinto', 2), ('lutar', 2), ('luke', 1), ('cavaleiro', 1), ('jedi', 1), ('amigo', 1), ('poderoso', 1), ('deve', 1), ('igualmente', 1), ('busco', 1), ('audiência', 1), ('vossa', 1), ('grandeza', 1), ('barganhar', 1), ('vida', 1), ('certeza', 1), ('podemos', 1), ('chegar', 1), ('acordo', 1), ('mutuamente', 1), ('benéfico', 1), ('permita', 1), ('evitar', 1), ('qualquer', 1), ('confronto', 1), ('prova', 1), ('boa', 1), ('vontade', 1), ('apresento', 1), ('ambos', 1), ('trabalhadores', 1), ('irão', 1), ('falar', 1), ('jabba', 1), ('serve', 1), ('permissão', 1), ('trazer', 1), ('wookiee', 1), ('levando', 1), ('lucrar', 1), ('escolha', 1), ('aviso', 1), ('subestimar', 1), ('último', 1), ('erro', 1), ('nada', 1), ('morava', 1), ('perto', 1), ('chewie', 1), ('lando', 1), ('cuidei', 1), ('última', 1), ('pegue', 1), ('esqueça', 1), ('muita', 1), ('pense', 1), ('vejo', 1), ('cumprir', 1), ('encontro', 1), ('indo', 1), ('sistema', 1), ('claro', 1), ('voltei', 1), ('completar', 1), ('infeliz', 1), ('saiba', 1), ('continuar', 1), ('disse', 1), ('traiu', 1), ('assassinou', 1), ('certo', 1), ('ponto', 1), ('ainda', 1), ('coisas', 1), ('boas', 1), ('tentei', 1), ('ajudar', 1), ('descobri', 1), ('próprio', 1), ('yoda', 1), ('falou', 1), ('leia', 1), ('envolver', 1), ('novo', 1), ('algum', 1), ('chegando', 1), ('naquele', 1), ('bloqueie', 1), ('comlink', 1), ('interruptor', 1), ('continue', 1), ('melhor', 1), ('irmos', 1), ('precisar', 1), ('speeders', 1), ('destruídos', 1), ('lá', 1), ('encontrei', 1), ('wa', 1), ('descobrir', 1), ('maneira', 1), ('sair', 1), ('dessa', 1), ('alcançar', 1), ('sabre', 1), ('faça', 1), ('ficar', 1), ('dê', 1), ('entende', 1), ('alguma', 1), ('coisa', 1), ('fizerem', 1), ('ficará', 1), ('usará', 1), ('lembra', 1), ('mãe', 1), ('lembro', 1), ('nesta', 1), ('presença', 1), ('veio', 1), ('sentir', 1), ('enquanto', 1), ('risco', 1), ('grupo', 1), ('fácil', 1), ('única', 1), ('esperança', 1), ('tempo', 1), ('aprenderá', 1), ('força', 1), ('forte', 1), ('irmã', 1), ('sabe', 1), ('porque', 1), ('sempre', 1), ('entregar', 1), ('volta', 1), ('aceitei', 1), ('verdade', 1), ('anakin', 1), ('nome', 1), ('verdadeiro', 1), ('tirou', 1), ('completamente', 1), ('venha', 1), ('forçado', 1), ('procure', 1), ('conflito', 1), ('dentro', 1), ('deixe', 1), ('realmente', 1), ('gravemente', 1), ('converter', 1), ('fez', 1), ('logo', 1), ('estarei', 1), ('excesso', 1), ('confiança', 1), ('pensamentos', 1), ('conseguiu', 1), ('acredito', 1), ('vá', 1), ('destruir', 1), ('voltar', 1), ('antes', 1), ('vem', 1)], 'LEIA': [('vamos', 4), ('vai', 3), ('tudo', 3), ('sair', 2), ('qualquer', 2), ('pode', 2), ('quer', 2), ('deve', 2), ('agora', 2), ('código', 2), ('vou', 2), ('onde', 2), ('alguma', 2), ('poder', 2), ('bunker', 2), ('precisamos', 2), ('alguém', 1), ('tirar', 1), ('amigos', 1), ('arrepender', 1), ('daqui', 1), ('dizer', 1), ('aliança', 1), ('pergunto', 1), ('encontraram', 1), ('fazer', 1), ('conte', 1), ('descobrir', 1), ('vale', 1), ('preço', 1), ('tentar', 1), ('dar', 1), ('pare', 1), ('parece', 1), ('preso', 1), ('problema', 1), ('talvez', 1), ('possa', 1), ('prometo', 1), ('venha', 1), ('comer', 1), ('coisinha', 1), ('threepio', 1), ('devem', 1), ('morreu', 1), ('perguntando', 1), ('fale', 1), ('entendo', 1), ('nunca', 1), ('poderia', 1), ('sempre', 1), ('fuja', 1), ('sentir', 1), ('então', 1), ('saia', 1), ('deste', 1), ('gostaria', 1), ('ir', 1), ('quero', 1), ('ficar', 1), ('pouco', 1), ('posso', 1), ('entrada', 1), ('principal', 1), ('controle', 1), ('fica', 1), ('outro', 1), ('lado', 1), ('plataforma', 1), ('basta', 1), ('soar', 1), ('frota', 1), ('estará', 1), ('aqui', 1), ('dou', 1)], 'THREEPIO': [('mestre', 13), ('jabba', 6), ('ohhh', 5), ('nunca', 3), ('lugar', 3), ('certeza', 3), ('parece', 3), ('vamos', 3), ('artoo', 3), ('vão', 3), ('mensagem', 3), ('luke', 3), ('diz', 3), ('posso', 3), ('general', 3), ('princesa', 3), ('sobre', 2), ('the', 2), ('melhor', 2), ('deus', 2), ('apenas', 2), ('sinto', 2), ('receio', 2), ('tão', 2), ('tipo', 2), ('bom', 2), ('poderia', 2), ('ter', 2), ('algo', 2), ('fluente', 2), ('seis', 2), ('milhões', 2), ('formas', 2), ('deve', 2), ('grande', 2), ('sarlacc', 2), ('algum', 2), ('agora', 2), ('disse', 2), ('boa', 2), ('bastante', 2), ('claro', 1), ('deveria', 1), ('lando', 1), ('calrissian', 1), ('pobre', 1), ('chewbacca', 1), ('voltaram', 1), ('deste', 1), ('tanta', 1), ('contasse', 1), ('metade', 1), ('coisas', 1), ('ouvi', 1), ('provavelmente', 1), ('entraria', 1), ('ninguém', 1), ('voltar', 1), ('contar', 1), ('dê', 1), ('detoowha', 1), ('bo', 1), ('veja', 1), ('três', 1), ('piowha', 1), ('estranho', 1), ('mischka', 1), ('du', 1), ('acho', 1), ('deixar', 1), ('espere', 1), ('entregue', 1), ('tire', 1), ('oh', 1), ('wauaga', 1), ('trazemos', 1), ('instruções', 1), ('dar', 1), ('próprio', 1), ('teimoso', 1), ('mau', 1), ('pressentimento', 1), ('pode', 1), ('jogando', 1), ('capitão', 1), ('ainda', 1), ('congelado', 1), ('acontecido', 1), ('expressou', 1), ('qualquer', 1), ('infelicidade', 1), ('ohh', 1), ('threepio', 1), ('comunicação', 1), ('ilustre', 1), ('dá', 1), ('grado', 1), ('pagará', 1), ('recompensa', 1), ('vinte', 1), ('cinco', 1), ('poderoso', 1), ('pergunta', 1), ('pagar', 1), ('cinquenta', 1), ('porque', 1), ('segurando', 1), ('detonador', 1), ('oferece', 1), ('soma', 1), ('trinta', 1), ('sugiro', 1), ('suporto', 1), ('veio', 1), ('alta', 1), ('decretou', 1), ('exterminado', 1), ('levado', 1), ('mar', 1), ('dunas', 1), ('lançado', 1), ('poço', 1), ('carkoon', 1), ('local', 1), ('nidificação', 1), ('barriga', 1), ('encontrará', 1), ('nova', 1), ('definição', 1), ('dor', 1), ('pois', 1), ('digerido', 1), ('lentamente', 1), ('longo', 1), ('mil', 1), ('fazendo', 1), ('ver', 1), ('servindo', 1), ('executar', 1), ('tomarmos', 1), ('gostaria', 1), ('vítimas', 1), ('excelência', 1), ('espera', 1), ('morram', 1), ('desejar', 1), ('implorar', 1), ('ouvirá', 1), ('onde', 1), ('dificilmente', 1), ('palavra', 1), ('aqui', 1), ('perigoso', 1), ('alguém', 1), ('sabemos', 1), ('bonito', 1), ('temo', 1), ('sensores', 1), ('encontrem', 1), ('vestígios', 1), ('dro', 1), ('usando', 1), ('dialeto', 1), ('acredito', 1), ('pensam', 1), ('peço', 1), ('contra', 1), ('programação', 1), ('personificar', 1), ('prato', 1), ('principal', 1), ('banquete', 1), ('vossa', 1), ('alteza', 1), ('acreditaram', 1), ('elp', 1), ('faça', 1), ('alguma', 1), ('graças', 1), ('soube', 1), ('chegando', 1), ('parte', 1), ('batedores', 1), ('mostrar', 1), ('caminho', 1), ('rápido', 1), ('gerador', 1), ('entrada', 1), ('secreta', 1), ('outro', 1), ('lado', 1), ('companheiro', 1), ('peludo', 1), ('ido', 1), ('feito', 1), ('decidi', 1), ('ficar', 1), ('wa', 1), ('fique', 1), ('procurando', 1), ('indo', 1), ('hora', 1)], 'LANDO': [('tudo', 5), ('vamos', 4), ('velho', 3), ('todos', 3), ('caças', 3), ('escudo', 3), ('achei', 2), ('pouco', 2), ('deve', 2), ('vai', 2), ('levar', 2), ('todas', 2), ('lutadores', 2), ('destróieres', 2), ('estelares', 2), ('estrela', 2), ('disse', 2), ('alguns', 2), ('grupo', 2), ('energia', 2), ('deixasse', 1), ('congelado', 1), ('desse', 1), ('jeito', 1), ('daria', 1), ('azar', 1), ('resto', 1), ('então', 1), ('melhor', 1), ('descongelar', 1), ('cedo', 1), ('sair', 1), ('dessa', 1), ('miserável', 1), ('bola', 1), ('alguém', 1), ('ter', 1), ('contado', 1), ('sobre', 1), ('pequena', 1), ('manobra', 1), ('batalha', 1), ('taanab', 1), ('surpreso', 1), ('pediram', 1), ('fazer', 1), ('significa', 1), ('vou', 1), ('cuidar', 1), ('bem', 1), ('pode', 1), ('boa', 1), ('amigos', 1), ('lá', 1), ('vão', 1), ('derrubar', 1), ('ofensiva', 1), ('curta', 1), ('alas', 1), ('conseguir', 1), ('algum', 1), ('tipo', 1), ('leitura', 1), ('nesse', 1), ('cima', 1), ('podem', 1), ('atrapalhando', 1), ('sabem', 1), ('interrompa', 1), ('ainda', 1), ('puxe', 1), ('embarcações', 1), ('acelere', 1), ('atacar', 1), ('afaste', 1), ('fogo', 1), ('três', 1), ('apenas', 1), ('pergunto', 1), ('explosão', 1), ('veio', 1), ('coisa', 1), ('home', 1), ('gold', 1), ('outra', 1), ('chance', 1), ('han', 1), ('dar', 1), ('máximo', 1), ('puder', 1), ('enfrente', 1), ('durar', 1), ('contra', 1), ('podemos', 1), ('esquadrão', 1), ('fariam', 1), ('aqui', 1), ('agora', 1), ('trave', 1), ('fonte', 1), ('gerador', 1), ('volte', 1), ('veja', 1), ('consegue', 1), ('desses', 1), ('tie', 1), ('vá', 1), ('regulador', 1), ('torre', 1), ('acho', 1), ('prometi', 1), ('devolver', 1), ('navio', 1), ('espero', 1), ('pirata', 1)], 'VADER': [('imperador', 6), ('lado', 4), ('pode', 3), ('talvez', 3), ('então', 3), ('possa', 2), ('rebelde', 2), ('vai', 2), ('sabre', 2), ('poder', 2), ('sentimentos', 2), ('agora', 2), ('dispensar', 1), ('aqui', 1), ('volta', 1), ('encontrar', 1), ('novas', 1), ('maneiras', 1), ('compartilha', 1), ('avaliação', 1), ('otimista', 1), ('dizer', 1), ('descontente', 1), ('aparente', 1), ('falta', 1), ('espero', 1), ('perdoa', 1), ('tanto', 1), ('quanto', 1), ('estrela', 1), ('morte', 1), ('concluída', 1), ('dentro', 1), ('relatórios', 1), ('frota', 1), ('concentrando', 1), ('perto', 1), ('sullust', 1), ('onde', 1), ('têm', 1), ('autorização', 1), ('lidarei', 1), ('ver', 1), ('pequena', 1), ('força', 1), ('penetrou', 1), ('escudo', 1), ('pousou', 1), ('filho', 1), ('virá', 1), ('bom', 1), ('conduza', 1), ('busca', 1), ('traga', 1), ('companheiros', 1), ('esperando', 1), ('aceitou', 1), ('nome', 1), ('significado', 1), ('vejo', 1), ('construiu', 1), ('novo', 1), ('habilidades', 1), ('pensou', 1), ('conhece', 1), ('devo', 1), ('obedecer', 1), ('tarde', 1), ('demais', 1), ('mostrará', 1), ('verdadeira', 1), ('natureza', 1), ('mestre', 1), ('inútil', 1), ('ensinou', 1), ('imprudente', 1), ('baixar', 1), ('subestima', 1), ('encontrará', 1), ('esconder', 1), ('única', 1), ('maneira', 1), ('salvar', 1), ('pensamentos', 1), ('especialmente', 1), ('irmã', 1), ('traíram', 1), ('sábio', 1), ('fracasso', 1), ('transformar', 1), ('ajude', 1), ('tirar', 1), ('nada', 1), ('parar', 1), ('olhar', 1), ('próprios', 1)]}\n"
          ]
        }
      ],
      "source": [
        "palavras_mais_ditas_ep5 = dict()\n",
        "\n",
        "for personagem in personagens_episodio5:\n",
        "    palavras_mais_ditas_ep5[personagem] = sorted(contador_personagens_ep5[personagem].items(), key=lambda x: x[1], reverse=True)\n",
        "\n",
        "print(palavras_mais_ditas_ep5)"
      ]
    },
    {
      "cell_type": "code",
      "execution_count": 22,
      "metadata": {
        "colab": {
          "base_uri": "https://localhost:8080/"
        },
        "id": "6e-XPwrQCzvo",
        "outputId": "741b1f81-2b9a-4b61-ed17-d48f3b0d7a9b"
      },
      "outputs": [
        {
          "name": "stdout",
          "output_type": "stream",
          "text": [
            "{'LUKE': [('vai', 8), ('pode', 8), ('posso', 7), ('vader', 6), ('vou', 6), ('apenas', 4), ('lado', 4), ('capitão', 3), ('solo', 3), ('preciso', 3), ('levar', 3), ('ter', 3), ('então', 3), ('fazer', 3), ('deixar', 3), ('vamos', 3), ('pai', 3), ('raiva', 2), ('dois', 2), ('bem', 2), ('devo', 2), ('deveria', 2), ('fique', 2), ('aponte', 2), ('promessa', 2), ('velho', 2), ('mestre', 2), ('darth', 2), ('matar', 2), ('tudo', 2), ('colocando', 2), ('missão', 2), ('threepio', 2), ('diga', 2), ('nunca', 2), ('senti', 2), ('algo', 2), ('bom', 2), ('imperador', 2), ('sinto', 2), ('lutar', 2), ('luke', 1), ('cavaleiro', 1), ('jedi', 1), ('amigo', 1), ('poderoso', 1), ('deve', 1), ('igualmente', 1), ('busco', 1), ('audiência', 1), ('vossa', 1), ('grandeza', 1), ('barganhar', 1), ('vida', 1), ('certeza', 1), ('podemos', 1), ('chegar', 1), ('acordo', 1), ('mutuamente', 1), ('benéfico', 1), ('permita', 1), ('evitar', 1), ('qualquer', 1), ('confronto', 1), ('prova', 1), ('boa', 1), ('vontade', 1), ('apresento', 1), ('ambos', 1), ('trabalhadores', 1), ('irão', 1), ('falar', 1), ('jabba', 1), ('serve', 1), ('permissão', 1), ('trazer', 1), ('wookiee', 1), ('levando', 1), ('lucrar', 1), ('escolha', 1), ('aviso', 1), ('subestimar', 1), ('último', 1), ('erro', 1), ('nada', 1), ('morava', 1), ('perto', 1), ('chewie', 1), ('lando', 1), ('cuidei', 1), ('última', 1), ('pegue', 1), ('esqueça', 1), ('muita', 1), ('pense', 1), ('vejo', 1), ('cumprir', 1), ('encontro', 1), ('indo', 1), ('sistema', 1), ('claro', 1), ('voltei', 1), ('completar', 1), ('infeliz', 1), ('saiba', 1), ('continuar', 1), ('disse', 1), ('traiu', 1), ('assassinou', 1), ('certo', 1), ('ponto', 1), ('ainda', 1), ('coisas', 1), ('boas', 1), ('tentei', 1), ('ajudar', 1), ('descobri', 1), ('próprio', 1), ('yoda', 1), ('falou', 1), ('leia', 1), ('envolver', 1), ('novo', 1), ('algum', 1), ('chegando', 1), ('naquele', 1), ('bloqueie', 1), ('comlink', 1), ('interruptor', 1), ('continue', 1), ('melhor', 1), ('irmos', 1), ('precisar', 1), ('speeders', 1), ('destruídos', 1), ('lá', 1), ('encontrei', 1), ('wa', 1), ('descobrir', 1), ('maneira', 1), ('sair', 1), ('dessa', 1), ('alcançar', 1), ('sabre', 1), ('faça', 1), ('ficar', 1), ('dê', 1), ('entende', 1), ('alguma', 1), ('coisa', 1), ('fizerem', 1), ('ficará', 1), ('usará', 1), ('lembra', 1), ('mãe', 1), ('lembro', 1), ('nesta', 1), ('presença', 1), ('veio', 1), ('sentir', 1), ('enquanto', 1), ('risco', 1), ('grupo', 1), ('fácil', 1), ('única', 1), ('esperança', 1), ('tempo', 1), ('aprenderá', 1), ('força', 1), ('forte', 1), ('irmã', 1), ('sabe', 1), ('porque', 1), ('sempre', 1), ('entregar', 1), ('volta', 1), ('aceitei', 1), ('verdade', 1), ('anakin', 1), ('nome', 1), ('verdadeiro', 1), ('tirou', 1), ('completamente', 1), ('venha', 1), ('forçado', 1), ('procure', 1), ('conflito', 1), ('dentro', 1), ('deixe', 1), ('realmente', 1), ('gravemente', 1), ('converter', 1), ('fez', 1), ('logo', 1), ('estarei', 1), ('excesso', 1), ('confiança', 1), ('pensamentos', 1), ('conseguiu', 1), ('acredito', 1), ('vá', 1), ('destruir', 1), ('voltar', 1), ('antes', 1), ('vem', 1)], 'HAN': [('vamos', 7), ('vai', 7), ('tudo', 6), ('lando', 6), ('acho', 5), ('onde', 4), ('acontecendo', 3), ('pensando', 3), ('grande', 3), ('agora', 3), ('bom', 3), ('nada', 3), ('alguns', 3), ('consigo', 2), ('pode', 2), ('tão', 2), ('borrão', 2), ('pedaço', 2), ('boba', 2), ('ver', 2), ('monte', 2), ('então', 2), ('lá', 2), ('sobre', 2), ('coisa', 2), ('devo', 2), ('olhe', 2), ('ataque', 2), ('disse', 2), ('boa', 2), ('leve', 2), ('ajuda', 2), ('sensação', 2), ('bem', 2), ('fique', 2), ('manter', 2), ('fazer', 2), ('chewie', 2), ('cuidaremos', 2), ('fica', 2), ('ahhh', 2), ('apenas', 2), ('sempre', 2), ('poderia', 2), ('conheço', 1), ('indo', 1), ('pagar', 1), ('desviei', 1), ('pago', 1), ('jogando', 1), ('fortuna', 1), ('luke', 1), ('cuidar', 1), ('si', 1), ('menos', 1), ('resgatar', 1), ('cavaleiro', 1), ('disso', 1), ('mundo', 1), ('delírios', 1), ('juntos', 1), ('odeio', 1), ('longas', 1), ('parece', 1), ('passar', 1), ('olhos', 1), ('vez', 1), ('vejo', 1), ('morrer', 1), ('trêspio', 1), ('diga', 1), ('viscoso', 1), ('imundície', 1), ('cheia', 1), ('vermes', 1), ('tanto', 1), ('prazer', 1), ('quase', 1), ('delicadamente', 1), ('dê', 1), ('confie', 1), ('puxe', 1), ('posso', 1), ('areia', 1), ('congelamento', 1), ('carbono', 1), ('próxima', 1), ('morte', 1), ('dormir', 1), ('deixa', 1), ('caixote', 1), ('vem', 1), ('agradecimentos', 1), ('obrigado', 1), ('vir', 1), ('atrás', 1), ('acabei', 1), ('dizer', 1), ('sabia', 1), ('procurando', 1), ('alguém', 1), ('liderar', 1), ('equipe', 1), ('tripulação', 1), ('comando', 1), ('ônibus', 1), ('queria', 1), ('falar', 1), ('quero', 1), ('falando', 1), ('precisa', 1), ('nave', 1), ('rápida', 1), ('recebi', 1), ('promessa', 1), ('império', 1), ('wookiees', 1), ('mente', 1), ('vê', 1), ('lixo', 1), ('fizerem', 1), ('ter', 1), ('sair', 1), ('daqui', 1), ('shuttle', 1), ('tydirium', 1), ('solicitando', 1), ('desativação', 1), ('escudo', 1), ('início', 1), ('naves', 1), ('mantenha', 1), ('pareça', 1), ('tentando', 1), ('voe', 1), ('pouco', 1), ('otimismo', 1), ('vão', 1), ('levar', 1), ('festa', 1), ('inteira', 1), ('valerá', 1), ('pensei', 1), ('esquadrão', 1), ('encontraremos', 1), ('gerador', 1), ('escudos', 1), ('espero', 1), ('animal', 1), ('aponte', 1), ('outro', 1), ('dizendo', 1), ('usa', 1), ('influência', 1), ('divina', 1), ('tira', 1), ('erro', 1), ('velho', 1), ('amigo', 1), ('mau', 1), ('pressentimento', 1), ('alguma', 1), ('ajudou', 1), ('exatamente', 1), ('curta', 1), ('melhor', 1), ('nenhuma', 1), ('pergunte', 1), ('precisamos', 1), ('suprimentos', 1), ('novos', 1), ('tente', 1), ('pegar', 1), ('armas', 1), ('sim', 1), ('dia', 1), ('contou', 1), ('sinto', 1), ('entramos', 1), ('muitos', 1), ('lugares', 1), ('fortemente', 1), ('vigiados', 1), ('porta', 1), ('deve', 1), ('mal', 1), ('pequena', 1), ('bola', 1), ('resta', 1), ('aqui', 1), ('suponho', 1), ('ligar', 1), ('desça', 1), ('jogue', 1), ('outra', 1)], 'THREEPIO': [('mestre', 13), ('jabba', 6), ('ohhh', 5), ('nunca', 3), ('lugar', 3), ('certeza', 3), ('parece', 3), ('vamos', 3), ('artoo', 3), ('vão', 3), ('mensagem', 3), ('luke', 3), ('diz', 3), ('posso', 3), ('general', 3), ('princesa', 3), ('sobre', 2), ('the', 2), ('melhor', 2), ('deus', 2), ('apenas', 2), ('sinto', 2), ('receio', 2), ('tão', 2), ('tipo', 2), ('bom', 2), ('poderia', 2), ('ter', 2), ('algo', 2), ('fluente', 2), ('seis', 2), ('milhões', 2), ('formas', 2), ('deve', 2), ('grande', 2), ('sarlacc', 2), ('algum', 2), ('agora', 2), ('disse', 2), ('boa', 2), ('bastante', 2), ('claro', 1), ('deveria', 1), ('lando', 1), ('calrissian', 1), ('pobre', 1), ('chewbacca', 1), ('voltaram', 1), ('deste', 1), ('tanta', 1), ('contasse', 1), ('metade', 1), ('coisas', 1), ('ouvi', 1), ('provavelmente', 1), ('entraria', 1), ('ninguém', 1), ('voltar', 1), ('contar', 1), ('dê', 1), ('detoowha', 1), ('bo', 1), ('veja', 1), ('três', 1), ('piowha', 1), ('estranho', 1), ('mischka', 1), ('du', 1), ('acho', 1), ('deixar', 1), ('espere', 1), ('entregue', 1), ('tire', 1), ('oh', 1), ('wauaga', 1), ('trazemos', 1), ('instruções', 1), ('dar', 1), ('próprio', 1), ('teimoso', 1), ('mau', 1), ('pressentimento', 1), ('pode', 1), ('jogando', 1), ('capitão', 1), ('ainda', 1), ('congelado', 1), ('acontecido', 1), ('expressou', 1), ('qualquer', 1), ('infelicidade', 1), ('ohh', 1), ('threepio', 1), ('comunicação', 1), ('ilustre', 1), ('dá', 1), ('grado', 1), ('pagará', 1), ('recompensa', 1), ('vinte', 1), ('cinco', 1), ('poderoso', 1), ('pergunta', 1), ('pagar', 1), ('cinquenta', 1), ('porque', 1), ('segurando', 1), ('detonador', 1), ('oferece', 1), ('soma', 1), ('trinta', 1), ('sugiro', 1), ('suporto', 1), ('veio', 1), ('alta', 1), ('decretou', 1), ('exterminado', 1), ('levado', 1), ('mar', 1), ('dunas', 1), ('lançado', 1), ('poço', 1), ('carkoon', 1), ('local', 1), ('nidificação', 1), ('barriga', 1), ('encontrará', 1), ('nova', 1), ('definição', 1), ('dor', 1), ('pois', 1), ('digerido', 1), ('lentamente', 1), ('longo', 1), ('mil', 1), ('fazendo', 1), ('ver', 1), ('servindo', 1), ('executar', 1), ('tomarmos', 1), ('gostaria', 1), ('vítimas', 1), ('excelência', 1), ('espera', 1), ('morram', 1), ('desejar', 1), ('implorar', 1), ('ouvirá', 1), ('onde', 1), ('dificilmente', 1), ('palavra', 1), ('aqui', 1), ('perigoso', 1), ('alguém', 1), ('sabemos', 1), ('bonito', 1), ('temo', 1), ('sensores', 1), ('encontrem', 1), ('vestígios', 1), ('dro', 1), ('usando', 1), ('dialeto', 1), ('acredito', 1), ('pensam', 1), ('peço', 1), ('contra', 1), ('programação', 1), ('personificar', 1), ('prato', 1), ('principal', 1), ('banquete', 1), ('vossa', 1), ('alteza', 1), ('acreditaram', 1), ('elp', 1), ('faça', 1), ('alguma', 1), ('graças', 1), ('soube', 1), ('chegando', 1), ('parte', 1), ('batedores', 1), ('mostrar', 1), ('caminho', 1), ('rápido', 1), ('gerador', 1), ('entrada', 1), ('secreta', 1), ('outro', 1), ('lado', 1), ('companheiro', 1), ('peludo', 1), ('ido', 1), ('feito', 1), ('decidi', 1), ('ficar', 1), ('wa', 1), ('fique', 1), ('procurando', 1), ('indo', 1), ('hora', 1)], 'BEN': [('pai', 9), ('lado', 5), ('poderia', 4), ('anakin', 3), ('tornou', 3), ('então', 3), ('bem', 3), ('vader', 3), ('deve', 3), ('enfrentar', 3), ('mãe', 3), ('sempre', 2), ('seduzido', 2), ('darth', 2), ('bom', 2), ('ponto', 2), ('sido', 2), ('força', 2), ('tão', 2), ('voltar', 2), ('conseguiu', 2), ('imperador', 2), ('irmã', 2), ('dois', 2), ('sabia', 2), ('leia', 2), ('alderaan', 2), ('família', 2), ('politicamente', 2), ('caminho', 2), ('yoda', 1), ('estará', 1), ('negro', 1), ('deixou', 1), ('skywalker', 1), ('homem', 1), ('disse', 1), ('certo', 1), ('vai', 1), ('descobrir', 1), ('muitas', 1), ('verdades', 1), ('quais', 1), ('apegamos', 1), ('dependem', 1), ('próprio', 1), ('culpo', 1), ('errado', 1), ('certamente', 1), ('primeira', 1), ('aconteceu', 1), ('culpa', 1), ('grande', 1), ('fiquei', 1), ('impressionado', 1), ('decidi', 1), ('achei', 1), ('quanto', 1), ('orgulho', 1), ('consequências', 1), ('terríveis', 1), ('pensei', 1), ('máquina', 1), ('agora', 1), ('retorcido', 1), ('pode', 1), ('escapar', 1), ('humilhou', 1), ('ter', 1), ('terminado', 1), ('treinamento', 1), ('aqui', 1), ('estaria', 1), ('pouco', 1), ('ir', 1), ('além', 1), ('sombrio', 1), ('impaciência', 1), ('porta', 1), ('fácil', 1), ('encontrou', 1), ('outro', 1), ('manteve', 1), ('imprudente', 1), ('forte', 1), ('única', 1), ('outra', 1), ('falou', 1), ('proteger', 1), ('escondidos', 1), ('ameaça', 1), ('razão', 1), ('permanece', 1), ('seguramente', 1), ('percepção', 1), ('serve', 1), ('enterre', 1), ('sentimentos', 1), ('dão', 1), ('podem', 1), ('feitos', 1), ('servir', 1), ('sabíamos', 1), ('descobriria', 1), ('queríamos', 1), ('manter', 1), ('seguros', 1), ('maior', 1), ('tempo', 1), ('levei', 1), ('morar', 1), ('irmão', 1), ('owen', 1), ('levou', 1), ('viver', 1), ('filha', 1), ('senador', 1), ('organa', 1), ('nascida', 1), ('bastante', 1), ('poderosa', 1), ('naquele', 1), ('princesa', 1), ('virtude', 1), ('ninguém', 1), ('havia', 1), ('poder', 1), ('democracia', 1), ('continuou', 1), ('seguindo', 1), ('senadora', 1), ('tudo', 1), ('líder', 1), ('célula', 1), ('aliança', 1), ('contra', 1), ('império', 1), ('porque', 1), ('imunidade', 1), ('elo', 1), ('vital', 1), ('obter', 1), ('informações', 1), ('causa', 1), ('fazendo', 1), ('cruzou', 1), ('pais', 1), ('adotivos', 1), ('disseram', 1), ('entrar', 1), ('contato', 1), ('comigo', 1), ('problemas', 1), ('tornassem', 1), ('treinada', 1), ('caminhos', 1), ('jedi', 1), ('destruir', 1)], 'LEIA': [('vamos', 4), ('vai', 3), ('tudo', 3), ('sair', 2), ('qualquer', 2), ('pode', 2), ('quer', 2), ('deve', 2), ('agora', 2), ('código', 2), ('vou', 2), ('onde', 2), ('alguma', 2), ('poder', 2), ('bunker', 2), ('precisamos', 2), ('alguém', 1), ('tirar', 1), ('amigos', 1), ('arrepender', 1), ('daqui', 1), ('dizer', 1), ('aliança', 1), ('pergunto', 1), ('encontraram', 1), ('fazer', 1), ('conte', 1), ('descobrir', 1), ('vale', 1), ('preço', 1), ('tentar', 1), ('dar', 1), ('pare', 1), ('parece', 1), ('preso', 1), ('problema', 1), ('talvez', 1), ('possa', 1), ('prometo', 1), ('venha', 1), ('comer', 1), ('coisinha', 1), ('threepio', 1), ('devem', 1), ('morreu', 1), ('perguntando', 1), ('fale', 1), ('entendo', 1), ('nunca', 1), ('poderia', 1), ('sempre', 1), ('fuja', 1), ('sentir', 1), ('então', 1), ('saia', 1), ('deste', 1), ('gostaria', 1), ('ir', 1), ('quero', 1), ('ficar', 1), ('pouco', 1), ('posso', 1), ('entrada', 1), ('principal', 1), ('controle', 1), ('fica', 1), ('outro', 1), ('lado', 1), ('plataforma', 1), ('basta', 1), ('soar', 1), ('frota', 1), ('estará', 1), ('aqui', 1), ('dou', 1)], 'VADER': [('imperador', 6), ('lado', 4), ('pode', 3), ('talvez', 3), ('então', 3), ('possa', 2), ('rebelde', 2), ('vai', 2), ('sabre', 2), ('poder', 2), ('sentimentos', 2), ('agora', 2), ('dispensar', 1), ('aqui', 1), ('volta', 1), ('encontrar', 1), ('novas', 1), ('maneiras', 1), ('compartilha', 1), ('avaliação', 1), ('otimista', 1), ('dizer', 1), ('descontente', 1), ('aparente', 1), ('falta', 1), ('espero', 1), ('perdoa', 1), ('tanto', 1), ('quanto', 1), ('estrela', 1), ('morte', 1), ('concluída', 1), ('dentro', 1), ('relatórios', 1), ('frota', 1), ('concentrando', 1), ('perto', 1), ('sullust', 1), ('onde', 1), ('têm', 1), ('autorização', 1), ('lidarei', 1), ('ver', 1), ('pequena', 1), ('força', 1), ('penetrou', 1), ('escudo', 1), ('pousou', 1), ('filho', 1), ('virá', 1), ('bom', 1), ('conduza', 1), ('busca', 1), ('traga', 1), ('companheiros', 1), ('esperando', 1), ('aceitou', 1), ('nome', 1), ('significado', 1), ('vejo', 1), ('construiu', 1), ('novo', 1), ('habilidades', 1), ('pensou', 1), ('conhece', 1), ('devo', 1), ('obedecer', 1), ('tarde', 1), ('demais', 1), ('mostrará', 1), ('verdadeira', 1), ('natureza', 1), ('mestre', 1), ('inútil', 1), ('ensinou', 1), ('imprudente', 1), ('baixar', 1), ('subestima', 1), ('encontrará', 1), ('esconder', 1), ('única', 1), ('maneira', 1), ('salvar', 1), ('pensamentos', 1), ('especialmente', 1), ('irmã', 1), ('traíram', 1), ('sábio', 1), ('fracasso', 1), ('transformar', 1), ('ajude', 1), ('tirar', 1), ('nada', 1), ('parar', 1), ('olhar', 1), ('próprios', 1)]}\n"
          ]
        }
      ],
      "source": [
        "palavras_mais_ditas_ep4 = dict()\n",
        "\n",
        "for personagem in personagens_episodio4:\n",
        "    palavras_mais_ditas_ep4[personagem] = sorted(contador_personagens_ep4[personagem].items(), key=lambda x: x[1], reverse=True)\n",
        "\n",
        "print(palavras_mais_ditas_ep4)"
      ]
    },
    {
      "cell_type": "code",
      "execution_count": 23,
      "metadata": {
        "id": "EDZGNFvaCzvo"
      },
      "outputs": [],
      "source": [
        "for personagem, palavras in palavras_mais_ditas_ep4.items():\n",
        "    df = pd.DataFrame(palavras, columns=[\"palavra\", \"quantidade\"])\n",
        "    df.to_csv(f\"{path}palavras-personagens/EP4/{personagem}.csv\", index=False)"
      ]
    },
    {
      "cell_type": "code",
      "execution_count": 24,
      "metadata": {
        "id": "iGDvzv53Czvo"
      },
      "outputs": [],
      "source": [
        "for personagem, palavras in palavras_mais_ditas_ep5.items():\n",
        "    df = pd.DataFrame(palavras, columns=[\"palavra\", \"quantidade\"])\n",
        "    df.to_csv(f\"{path}palavras-personagens/EP5/{personagem}.csv\", index=False)"
      ]
    },
    {
      "cell_type": "code",
      "execution_count": 25,
      "metadata": {
        "id": "TjtQuJATCzvo"
      },
      "outputs": [],
      "source": [
        "for personagem, palavras in palavras_mais_ditas_ep6.items():\n",
        "    df = pd.DataFrame(palavras, columns=[\"palavra\", \"quantidade\"])\n",
        "    df.to_csv(f\"{path}palavras-personagens/EP6/{personagem}.csv\", index=False)"
      ]
    },
    {
      "cell_type": "markdown",
      "metadata": {
        "id": "V9zk5nnQCzvo"
      },
      "source": [
        "PERSONAGEM MAIS APARECE: LUKE E HAN"
      ]
    },
    {
      "cell_type": "markdown",
      "metadata": {
        "id": "pxARrkB8Czvo"
      },
      "source": [
        "PERSONAGEM MENOS APARECE: (REFAZER GRÁFICO INVERSO DOS QUE MAIS APARECEM)"
      ]
    },
    {
      "cell_type": "markdown",
      "metadata": {
        "id": "o0in5R9vCzvo"
      },
      "source": [
        "PERSONAGEM MAIS POSITIVO:"
      ]
    },
    {
      "cell_type": "markdown",
      "metadata": {
        "id": "jKJ8CcT2Czvo"
      },
      "source": [
        "PERSONAGEM MAIS NEGATIVO:"
      ]
    }
  ],
  "metadata": {
    "colab": {
      "provenance": []
    },
    "kernelspec": {
      "display_name": "Python 3",
      "name": "python3"
    },
    "language_info": {
      "codemirror_mode": {
        "name": "ipython",
        "version": 3
      },
      "file_extension": ".py",
      "mimetype": "text/x-python",
      "name": "python",
      "nbconvert_exporter": "python",
      "pygments_lexer": "ipython3",
      "version": "3.12.3"
    }
  },
  "nbformat": 4,
  "nbformat_minor": 0
}
