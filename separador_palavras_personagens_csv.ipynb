{
  "cells": [
    {
      "cell_type": "markdown",
      "metadata": {},
      "source": [
        "LINK NOTEBOOK DESAFIO: https://colab.research.google.com/drive/1rIEQDN-E0fdASvTWT4kM3RoZZ5xtHkgM?usp=sharing\n",
        "depois de terminar ele eh só upar aqui no repositório, mais para não ficar movendo ele do navegador até aqui"
      ]
    },
    {
      "cell_type": "code",
      "execution_count": 29,
      "metadata": {
        "id": "Z2i9iQF9pJzo"
      },
      "outputs": [],
      "source": [
        "AMBIENTE_EXEC = 'local' # colab, local\n",
        "\n",
        "if AMBIENTE_EXEC == 'colab':\n",
        "  path = '/content/'\n",
        "else:\n",
        "  path = 'data/'"
      ]
    },
    {
      "cell_type": "code",
      "execution_count": 30,
      "metadata": {
        "id": "JyEOYreJ1LHX"
      },
      "outputs": [],
      "source": [
        "import pandas as pd\n",
        "import string\n",
        "from collections import defaultdict"
      ]
    },
    {
      "cell_type": "code",
      "execution_count": 31,
      "metadata": {
        "colab": {
          "base_uri": "https://localhost:8080/"
        },
        "id": "jpHh1czV23CL",
        "outputId": "c9d2cd13-f415-444f-c07d-fd154053065b"
      },
      "outputs": [
        {
          "name": "stdout",
          "output_type": "stream",
          "text": [
            "['a', 'about', 'above', 'after', 'again', 'against', 'ain', 'all', 'am', 'an', 'and', 'any', 'are', 'aren', \"aren't\", 'as', 'at', 'be', 'because', 'been', 'before', 'being', 'below', 'between', 'both', 'but', 'by', 'can', 'couldn', \"couldn't\", 'd', 'did', 'didn', \"didn't\", 'do', 'does', 'doesn', \"doesn't\", 'doing', 'don', \"don't\", 'down', 'during', 'each', 'few', 'for', 'from', 'further', 'had', 'hadn', \"hadn't\", 'has', 'hasn', \"hasn't\", 'have', 'haven', \"haven't\", 'having', 'he', \"he'd\", \"he'll\", 'her', 'here', 'hers', 'herself', \"he's\", 'him', 'himself', 'his', 'how', 'i', \"i'd\", 'if', \"i'll\", \"i'm\", 'in', 'into', 'is', 'isn', \"isn't\", 'it', \"it'd\", \"it'll\", \"it's\", 'its', 'itself', \"i've\", 'just', 'll', 'm', 'ma', 'me', 'mightn', \"mightn't\", 'more', 'most', 'mustn', \"mustn't\", 'my', 'myself', 'needn', \"needn't\", 'no', 'nor', 'not', 'now', 'o', 'of', 'off', 'on', 'once', 'only', 'or', 'other', 'our', 'ours', 'ourselves', 'out', 'over', 'own', 're', 's', 'same', 'shan', \"shan't\", 'she', \"she'd\", \"she'll\", \"she's\", 'should', 'shouldn', \"shouldn't\", \"should've\", 'so', 'some', 'such', 't', 'than', 'that', \"that'll\", 'the', 'their', 'theirs', 'them', 'themselves', 'then', 'there', 'these', 'they', \"they'd\", \"they'll\", \"they're\", \"they've\", 'this', 'those', 'through', 'to', 'too', 'under', 'until', 'up', 've', 'very', 'was', 'wasn', \"wasn't\", 'we', \"we'd\", \"we'll\", \"we're\", 'were', 'weren', \"weren't\", \"we've\", 'what', 'when', 'where', 'which', 'while', 'who', 'whom', 'why', 'will', 'with', 'won', \"won't\", 'wouldn', \"wouldn't\", 'y', 'you', \"you'd\", \"you'll\", 'your', \"you're\", 'yours', 'yourself', 'yourselves', \"you've\"]\n"
          ]
        },
        {
          "name": "stderr",
          "output_type": "stream",
          "text": [
            "[nltk_data] Downloading package stopwords to\n",
            "[nltk_data]     C:\\Users\\RANIERDALTONDOCOUTO\\AppData\\Roaming\\nltk_data\n",
            "[nltk_data]     ...\n",
            "[nltk_data]   Package stopwords is already up-to-date!\n"
          ]
        }
      ],
      "source": [
        "import nltk\n",
        "from nltk.corpus import stopwords\n",
        "\n",
        "nltk.download('stopwords')\n",
        "print(stopwords.words('english'))"
      ]
    },
    {
      "cell_type": "code",
      "execution_count": 32,
      "metadata": {
        "colab": {
          "base_uri": "https://localhost:8080/"
        },
        "id": "Le34MOCjFIfe",
        "outputId": "9ff71f84-ce78-4585-add0-cfc65db5aea2"
      },
      "outputs": [
        {
          "data": {
            "text/plain": [
              "['a',\n",
              " 'à',\n",
              " 'ao',\n",
              " 'aos',\n",
              " 'aquela',\n",
              " 'aquelas',\n",
              " 'aquele',\n",
              " 'aqueles',\n",
              " 'aquilo',\n",
              " 'as',\n",
              " 'às',\n",
              " 'até',\n",
              " 'com',\n",
              " 'como',\n",
              " 'da',\n",
              " 'das',\n",
              " 'de',\n",
              " 'dela',\n",
              " 'delas',\n",
              " 'dele',\n",
              " 'deles',\n",
              " 'depois',\n",
              " 'do',\n",
              " 'dos',\n",
              " 'e',\n",
              " 'é',\n",
              " 'ela',\n",
              " 'elas',\n",
              " 'ele',\n",
              " 'eles',\n",
              " 'em',\n",
              " 'entre',\n",
              " 'era',\n",
              " 'eram',\n",
              " 'éramos',\n",
              " 'essa',\n",
              " 'essas',\n",
              " 'esse',\n",
              " 'esses',\n",
              " 'esta',\n",
              " 'está',\n",
              " 'estamos',\n",
              " 'estão',\n",
              " 'estar',\n",
              " 'estas',\n",
              " 'estava',\n",
              " 'estavam',\n",
              " 'estávamos',\n",
              " 'este',\n",
              " 'esteja',\n",
              " 'estejam',\n",
              " 'estejamos',\n",
              " 'estes',\n",
              " 'esteve',\n",
              " 'estive',\n",
              " 'estivemos',\n",
              " 'estiver',\n",
              " 'estivera',\n",
              " 'estiveram',\n",
              " 'estivéramos',\n",
              " 'estiverem',\n",
              " 'estivermos',\n",
              " 'estivesse',\n",
              " 'estivessem',\n",
              " 'estivéssemos',\n",
              " 'estou',\n",
              " 'eu',\n",
              " 'foi',\n",
              " 'fomos',\n",
              " 'for',\n",
              " 'fora',\n",
              " 'foram',\n",
              " 'fôramos',\n",
              " 'forem',\n",
              " 'formos',\n",
              " 'fosse',\n",
              " 'fossem',\n",
              " 'fôssemos',\n",
              " 'fui',\n",
              " 'há',\n",
              " 'haja',\n",
              " 'hajam',\n",
              " 'hajamos',\n",
              " 'hão',\n",
              " 'havemos',\n",
              " 'haver',\n",
              " 'hei',\n",
              " 'houve',\n",
              " 'houvemos',\n",
              " 'houver',\n",
              " 'houvera',\n",
              " 'houverá',\n",
              " 'houveram',\n",
              " 'houvéramos',\n",
              " 'houverão',\n",
              " 'houverei',\n",
              " 'houverem',\n",
              " 'houveremos',\n",
              " 'houveria',\n",
              " 'houveriam',\n",
              " 'houveríamos',\n",
              " 'houvermos',\n",
              " 'houvesse',\n",
              " 'houvessem',\n",
              " 'houvéssemos',\n",
              " 'isso',\n",
              " 'isto',\n",
              " 'já',\n",
              " 'lhe',\n",
              " 'lhes',\n",
              " 'mais',\n",
              " 'mas',\n",
              " 'me',\n",
              " 'mesmo',\n",
              " 'meu',\n",
              " 'meus',\n",
              " 'minha',\n",
              " 'minhas',\n",
              " 'muito',\n",
              " 'na',\n",
              " 'não',\n",
              " 'nas',\n",
              " 'nem',\n",
              " 'no',\n",
              " 'nos',\n",
              " 'nós',\n",
              " 'nossa',\n",
              " 'nossas',\n",
              " 'nosso',\n",
              " 'nossos',\n",
              " 'num',\n",
              " 'numa',\n",
              " 'o',\n",
              " 'os',\n",
              " 'ou',\n",
              " 'para',\n",
              " 'pela',\n",
              " 'pelas',\n",
              " 'pelo',\n",
              " 'pelos',\n",
              " 'por',\n",
              " 'qual',\n",
              " 'quando',\n",
              " 'que',\n",
              " 'quem',\n",
              " 'são',\n",
              " 'se',\n",
              " 'seja',\n",
              " 'sejam',\n",
              " 'sejamos',\n",
              " 'sem',\n",
              " 'ser',\n",
              " 'será',\n",
              " 'serão',\n",
              " 'serei',\n",
              " 'seremos',\n",
              " 'seria',\n",
              " 'seriam',\n",
              " 'seríamos',\n",
              " 'seu',\n",
              " 'seus',\n",
              " 'só',\n",
              " 'somos',\n",
              " 'sou',\n",
              " 'sua',\n",
              " 'suas',\n",
              " 'também',\n",
              " 'te',\n",
              " 'tem',\n",
              " 'tém',\n",
              " 'temos',\n",
              " 'tenha',\n",
              " 'tenham',\n",
              " 'tenhamos',\n",
              " 'tenho',\n",
              " 'terá',\n",
              " 'terão',\n",
              " 'terei',\n",
              " 'teremos',\n",
              " 'teria',\n",
              " 'teriam',\n",
              " 'teríamos',\n",
              " 'teu',\n",
              " 'teus',\n",
              " 'teve',\n",
              " 'tinha',\n",
              " 'tinham',\n",
              " 'tínhamos',\n",
              " 'tive',\n",
              " 'tivemos',\n",
              " 'tiver',\n",
              " 'tivera',\n",
              " 'tiveram',\n",
              " 'tivéramos',\n",
              " 'tiverem',\n",
              " 'tivermos',\n",
              " 'tivesse',\n",
              " 'tivessem',\n",
              " 'tivéssemos',\n",
              " 'tu',\n",
              " 'tua',\n",
              " 'tuas',\n",
              " 'um',\n",
              " 'uma',\n",
              " 'você',\n",
              " 'vocês',\n",
              " 'vos']"
            ]
          },
          "execution_count": 32,
          "metadata": {},
          "output_type": "execute_result"
        }
      ],
      "source": [
        "stopwords.words('portuguese')"
      ]
    },
    {
      "cell_type": "code",
      "execution_count": 33,
      "metadata": {
        "colab": {
          "base_uri": "https://localhost:8080/",
          "height": 321
        },
        "id": "N4OI7S7-Czvh",
        "outputId": "5a65a609-cf33-4b44-c9e2-c600d772933e"
      },
      "outputs": [],
      "source": [
        "# df_ep6 = pd.read_csv(\"data/ep6.csv\", encoding=\"utf-8\")\n",
        "# df_ep5 = pd.read_csv(\"data/ep5.csv\", encoding=\"utf-8\")\n",
        "# df_ep4 = pd.read_csv(\"data/ep4.csv\", encoding=\"utf-8\")"
      ]
    },
    {
      "cell_type": "code",
      "execution_count": 34,
      "metadata": {
        "id": "Qcf2CkTc1M2X"
      },
      "outputs": [],
      "source": [
        "df_ep6 = pd.read_csv(f\"{path}ep6.csv\", encoding=\"utf-8\")\n",
        "df_ep5 = pd.read_csv(f\"{path}ep5.csv\", encoding=\"utf-8\")\n",
        "df_ep4 = pd.read_csv(f\"{path}ep4.csv\", encoding=\"utf-8\")"
      ]
    },
    {
      "cell_type": "code",
      "execution_count": 35,
      "metadata": {
        "colab": {
          "base_uri": "https://localhost:8080/",
          "height": 206
        },
        "id": "nGSfxsva1hQu",
        "outputId": "166529d5-7692-4aec-cc89-b9634d1d7b49"
      },
      "outputs": [
        {
          "data": {
            "text/html": [
              "<div>\n",
              "<style scoped>\n",
              "    .dataframe tbody tr th:only-of-type {\n",
              "        vertical-align: middle;\n",
              "    }\n",
              "\n",
              "    .dataframe tbody tr th {\n",
              "        vertical-align: top;\n",
              "    }\n",
              "\n",
              "    .dataframe thead th {\n",
              "        text-align: right;\n",
              "    }\n",
              "</style>\n",
              "<table border=\"1\" class=\"dataframe\">\n",
              "  <thead>\n",
              "    <tr style=\"text-align: right;\">\n",
              "      <th></th>\n",
              "      <th>personagem</th>\n",
              "      <th>diálogo</th>\n",
              "    </tr>\n",
              "  </thead>\n",
              "  <tbody>\n",
              "    <tr>\n",
              "      <th>0</th>\n",
              "      <td>SHUTTLE CAPTAIN</td>\n",
              "      <td>Estação de comando, esta é a ST 321. Liberação...</td>\n",
              "    </tr>\n",
              "    <tr>\n",
              "      <th>1</th>\n",
              "      <td>DEATH STAR CONTROLLER</td>\n",
              "      <td>O escudo defletor de segurança será desativado...</td>\n",
              "    </tr>\n",
              "    <tr>\n",
              "      <th>2</th>\n",
              "      <td>SHUTTLE CAPTAIN</td>\n",
              "      <td>Estamos começando nossa abordagem.</td>\n",
              "    </tr>\n",
              "    <tr>\n",
              "      <th>3</th>\n",
              "      <td>OFICIAL</td>\n",
              "      <td>Informe o comandante que a nave de Lord Vader ...</td>\n",
              "    </tr>\n",
              "    <tr>\n",
              "      <th>4</th>\n",
              "      <td>OPERADOR</td>\n",
              "      <td>Sim, senhor.</td>\n",
              "    </tr>\n",
              "  </tbody>\n",
              "</table>\n",
              "</div>"
            ],
            "text/plain": [
              "              personagem                                            diálogo\n",
              "0        SHUTTLE CAPTAIN  Estação de comando, esta é a ST 321. Liberação...\n",
              "1  DEATH STAR CONTROLLER  O escudo defletor de segurança será desativado...\n",
              "2        SHUTTLE CAPTAIN                 Estamos começando nossa abordagem.\n",
              "3                OFICIAL  Informe o comandante que a nave de Lord Vader ...\n",
              "4               OPERADOR                                       Sim, senhor."
            ]
          },
          "execution_count": 35,
          "metadata": {},
          "output_type": "execute_result"
        }
      ],
      "source": [
        "df_ep6.head()"
      ]
    },
    {
      "cell_type": "code",
      "execution_count": 36,
      "metadata": {
        "colab": {
          "base_uri": "https://localhost:8080/"
        },
        "id": "XIikq3793p1I",
        "outputId": "2638ae54-fab9-4130-f597-b5a6169296c0"
      },
      "outputs": [
        {
          "name": "stderr",
          "output_type": "stream",
          "text": [
            "[nltk_data] Downloading package stopwords to\n",
            "[nltk_data]     C:\\Users\\RANIERDALTONDOCOUTO\\AppData\\Roaming\\nltk_data\n",
            "[nltk_data]     ...\n",
            "[nltk_data]   Package stopwords is already up-to-date!\n"
          ]
        }
      ],
      "source": [
        "nltk.download('stopwords')\n",
        "stopword_pt_list = stopwords.words('portuguese')"
      ]
    },
    {
      "cell_type": "code",
      "execution_count": 37,
      "metadata": {
        "id": "HBze5X0p6HZb"
      },
      "outputs": [],
      "source": [
        "stopword_pt_list.append('estação')\n",
        "stopword_pt_list.append('ia')\n",
        "stopword_pt_list.append('ia')\n",
        "stopword_pt_list.append('todo')\n",
        "stopword_pt_list.append('toda')\n",
        "stopword_pt_list.append('ei')\n",
        "stopword_pt_list.append('quê')\n",
        "stopword_pt_list.append('ai')\n",
        "stopword_pt_list.append('sei')"
      ]
    },
    {
      "cell_type": "code",
      "execution_count": 38,
      "metadata": {
        "collapsed": true,
        "id": "38__XTDyCzvj"
      },
      "outputs": [],
      "source": [
        "contador_personagens_ep6 = defaultdict(lambda: defaultdict(int))\n",
        "\n",
        "for touple in df_ep6.itertuples():\n",
        "    personagem = touple.personagem\n",
        "    fala = touple.diálogo\n",
        "    tokens = str(fala).lower().split()\n",
        "    palavras_filtradas = [palavra.strip() for palavra in tokens if palavra.isalpha() and palavra not in stopword_pt_list]\n",
        "\n",
        "    for palavra in palavras_filtradas:\n",
        "        contador_personagens_ep6[personagem][palavra] += 1\n",
        "\n"
      ]
    },
    {
      "cell_type": "code",
      "execution_count": 39,
      "metadata": {
        "id": "RV37fC95Czvl"
      },
      "outputs": [],
      "source": [
        "contador_personagens_ep5 = defaultdict(lambda: defaultdict(int))\n",
        "\n",
        "for touple in df_ep5.itertuples():\n",
        "    personagem = touple.personagem\n",
        "    fala = touple.diálogo\n",
        "    tokens = str(fala).lower().split()\n",
        "    palavras_filtradas = [palavra.strip() for palavra in tokens if palavra.isalpha() and palavra not in stopword_pt_list]\n",
        "\n",
        "    for palavra in palavras_filtradas:\n",
        "        contador_personagens_ep5[personagem][palavra] += 1"
      ]
    },
    {
      "cell_type": "code",
      "execution_count": 40,
      "metadata": {
        "id": "T0mjrbsfCzvl"
      },
      "outputs": [],
      "source": [
        "contador_personagens_ep4 = defaultdict(lambda: defaultdict(int))\n",
        "\n",
        "for touple in df_ep4.itertuples():\n",
        "    personagem = touple.personagem\n",
        "    fala = touple.diálogo\n",
        "    tokens = str(fala).lower().split()\n",
        "    palavras_filtradas = [palavra.strip() for palavra in tokens if palavra.isalpha() and palavra not in stopword_pt_list]\n",
        "\n",
        "    for palavra in palavras_filtradas:\n",
        "        contador_personagens_ep4[personagem][palavra] += 1"
      ]
    },
    {
      "attachments": {
        "person-freq-ep6.png": {
          "image/png": "[encoded data removed]"
        }
      },
      "cell_type": "markdown",
      "metadata": {},
      "source": [
        "![person-freq-ep6.png](attachment:person-freq-ep6.png)"
      ]
    },
    {
      "attachments": {
        "person-freq-ep5.png": {
          "image/png": "[encoded data removed]"
        }
      },
      "cell_type": "markdown",
      "metadata": {
        "id": "nmWLOQMaCzvm"
      },
      "source": [
        "![person-freq-ep5.png](attachment:person-freq-ep5.png)"
      ]
    },
    {
      "cell_type": "markdown",
      "metadata": {
        "id": "jDsiO8oyCzvn"
      },
      "source": [
        "![alt text](res/graficos-freq-person/person-freq-ep4.png)"
      ]
    },
    {
      "cell_type": "code",
      "execution_count": 41,
      "metadata": {
        "id": "UrQBi7lw5rsX"
      },
      "outputs": [],
      "source": [
        "personagens_episodio6 = ['HAN', 'LUKE','THREEPIO', 'LEIA', 'VADER','LANDO']\n",
        "personagens_episodio5 = ['HAN', 'LUKE','LEIA','THREEPIO', 'LANDO', 'VADER']\n",
        "personagens_episodio4 = ['LUKE','HAN', 'THREEPIO', 'BEN', 'LEIA','VADER']"
      ]
    },
    {
      "cell_type": "code",
      "execution_count": 42,
      "metadata": {
        "colab": {
          "base_uri": "https://localhost:8080/"
        },
        "id": "AZpw5LrICzvn",
        "outputId": "59cffbfd-8316-4b31-8109-5899e9150a74"
      },
      "outputs": [
        {
          "name": "stdout",
          "output_type": "stream",
          "text": [
            "{'HAN': [('vamos', 7), ('vai', 7), ('tudo', 6), ('lando', 6), ('acho', 5), ('onde', 4), ('acontecendo', 3), ('pensando', 3), ('grande', 3), ('agora', 3), ('bom', 3), ('nada', 3), ('alguns', 3), ('consigo', 2), ('pode', 2), ('tão', 2), ('borrão', 2), ('pedaço', 2), ('boba', 2), ('ver', 2), ('monte', 2), ('então', 2), ('lá', 2), ('sobre', 2), ('coisa', 2), ('devo', 2), ('olhe', 2), ('ataque', 2), ('disse', 2), ('boa', 2), ('leve', 2), ('ajuda', 2), ('sensação', 2), ('bem', 2), ('fique', 2), ('manter', 2), ('fazer', 2), ('chewie', 2), ('cuidaremos', 2), ('fica', 2), ('ahhh', 2), ('apenas', 2), ('sempre', 2), ('poderia', 2), ('conheço', 1), ('indo', 1), ('pagar', 1), ('desviei', 1), ('pago', 1), ('jogando', 1), ('fortuna', 1), ('luke', 1), ('cuidar', 1), ('si', 1), ('menos', 1), ('resgatar', 1), ('cavaleiro', 1), ('disso', 1), ('mundo', 1), ('delírios', 1), ('juntos', 1), ('odeio', 1), ('longas', 1), ('parece', 1), ('passar', 1), ('olhos', 1), ('vez', 1), ('vejo', 1), ('morrer', 1), ('trêspio', 1), ('diga', 1), ('viscoso', 1), ('imundície', 1), ('cheia', 1), ('vermes', 1), ('tanto', 1), ('prazer', 1), ('quase', 1), ('delicadamente', 1), ('dê', 1), ('confie', 1), ('puxe', 1), ('posso', 1), ('areia', 1), ('congelamento', 1), ('carbono', 1), ('próxima', 1), ('morte', 1), ('dormir', 1), ('deixa', 1), ('caixote', 1), ('vem', 1), ('agradecimentos', 1), ('obrigado', 1), ('vir', 1), ('atrás', 1), ('acabei', 1), ('dizer', 1), ('sabia', 1), ('procurando', 1), ('alguém', 1), ('liderar', 1), ('equipe', 1), ('tripulação', 1), ('comando', 1), ('ônibus', 1), ('queria', 1), ('falar', 1), ('quero', 1), ('falando', 1), ('precisa', 1), ('nave', 1), ('rápida', 1), ('recebi', 1), ('promessa', 1), ('império', 1), ('wookiees', 1), ('mente', 1), ('vê', 1), ('lixo', 1), ('fizerem', 1), ('ter', 1), ('sair', 1), ('daqui', 1), ('shuttle', 1), ('tydirium', 1), ('solicitando', 1), ('desativação', 1), ('escudo', 1), ('início', 1), ('naves', 1), ('mantenha', 1), ('pareça', 1), ('tentando', 1), ('voe', 1), ('pouco', 1), ('otimismo', 1), ('vão', 1), ('levar', 1), ('festa', 1), ('inteira', 1), ('valerá', 1), ('pensei', 1), ('esquadrão', 1), ('encontraremos', 1), ('gerador', 1), ('escudos', 1), ('espero', 1), ('animal', 1), ('aponte', 1), ('outro', 1), ('dizendo', 1), ('usa', 1), ('influência', 1), ('divina', 1), ('tira', 1), ('erro', 1), ('velho', 1), ('amigo', 1), ('mau', 1), ('pressentimento', 1), ('alguma', 1), ('ajudou', 1), ('exatamente', 1), ('curta', 1), ('melhor', 1), ('nenhuma', 1), ('pergunte', 1), ('precisamos', 1), ('suprimentos', 1), ('novos', 1), ('tente', 1), ('pegar', 1), ('armas', 1), ('sim', 1), ('dia', 1), ('contou', 1), ('sinto', 1), ('entramos', 1), ('muitos', 1), ('lugares', 1), ('fortemente', 1), ('vigiados', 1), ('porta', 1), ('deve', 1), ('mal', 1), ('pequena', 1), ('bola', 1), ('resta', 1), ('aqui', 1), ('suponho', 1), ('ligar', 1), ('desça', 1), ('jogue', 1), ('outra', 1)], 'LUKE': [('vai', 8), ('pode', 8), ('posso', 7), ('vader', 6), ('vou', 6), ('apenas', 4), ('lado', 4), ('capitão', 3), ('solo', 3), ('preciso', 3), ('levar', 3), ('ter', 3), ('então', 3), ('fazer', 3), ('deixar', 3), ('vamos', 3), ('pai', 3), ('raiva', 2), ('dois', 2), ('bem', 2), ('devo', 2), ('deveria', 2), ('fique', 2), ('aponte', 2), ('promessa', 2), ('velho', 2), ('mestre', 2), ('darth', 2), ('matar', 2), ('tudo', 2), ('colocando', 2), ('missão', 2), ('threepio', 2), ('diga', 2), ('nunca', 2), ('senti', 2), ('algo', 2), ('bom', 2), ('imperador', 2), ('sinto', 2), ('lutar', 2), ('luke', 1), ('cavaleiro', 1), ('jedi', 1), ('amigo', 1), ('poderoso', 1), ('deve', 1), ('igualmente', 1), ('busco', 1), ('audiência', 1), ('vossa', 1), ('grandeza', 1), ('barganhar', 1), ('vida', 1), ('certeza', 1), ('podemos', 1), ('chegar', 1), ('acordo', 1), ('mutuamente', 1), ('benéfico', 1), ('permita', 1), ('evitar', 1), ('qualquer', 1), ('confronto', 1), ('prova', 1), ('boa', 1), ('vontade', 1), ('apresento', 1), ('ambos', 1), ('trabalhadores', 1), ('irão', 1), ('falar', 1), ('jabba', 1), ('serve', 1), ('permissão', 1), ('trazer', 1), ('wookiee', 1), ('levando', 1), ('lucrar', 1), ('escolha', 1), ('aviso', 1), ('subestimar', 1), ('último', 1), ('erro', 1), ('nada', 1), ('morava', 1), ('perto', 1), ('chewie', 1), ('lando', 1), ('cuidei', 1), ('última', 1), ('pegue', 1), ('esqueça', 1), ('muita', 1), ('pense', 1), ('vejo', 1), ('cumprir', 1), ('encontro', 1), ('indo', 1), ('sistema', 1), ('claro', 1), ('voltei', 1), ('completar', 1), ('infeliz', 1), ('saiba', 1), ('continuar', 1), ('disse', 1), ('traiu', 1), ('assassinou', 1), ('certo', 1), ('ponto', 1), ('ainda', 1), ('coisas', 1), ('boas', 1), ('tentei', 1), ('ajudar', 1), ('descobri', 1), ('próprio', 1), ('yoda', 1), ('falou', 1), ('leia', 1), ('envolver', 1), ('novo', 1), ('algum', 1), ('chegando', 1), ('naquele', 1), ('bloqueie', 1), ('comlink', 1), ('interruptor', 1), ('continue', 1), ('melhor', 1), ('irmos', 1), ('precisar', 1), ('speeders', 1), ('destruídos', 1), ('lá', 1), ('encontrei', 1), ('wa', 1), ('descobrir', 1), ('maneira', 1), ('sair', 1), ('dessa', 1), ('alcançar', 1), ('sabre', 1), ('faça', 1), ('ficar', 1), ('dê', 1), ('entende', 1), ('alguma', 1), ('coisa', 1), ('fizerem', 1), ('ficará', 1), ('usará', 1), ('lembra', 1), ('mãe', 1), ('lembro', 1), ('nesta', 1), ('presença', 1), ('veio', 1), ('sentir', 1), ('enquanto', 1), ('risco', 1), ('grupo', 1), ('fácil', 1), ('única', 1), ('esperança', 1), ('tempo', 1), ('aprenderá', 1), ('força', 1), ('forte', 1), ('irmã', 1), ('sabe', 1), ('porque', 1), ('sempre', 1), ('entregar', 1), ('volta', 1), ('aceitei', 1), ('verdade', 1), ('anakin', 1), ('nome', 1), ('verdadeiro', 1), ('tirou', 1), ('completamente', 1), ('venha', 1), ('forçado', 1), ('procure', 1), ('conflito', 1), ('dentro', 1), ('deixe', 1), ('realmente', 1), ('gravemente', 1), ('converter', 1), ('fez', 1), ('logo', 1), ('estarei', 1), ('excesso', 1), ('confiança', 1), ('pensamentos', 1), ('conseguiu', 1), ('acredito', 1), ('vá', 1), ('destruir', 1), ('voltar', 1), ('antes', 1), ('vem', 1)], 'THREEPIO': [('mestre', 13), ('jabba', 6), ('ohhh', 5), ('nunca', 3), ('lugar', 3), ('certeza', 3), ('parece', 3), ('vamos', 3), ('artoo', 3), ('vão', 3), ('mensagem', 3), ('luke', 3), ('diz', 3), ('posso', 3), ('general', 3), ('princesa', 3), ('sobre', 2), ('the', 2), ('melhor', 2), ('deus', 2), ('apenas', 2), ('sinto', 2), ('receio', 2), ('tão', 2), ('tipo', 2), ('bom', 2), ('poderia', 2), ('ter', 2), ('algo', 2), ('fluente', 2), ('seis', 2), ('milhões', 2), ('formas', 2), ('deve', 2), ('grande', 2), ('sarlacc', 2), ('algum', 2), ('agora', 2), ('disse', 2), ('boa', 2), ('bastante', 2), ('claro', 1), ('deveria', 1), ('lando', 1), ('calrissian', 1), ('pobre', 1), ('chewbacca', 1), ('voltaram', 1), ('deste', 1), ('tanta', 1), ('contasse', 1), ('metade', 1), ('coisas', 1), ('ouvi', 1), ('provavelmente', 1), ('entraria', 1), ('ninguém', 1), ('voltar', 1), ('contar', 1), ('dê', 1), ('detoowha', 1), ('bo', 1), ('veja', 1), ('três', 1), ('piowha', 1), ('estranho', 1), ('mischka', 1), ('du', 1), ('acho', 1), ('deixar', 1), ('espere', 1), ('entregue', 1), ('tire', 1), ('oh', 1), ('wauaga', 1), ('trazemos', 1), ('instruções', 1), ('dar', 1), ('próprio', 1), ('teimoso', 1), ('mau', 1), ('pressentimento', 1), ('pode', 1), ('jogando', 1), ('capitão', 1), ('ainda', 1), ('congelado', 1), ('acontecido', 1), ('expressou', 1), ('qualquer', 1), ('infelicidade', 1), ('ohh', 1), ('threepio', 1), ('comunicação', 1), ('ilustre', 1), ('dá', 1), ('grado', 1), ('pagará', 1), ('recompensa', 1), ('vinte', 1), ('cinco', 1), ('poderoso', 1), ('pergunta', 1), ('pagar', 1), ('cinquenta', 1), ('porque', 1), ('segurando', 1), ('detonador', 1), ('oferece', 1), ('soma', 1), ('trinta', 1), ('sugiro', 1), ('suporto', 1), ('veio', 1), ('alta', 1), ('decretou', 1), ('exterminado', 1), ('levado', 1), ('mar', 1), ('dunas', 1), ('lançado', 1), ('poço', 1), ('carkoon', 1), ('local', 1), ('nidificação', 1), ('barriga', 1), ('encontrará', 1), ('nova', 1), ('definição', 1), ('dor', 1), ('pois', 1), ('digerido', 1), ('lentamente', 1), ('longo', 1), ('mil', 1), ('fazendo', 1), ('ver', 1), ('servindo', 1), ('executar', 1), ('tomarmos', 1), ('gostaria', 1), ('vítimas', 1), ('excelência', 1), ('espera', 1), ('morram', 1), ('desejar', 1), ('implorar', 1), ('ouvirá', 1), ('onde', 1), ('dificilmente', 1), ('palavra', 1), ('aqui', 1), ('perigoso', 1), ('alguém', 1), ('sabemos', 1), ('bonito', 1), ('temo', 1), ('sensores', 1), ('encontrem', 1), ('vestígios', 1), ('dro', 1), ('usando', 1), ('dialeto', 1), ('acredito', 1), ('pensam', 1), ('peço', 1), ('contra', 1), ('programação', 1), ('personificar', 1), ('prato', 1), ('principal', 1), ('banquete', 1), ('vossa', 1), ('alteza', 1), ('acreditaram', 1), ('elp', 1), ('faça', 1), ('alguma', 1), ('graças', 1), ('soube', 1), ('chegando', 1), ('parte', 1), ('batedores', 1), ('mostrar', 1), ('caminho', 1), ('rápido', 1), ('gerador', 1), ('entrada', 1), ('secreta', 1), ('outro', 1), ('lado', 1), ('companheiro', 1), ('peludo', 1), ('ido', 1), ('feito', 1), ('decidi', 1), ('ficar', 1), ('wa', 1), ('fique', 1), ('procurando', 1), ('indo', 1), ('hora', 1)], 'LEIA': [('vamos', 4), ('vai', 3), ('tudo', 3), ('sair', 2), ('qualquer', 2), ('pode', 2), ('quer', 2), ('deve', 2), ('agora', 2), ('código', 2), ('vou', 2), ('onde', 2), ('alguma', 2), ('poder', 2), ('bunker', 2), ('precisamos', 2), ('alguém', 1), ('tirar', 1), ('amigos', 1), ('arrepender', 1), ('daqui', 1), ('dizer', 1), ('aliança', 1), ('pergunto', 1), ('encontraram', 1), ('fazer', 1), ('conte', 1), ('descobrir', 1), ('vale', 1), ('preço', 1), ('tentar', 1), ('dar', 1), ('pare', 1), ('parece', 1), ('preso', 1), ('problema', 1), ('talvez', 1), ('possa', 1), ('prometo', 1), ('venha', 1), ('comer', 1), ('coisinha', 1), ('threepio', 1), ('devem', 1), ('morreu', 1), ('perguntando', 1), ('fale', 1), ('entendo', 1), ('nunca', 1), ('poderia', 1), ('sempre', 1), ('fuja', 1), ('sentir', 1), ('então', 1), ('saia', 1), ('deste', 1), ('gostaria', 1), ('ir', 1), ('quero', 1), ('ficar', 1), ('pouco', 1), ('posso', 1), ('entrada', 1), ('principal', 1), ('controle', 1), ('fica', 1), ('outro', 1), ('lado', 1), ('plataforma', 1), ('basta', 1), ('soar', 1), ('frota', 1), ('estará', 1), ('aqui', 1), ('dou', 1)], 'VADER': [('imperador', 6), ('lado', 4), ('pode', 3), ('talvez', 3), ('então', 3), ('possa', 2), ('rebelde', 2), ('vai', 2), ('sabre', 2), ('poder', 2), ('sentimentos', 2), ('agora', 2), ('dispensar', 1), ('aqui', 1), ('volta', 1), ('encontrar', 1), ('novas', 1), ('maneiras', 1), ('compartilha', 1), ('avaliação', 1), ('otimista', 1), ('dizer', 1), ('descontente', 1), ('aparente', 1), ('falta', 1), ('espero', 1), ('perdoa', 1), ('tanto', 1), ('quanto', 1), ('estrela', 1), ('morte', 1), ('concluída', 1), ('dentro', 1), ('relatórios', 1), ('frota', 1), ('concentrando', 1), ('perto', 1), ('sullust', 1), ('onde', 1), ('têm', 1), ('autorização', 1), ('lidarei', 1), ('ver', 1), ('pequena', 1), ('força', 1), ('penetrou', 1), ('escudo', 1), ('pousou', 1), ('filho', 1), ('virá', 1), ('bom', 1), ('conduza', 1), ('busca', 1), ('traga', 1), ('companheiros', 1), ('esperando', 1), ('aceitou', 1), ('nome', 1), ('significado', 1), ('vejo', 1), ('construiu', 1), ('novo', 1), ('habilidades', 1), ('pensou', 1), ('conhece', 1), ('devo', 1), ('obedecer', 1), ('tarde', 1), ('demais', 1), ('mostrará', 1), ('verdadeira', 1), ('natureza', 1), ('mestre', 1), ('inútil', 1), ('ensinou', 1), ('imprudente', 1), ('baixar', 1), ('subestima', 1), ('encontrará', 1), ('esconder', 1), ('única', 1), ('maneira', 1), ('salvar', 1), ('pensamentos', 1), ('especialmente', 1), ('irmã', 1), ('traíram', 1), ('sábio', 1), ('fracasso', 1), ('transformar', 1), ('ajude', 1), ('tirar', 1), ('nada', 1), ('parar', 1), ('olhar', 1), ('próprios', 1)], 'LANDO': [('tudo', 5), ('vamos', 4), ('velho', 3), ('todos', 3), ('caças', 3), ('escudo', 3), ('achei', 2), ('pouco', 2), ('deve', 2), ('vai', 2), ('levar', 2), ('todas', 2), ('lutadores', 2), ('destróieres', 2), ('estelares', 2), ('estrela', 2), ('disse', 2), ('alguns', 2), ('grupo', 2), ('energia', 2), ('deixasse', 1), ('congelado', 1), ('desse', 1), ('jeito', 1), ('daria', 1), ('azar', 1), ('resto', 1), ('então', 1), ('melhor', 1), ('descongelar', 1), ('cedo', 1), ('sair', 1), ('dessa', 1), ('miserável', 1), ('bola', 1), ('alguém', 1), ('ter', 1), ('contado', 1), ('sobre', 1), ('pequena', 1), ('manobra', 1), ('batalha', 1), ('taanab', 1), ('surpreso', 1), ('pediram', 1), ('fazer', 1), ('significa', 1), ('vou', 1), ('cuidar', 1), ('bem', 1), ('pode', 1), ('boa', 1), ('amigos', 1), ('lá', 1), ('vão', 1), ('derrubar', 1), ('ofensiva', 1), ('curta', 1), ('alas', 1), ('conseguir', 1), ('algum', 1), ('tipo', 1), ('leitura', 1), ('nesse', 1), ('cima', 1), ('podem', 1), ('atrapalhando', 1), ('sabem', 1), ('interrompa', 1), ('ainda', 1), ('puxe', 1), ('embarcações', 1), ('acelere', 1), ('atacar', 1), ('afaste', 1), ('fogo', 1), ('três', 1), ('apenas', 1), ('pergunto', 1), ('explosão', 1), ('veio', 1), ('coisa', 1), ('home', 1), ('gold', 1), ('outra', 1), ('chance', 1), ('han', 1), ('dar', 1), ('máximo', 1), ('puder', 1), ('enfrente', 1), ('durar', 1), ('contra', 1), ('podemos', 1), ('esquadrão', 1), ('fariam', 1), ('aqui', 1), ('agora', 1), ('trave', 1), ('fonte', 1), ('gerador', 1), ('volte', 1), ('veja', 1), ('consegue', 1), ('desses', 1), ('tie', 1), ('vá', 1), ('regulador', 1), ('torre', 1), ('acho', 1), ('prometi', 1), ('devolver', 1), ('navio', 1), ('espero', 1), ('pirata', 1)]}\n"
          ]
        }
      ],
      "source": [
        "palavras_mais_ditas_ep6 = dict()\n",
        "\n",
        "for personagem in personagens_episodio6:\n",
        "    palavras_mais_ditas_ep6[personagem] = sorted(contador_personagens_ep6[personagem].items(), key=lambda x: x[1], reverse=True)\n",
        "\n",
        "print(palavras_mais_ditas_ep6)"
      ]
    },
    {
      "cell_type": "code",
      "execution_count": 43,
      "metadata": {
        "colab": {
          "base_uri": "https://localhost:8080/"
        },
        "id": "LcS8izUgCzvo",
        "outputId": "0cf9a1e7-65d9-4b81-afdf-0f99c80a4adb"
      },
      "outputs": [
        {
          "name": "stdout",
          "output_type": "stream",
          "text": [
            "{'HAN': [('vou', 11), ('vamos', 9), ('lando', 8), ('vai', 7), ('tudo', 6), ('lá', 5), ('então', 5), ('parece', 5), ('perto', 4), ('posso', 4), ('acho', 4), ('bom', 4), ('dizer', 4), ('sair', 4), ('espere', 4), ('algo', 3), ('fique', 3), ('tentando', 3), ('falar', 3), ('pode', 3), ('verifique', 3), ('aqui', 3), ('velocidade', 3), ('vida', 2), ('suficiente', 2), ('sensores', 2), ('nenhum', 2), ('sinal', 2), ('ir', 2), ('homem', 2), ('quer', 2), ('medo', 2), ('vá', 2), ('dar', 2), ('tirar', 2), ('onde', 2), ('oficial', 2), ('sabe', 2), ('manter', 2), ('dois', 2), ('boa', 2), ('simplesmente', 2), ('deixar', 2), ('ter', 2), ('algum', 2), ('deve', 2), ('império', 2), ('outra', 2), ('melhor', 2), ('princesa', 2), ('ainda', 2), ('escudo', 2), ('podemos', 2), ('nunca', 2), ('disse', 2), ('discutir', 2), ('descubra', 2), ('tempo', 2), ('realmente', 2), ('poderia', 2), ('mim', 2), ('mina', 2), ('sinto', 2), ('alto', 1), ('neste', 1), ('cubo', 1), ('gelo', 1), ('encher', 1), ('cruzador', 1), ('perca', 1), ('volto', 1), ('dou', 1), ('saberá', 1), ('verificando', 1), ('meteorito', 1), ('caiu', 1), ('preço', 1), ('pagar', 1), ('jabba', 1), ('the', 1), ('mole', 1), ('caçador', 1), ('recompensas', 1), ('encontramos', 1), ('ord', 1), ('mantell', 1), ('mudou', 1), ('provavelmente', 1), ('causa', 1), ('sente', 1), ('aahhh', 1), ('uh', 1), ('embora', 1), ('beijo', 1), ('arranjar', 1), ('precisa', 1), ('desmonta', 1), ('daqui', 1), ('puxa', 1), ('juntos', 1), ('novamente', 1), ('agora', 1), ('quero', 1), ('comandante', 1), ('skywalker', 1), ('ficando', 1), ('escuro', 1), ('speeders', 1), ('amigos', 1), ('vejo', 1), ('faça', 1), ('dê', 1), ('cheirar', 1), ('construir', 1), ('pensei', 1), ('cheiravam', 1), ('mal', 1), ('lado', 1), ('tão', 1), ('ruim', 1), ('forte', 1), ('arrancar', 1), ('orelhas', 1), ('conseguiu', 1), ('consegue', 1), ('cara', 1), ('lindo', 1), ('ria', 1), ('bola', 1), ('viu', 1), ('sozinhos', 1), ('passagem', 1), ('expressou', 1), ('verdadeiros', 1), ('sentimentos', 1), ('aparência', 1), ('devo', 1), ('acertado', 1), ('bem', 1), ('marca', 1), ('irritada', 1), ('receio', 1), ('sobrou', 1), ('droid', 1), ('bati', 1), ('tanta', 1), ('aposta', 1), ('razão', 1), ('ouvi', 1), ('centro', 1), ('comando', 1), ('primeiro', 1), ('levar', 1), ('decolar', 1), ('chegar', 1), ('residente', 1), ('bebê', 1), ('algumas', 1), ('surpresas', 1), ('torcer', 1), ('star', 1), ('vindo', 1), ('direto', 1), ('saltar', 1), ('ah', 1), ('veja', 1), ('reforços', 1), ('amortecedores', 1), ('chaves', 1), ('explosão', 1), ('coloque', 1), ('loucos', 1), ('diga', 1), ('queria', 1), ('cometi', 1), ('aproximar', 1), ('servir', 1), ('desligar', 1), ('menos', 1), ('sistemas', 1), ('energia', 1), ('preciso', 1), ('fale', 1), ('errado', 1), ('totalmente', 1), ('feliz', 1), ('pegue', 1), ('professor', 1), ('costas', 1), ('claro', 1), ('substituir', 1), ('acoplamento', 1), ('potência', 1), ('pouco', 1), ('vezes', 1), ('acha', 1), ('gosto', 1), ('som', 1), ('parar', 1), ('mãos', 1), ('gosta', 1), ('porque', 1), ('canalhas', 1), ('suficientes', 1), ('interessado', 1), ('acabei', 1), ('juntar', 1), ('muita', 1), ('umidade', 1), ('resto', 1), ('mastigando', 1), ('cabos', 1), ('pronto', 1), ('circuitos', 1), ('transferência', 1), ('virar', 1), ('colocar', 1), ('poder', 1), ('frota', 1), ('começando', 1), ('volte', 1), ('aguarde', 1), ('liberação', 1), ('manual', 1), ('garra', 1), ('seguirem', 1), ('procedimento', 1), ('padrão', 1), ('vão', 1), ('despejar', 1), ('lixo', 1), ('antes', 1), ('flutuamos', 1), ('encontrar', 1), ('porto', 1), ('seguro', 1), ('lugar', 1), ('alguma', 1), ('sistema', 1), ('jogador', 1), ('gostaria', 1), ('fazer', 1), ('gás', 1), ('enganou', 1), ('voltamos', 1), ('longo', 1), ('amor', 1), ('autorização', 1), ('certeza', 1), ('esqueceu', 1), ('nada', 1), ('ficar', 1), ('confie', 1), ('mantenha', 1), ('olhos', 1), ('achei', 1), ('perdeu', 1), ('forma', 1), ('velho', 1), ('valendo', 1), ('pena', 1), ('ouça', 1), ('líder', 1), ('pensado', 1), ('navio', 1), ('quase', 1), ('duas', 1), ('três', 1), ('coisas', 1), ('ótima', 1), ('ver', 1), ('consigo', 1), ('confio', 1), ('além', 1), ('logo', 1), ('iremos', 1), ('pilha', 1), ('pessoas', 1), ('podem', 1), ('sobre', 1), ('pequena', 1), ('operação', 1), ('fizeram', 1), ('nenhuma', 1), ('saia', 1), ('consertou', 1), ('todos', 1), ('verdadeiro', 1), ('guarde', 1), ('haverá', 1), ('cuidar', 1)], 'LUKE': [('vou', 10), ('tudo', 6), ('vamos', 6), ('vai', 4), ('procurando', 4), ('quero', 3), ('alguma', 3), ('sistema', 3), ('rouge', 3), ('ter', 3), ('fique', 3), ('apenas', 3), ('algo', 3), ('ver', 3), ('fazendo', 3), ('sinto', 3), ('eco', 2), ('nenhuma', 2), ('dar', 2), ('tempo', 2), ('colocar', 2), ('quer', 2), ('vá', 2), ('ainda', 2), ('pode', 2), ('aguente', 2), ('fazer', 2), ('coloque', 2), ('bom', 2), ('sobre', 2), ('cidade', 2), ('certeza', 2), ('consigo', 2), ('coisa', 2), ('aqui', 2), ('agora', 2), ('tirar', 2), ('mestre', 2), ('posso', 2), ('diga', 2), ('aprendi', 2), ('lado', 2), ('nunca', 2), ('vão', 2), ('han', 2), ('disse', 2), ('encontro', 2), ('três', 1), ('velho', 1), ('terminei', 1), ('pego', 1), ('leitura', 1), ('vejo', 1), ('meteorito', 1), ('caiu', 1), ('chão', 1), ('perto', 1), ('demorar', 1), ('garota', 1), ('cheira', 1), ('graças', 1), ('esqueça', 1), ('equipamento', 1), ('módulos', 1), ('menores', 1), ('echo', 1), ('station', 1), ('firmes', 1), ('delta', 1), ('padrão', 1), ('armadura', 1), ('forte', 1), ('grupo', 1), ('use', 1), ('arpões', 1), ('cabos', 1), ('única', 1), ('chance', 1), ('disparar', 1), ('cabo', 1), ('perdi', 1), ('cobrir', 1), ('próxima', 1), ('dois', 1), ('cubro', 1), ('cuidado', 1), ('fogo', 1), ('firme', 1), ('nada', 1), ('estabelecendo', 1), ('novo', 1), ('reagrupar', 1), ('indo', 1), ('gostaria', 1), ('controle', 1), ('manual', 1), ('mudar', 1), ('ideia', 1), ('pegando', 1), ('leituras', 1), ('massivas', 1), ('formas', 1), ('vivo', 1), ('lá', 1), ('perfeitamente', 1), ('seguro', 1), ('todos', 1), ('escopos', 1), ('começar', 1), ('ciclo', 1), ('onde', 1), ('artoo', 1), ('sorte', 1), ('gosto', 1), ('dizendo', 1), ('vir', 1), ('má', 1), ('começando', 1), ('concordar', 1), ('saído', 1), ('talvez', 1), ('pronto', 1), ('pouco', 1), ('encontrar', 1), ('familiar', 1), ('sendo', 1), ('acho', 1), ('grande', 1), ('abaixe', 1), ('queríamos', 1), ('pousar', 1), ('naquela', 1), ('pudéssemos', 1), ('então', 1), ('poderia', 1), ('quebrado', 1), ('faça', 1), ('dê', 1), ('lâmpada', 1), ('precisar', 1), ('sair', 1), ('desse', 1), ('lamaçal', 1), ('deixe', 1), ('ficar', 1), ('seguir', 1), ('trabalho', 1), ('cuide', 1), ('entendo', 1), ('porque', 1), ('podemos', 1), ('yoda', 1), ('distância', 1), ('levaremos', 1), ('chegarmos', 1), ('principalmente', 1), ('causa', 1), ('conhecer', 1), ('sabe', 1), ('perdendo', 1), ('falhar', 1), ('negro', 1), ('distinguir', 1), ('errada', 1), ('mover', 1), ('pedras', 1), ('totalmente', 1), ('vi', 1), ('ir', 1), ('visão', 1), ('leia', 1), ('morrer', 1), ('desde', 1), ('prometo', 1), ('voltar', 1), ('terminar', 1), ('sacrificar', 1), ('ligue', 1), ('threepio', 1), ('espere', 1), ('quase', 1), ('descobrir', 1), ('cheio', 1), ('juntar', 1), ('boa', 1), ('lando', 1), ('ponto', 1), ('estarei', 1), ('esperando', 1), ('tomem', 1), ('força', 1)], 'LEIA': [('então', 6), ('pode', 5), ('lá', 4), ('nada', 3), ('acha', 3), ('sistema', 3), ('escudo', 3), ('onde', 3), ('ainda', 3), ('sobre', 3), ('passar', 3), ('vai', 3), ('vamos', 3), ('parece', 3), ('achei', 2), ('precisamos', 2), ('qualquer', 2), ('nave', 2), ('acho', 2), ('sabe', 2), ('todos', 2), ('tropas', 2), ('apenas', 2), ('pessoal', 2), ('todas', 2), ('fazer', 2), ('espero', 2), ('viu', 2), ('campo', 2), ('pare', 2), ('gosto', 2), ('algo', 2), ('velocidade', 2), ('confiar', 2), ('decidido', 1), ('exatamente', 1), ('deveria', 1), ('grande', 1), ('ajuda', 1), ('líder', 1), ('imaginando', 1), ('prefiro', 1), ('beijar', 1), ('ver', 1), ('general', 1), ('rieekan', 1), ('perigoso', 1), ('deixar', 1), ('ativado', 1), ('tira', 1), ('cérebro', 1), ('aparência', 1), ('tudo', 1), ('daquelas', 1), ('criaturas', 1), ('atacaram', 1), ('droide', 1), ('sonda', 1), ('transportadores', 1), ('reunirão', 1), ('entrada', 1), ('navios', 1), ('transporte', 1), ('pesado', 1), ('sairão', 1), ('assim', 1), ('duas', 1), ('escoltas', 1), ('caça', 1), ('energia', 1), ('aberto', 1), ('curto', 1), ('período', 1), ('ficar', 1), ('perto', 1), ('canhão', 1), ('íons', 1), ('irá', 1), ('disparar', 1), ('vários', 1), ('tiros', 1), ('garantir', 1), ('inimiga', 1), ('rota', 1), ('prossiga', 1), ('diretamente', 1), ('ponto', 1), ('boa', 1), ('podemos', 1), ('aguentar', 1), ('evacuar', 1), ('terra', 1), ('autorização', 1), ('envie', 1), ('setor', 1), ('doze', 1), ('encosta', 1), ('sul', 1), ('proteger', 1), ('dê', 1), ('sinal', 1), ('código', 1), ('vá', 1), ('ajudaria', 1), ('saísse', 1), ('balde', 1), ('ferrolhos', 1), ('nunca', 1), ('algum', 1), ('dia', 1), ('assistir', 1), ('suba', 1), ('realmente', 1), ('entrando', 1), ('precisa', 1), ('pulverizados', 1), ('ficarmos', 1), ('aqui', 1), ('saiba', 1), ('deixe', 1), ('segurado', 1), ('bastante', 1), ('parar', 1), ('chamar', 1), ('vezes', 1), ('dificulta', 1), ('ocasionalmente', 1), ('agindo', 1), ('mãos', 1), ('acontece', 1), ('homens', 1), ('vou', 1), ('chão', 1), ('certeza', 1), ('mau', 1), ('pressentimento', 1), ('império', 1), ('saltar', 1), ('luz', 1), ('neste', 1), ('caverna', 1), ('cala', 1), ('mente', 1), ('próximo', 1), ('resto', 1), ('colônia', 1), ('conhecesse', 1), ('quanto', 1), ('cedo', 1), ('errado', 1), ('ninguém', 1), ('tempo', 1), ('confio', 1), ('verdade', 1), ('faz', 1), ('parte', 1), ('guilda', 1), ('fazendo', 1), ('vader', 1), ('quer', 1), ('certamente', 1), ('jeito', 1), ('pensa', 1), ('fez', 1), ('han', 1), ('luke', 1), ('desacelere', 1), ('baixo', 1), ('abra', 1), ('escotilha', 1), ('destruidor', 1), ('consertou', 1), ('coordenadas', 1), ('agora', 1)], 'THREEPIO': [('posso', 6), ('mestre', 6), ('onde', 6), ('vai', 5), ('sabe', 5), ('artoo', 5), ('pode', 5), ('apenas', 3), ('realmente', 3), ('princesa', 3), ('tentando', 3), ('ninguém', 3), ('luke', 3), ('deve', 3), ('ficar', 3), ('diz', 3), ('bem', 3), ('capitão', 3), ('computador', 3), ('quarto', 2), ('deveria', 2), ('todas', 2), ('ainda', 2), ('vamos', 2), ('acho', 2), ('nada', 2), ('ver', 2), ('chances', 2), ('bastante', 2), ('bom', 2), ('totalmente', 2), ('espere', 2), ('permite', 2), ('velocidade', 2), ('campo', 2), ('fazer', 2), ('acoplamento', 2), ('aqui', 2), ('vá', 2), ('traseiro', 2), ('direto', 2), ('sobreviver', 2), ('parece', 2), ('sinto', 2), ('confie', 2), ('hiperdrive', 2), ('tente', 1), ('pedi', 1), ('ligar', 1), ('aquecedor', 1), ('comentei', 1), ('congelando', 1), ('secar', 1), ('roupas', 1), ('ter', 1), ('palavrinha', 1), ('leia', 1), ('perguntando', 1), ('sobre', 1), ('perguntar', 1), ('homem', 1), ('encontrar', 1), ('cá', 1), ('perigo', 1), ('vir', 1), ('possamos', 1), ('articulações', 1), ('diga', 1), ('coisas', 1), ('claro', 1), ('senhora', 1), ('sido', 1), ('incapaz', 1), ('captar', 1), ('qualquer', 1), ('embora', 1), ('admita', 1), ('próprio', 1), ('alcance', 1), ('fraco', 1), ('demais', 1), ('abandonar', 1), ('sobrevivência', 1), ('setecentas', 1), ('setenta', 1), ('conhecido', 1), ('cometer', 1), ('tempos', 1), ('preocupe', 1), ('certeza', 1), ('ficará', 1), ('funcional', 1), ('expressa', 1), ('alívio', 1), ('fluente', 1), ('seis', 1), ('milhões', 1), ('formas', 1), ('sinal', 1), ('usado', 1), ('código', 1), ('cuida', 1), ('cuide', 1), ('si', 1), ('vossa', 1), ('devemos', 1), ('pegar', 1), ('último', 1), ('única', 1), ('aonde', 1), ('sugerir', 1), ('notei', 1), ('anteriormente', 1), ('motivador', 1), ('hiperpropulsor', 1), ('impossível', 1), ('ir', 1), ('possibilidade', 1), ('navegar', 1), ('sucesso', 1), ('asteróides', 1), ('aproximadamente', 1), ('três', 1), ('setecentos', 1), ('vinte', 1), ('quase', 1), ('medo', 1), ('inclui', 1), ('desligar', 1), ('possível', 1), ('asteróide', 1), ('vezes', 1), ('simplesmente', 1), ('entendo', 1), ('comportamento', 1), ('trabalho', 1), ('forma', 1), ('preciso', 1), ('nave', 1), ('aprendeu', 1), ('dialeto', 1), ('energia', 1), ('eixo', 1), ('negativo', 1), ('temo', 1), ('isolei', 1), ('fluxo', 1), ('potência', 1), ('aí', 1), ('melhor', 1), ('ficasse', 1), ('guardasse', 1), ('coisa', 1), ('graças', 1), ('deus', 1), ('saindo', 1), ('acabamos', 1), ('perder', 1), ('escudo', 1), ('defletor', 1), ('golpe', 1), ('ataque', 1), ('destróier', 1), ('estelar', 1), ('desta', 1), ('vez', 1), ('longe', 1), ('vou', 1), ('vejo', 1), ('rendição', 1), ('alternativa', 1), ('perfeitamente', 1), ('aceitável', 1), ('circunstâncias', 1), ('império', 1), ('gentil', 1), ('deixaram', 1), ('relações', 1), ('instalações', 1), ('rosto', 1), ('soa', 1), ('unidade', 1), ('queria', 1), ('uh', 1), ('tire', 1), ('quero', 1), ('intrometer', 1), ('devo', 1), ('contar', 1), ('gosto', 1), ('algo', 1), ('certo', 1), ('porque', 1), ('agora', 1), ('bola', 1), ('pêlos', 1), ('estúpido', 1), ('anexado', 1), ('estaria', 1), ('nesta', 1), ('posição', 1), ('responsabilidade', 1), ('então', 1), ('faça', 1), ('pronto', 1), ('consigo', 1), ('envolveram', 1), ('protegido', 1), ('processo', 1), ('sabia', 1), ('tempo', 1), ('tudo', 1), ('salvar', 1), ('han', 1), ('caçador', 1), ('menos', 1), ('veja', 1), ('aconteceu', 1), ('atrás', 1), ('dizer', 1), ('substituir', 1), ('sistema', 1), ('saber', 1), ('distinguir', 1), ('tomada', 1), ('terminal', 1), ('interessados', 1), ('millennium', 1), ('abra', 1), ('nunca', 1), ('duvidei', 1), ('pensei', 1), ('besta', 1), ('peluda', 1), ('pareço', 1), ('bruta', 1), ('entramos', 1), ('central', 1), ('cidade', 1), ('confiar', 1), ('preste', 1), ('atenção', 1), ('volte', 1), ('terminou', 1), ('comigo', 1), ('consertar', 1), ('chewbacca', 1)], 'LANDO': [('tudo', 7), ('pode', 3), ('todos', 3), ('caçador', 3), ('vader', 3), ('nunca', 2), ('encontrar', 2), ('lando', 2), ('fazer', 2), ('algumas', 2), ('tão', 2), ('bem', 2), ('problemas', 2), ('coisas', 2), ('aqui', 2), ('pequena', 2), ('império', 2), ('antes', 2), ('lord', 2), ('lorde', 2), ('leia', 2), ('alguém', 2), ('congelamento', 2), ('segurança', 2), ('vamos', 2), ('vigarista', 1), ('traidor', 1), ('muita', 1), ('coragem', 1), ('vindo', 1), ('velho', 1), ('bom', 1), ('pensei', 1), ('onde', 1), ('fazendo', 1), ('fez', 1), ('administrador', 1), ('desta', 1), ('errado', 1), ('vou', 1), ('pessoal', 1), ('trabalhar', 1), ('nave', 1), ('salvou', 1), ('vida', 1), ('pedaço', 1), ('lixo', 1), ('rápido', 1), ('quanto', 1), ('pequeno', 1), ('posto', 1), ('avançado', 1), ('abastecimento', 1), ('dificuldades', 1), ('ver', 1), ('certeza', 1), ('traz', 1), ('responsável', 1), ('hoje', 1), ('preço', 1), ('paga', 1), ('interrompendo', 1), ('alguma', 1), ('absolutamente', 1), ('realmente', 1), ('pertence', 1), ('conosco', 1), ('juntar', 1), ('mim', 1), ('tendo', 1), ('então', 1), ('caímos', 1), ('jurisdição', 1), ('verdade', 1), ('operação', 1), ('suficiente', 1), ('vantajoso', 1), ('pois', 1), ('clientes', 1), ('ansiosos', 1), ('evitar', 1), ('chamar', 1), ('atenção', 1), ('si', 1), ('sempre', 1), ('perigo', 1), ('pairando', 1), ('sombra', 1), ('sobre', 1), ('construímos', 1), ('desenvolveram', 1), ('garantir', 1), ('acabei', 1), ('acordo', 1), ('manterá', 1), ('daqui', 1), ('chegaram', 1), ('sinto', 1), ('condição', 1), ('dar', 1), ('han', 1), ('negócio', 1), ('ficando', 1), ('cada', 1), ('vez', 1), ('cale', 1), ('boca', 1), ('concordou', 1), ('entregar', 1), ('chewie', 1), ('ficar', 1), ('menos', 1), ('estarão', 1), ('dando', 1), ('quer', 1), ('jeito', 1), ('atrás', 1), ('chamado', 1), ('preparou', 1), ('armadilha', 1), ('fiz', 1), ('posso', 1), ('lamento', 1), ('ter', 1), ('feito', 1), ('próprios', 1), ('usamos', 1), ('instalação', 1), ('sendo', 1), ('colocado', 1), ('perfeita', 1), ('disse', 1), ('deixados', 1), ('cidade', 1), ('sob', 1), ('torre', 1), ('fique', 1), ('sair', 1), ('tentando', 1), ('ainda', 1), ('chance', 1), ('salvar', 1), ('quero', 1), ('plataforma', 1), ('códigos', 1), ('assumiu', 1), ('controle', 1), ('aconselho', 1), ('irem', 1), ('embora', 1), ('tropas', 1), ('imperiais', 1), ('lá', 1), ('pronto', 1), ('velocidade', 1), ('disseram', 1), ('confiei', 1), ('neles', 1), ('prontos', 1), ('encontrarmos', 1), ('jabba', 1), ('the', 1), ('hut', 1), ('entraremos', 1), ('contato', 1)], 'VADER': [('capitão', 4), ('quero', 4), ('pode', 4), ('skywalker', 3), ('prepare', 3), ('asteróides', 3), ('destruir', 3), ('rebeldes', 2), ('almirante', 2), ('tão', 2), ('quanto', 2), ('tropas', 2), ('última', 2), ('nave', 2), ('campo', 2), ('apenas', 2), ('millennium', 2), ('todos', 2), ('nunca', 2), ('deixar', 2), ('talvez', 2), ('imperador', 2), ('faça', 2), ('força', 2), ('ainda', 2), ('podemos', 2), ('venha', 2), ('encontrou', 1), ('alguma', 1), ('certeza', 1), ('defina', 1), ('curso', 1), ('sistema', 1), ('general', 1), ('preparem', 1), ('alertados', 1), ('ozzel', 1), ('saiu', 1), ('velocidade', 1), ('luz', 1), ('perto', 1), ('desajeitado', 1), ('ataque', 1), ('falhou', 1), ('comigo', 1), ('desembarcar', 1), ('além', 1), ('escudo', 1), ('energia', 1), ('desdobre', 1), ('frota', 1), ('nada', 1), ('saia', 1), ('desse', 1), ('comando', 1), ('todas', 1), ('naves', 1), ('disponíveis', 1), ('varrem', 1), ('serem', 1), ('mova', 1), ('possamos', 1), ('enviar', 1), ('transmissão', 1), ('pudesse', 1), ('tornaria', 1), ('poderoso', 1), ('juntará', 1), ('haverá', 1), ('recompensa', 1), ('substancial', 1), ('encontrar', 1), ('livre', 1), ('usar', 1), ('quaisquer', 1), ('métodos', 1), ('desculpas', 1), ('alertar', 1), ('calcular', 1), ('destinos', 1), ('possíveis', 1), ('longo', 1), ('trajetória', 1), ('falhe', 1), ('ficaríamos', 1), ('honrados', 1), ('juntasse', 1), ('levar', 1), ('solo', 1), ('jabba', 1), ('the', 1), ('hut', 1), ('sofrerá', 1), ('danos', 1), ('devem', 1), ('pense', 1), ('sendo', 1), ('tratado', 1), ('lamentável', 1), ('guarnição', 1), ('instalação', 1), ('deve', 1), ('adequada', 1), ('congelar', 1), ('jornada', 1), ('monitore', 1), ('permita', 1), ('prêmio', 1), ('vamos', 1), ('império', 1), ('compensará', 1), ('caçador', 1), ('reinicialize', 1), ('câmara', 1), ('encontre', 1), ('caminho', 1), ('leve', 1), ('princesa', 1), ('wookiee', 1), ('alterando', 1), ('altere', 1), ('jovem', 1), ('aprendeu', 1), ('destino', 1), ('sabia', 1), ('forte', 1), ('ensinou', 1), ('controlou', 1), ('agora', 1), ('libere', 1), ('ódio', 1), ('inútil', 1), ('deixe', 1), ('percebeu', 1), ('começou', 1), ('descobrir', 1), ('mim', 1), ('completarei', 1), ('combinada', 1), ('acabar', 1), ('conflito', 1), ('destrutivo', 1), ('trazer', 1), ('ordem', 1), ('conhecesse', 1), ('poder', 1), ('lado', 1), ('contou', 1), ('aconteceu', 1), ('procure', 1), ('sabe', 1), ('previu', 1), ('governar', 1), ('galáxia', 1), ('pai', 1), ('único', 1), ('traga', 1), ('ônibus', 1), ('homens', 1), ('desativaram', 1), ('hyperdrive', 1), ('grupo', 1), ('embarque', 1), ('armas', 1)]}\n"
          ]
        }
      ],
      "source": [
        "palavras_mais_ditas_ep5 = dict()\n",
        "\n",
        "for personagem in personagens_episodio5:\n",
        "    palavras_mais_ditas_ep5[personagem] = sorted(contador_personagens_ep5[personagem].items(), key=lambda x: x[1], reverse=True)\n",
        "\n",
        "print(palavras_mais_ditas_ep5)"
      ]
    },
    {
      "cell_type": "code",
      "execution_count": 44,
      "metadata": {
        "colab": {
          "base_uri": "https://localhost:8080/"
        },
        "id": "6e-XPwrQCzvo",
        "outputId": "741b1f81-2b9a-4b61-ed17-d48f3b0d7a9b"
      },
      "outputs": [
        {
          "name": "stdout",
          "output_type": "stream",
          "text": [
            "{'LUKE': [('vai', 12), ('vou', 11), ('pode', 11), ('aqui', 10), ('acho', 9), ('tudo', 9), ('onde', 9), ('tio', 8), ('ter', 7), ('fazer', 7), ('parece', 7), ('algo', 7), ('ben', 7), ('vamos', 7), ('tão', 6), ('disse', 6), ('bem', 5), ('lá', 5), ('muita', 5), ('povo', 5), ('posso', 5), ('unidade', 5), ('sabe', 5), ('quer', 5), ('então', 4), ('areia', 4), ('poderia', 4), ('estarei', 4), ('nunca', 4), ('coisa', 4), ('velho', 4), ('pequeno', 4), ('espere', 4), ('quero', 4), ('droide', 4), ('ver', 4), ('nada', 4), ('consigo', 4), ('venha', 3), ('sabia', 3), ('academia', 3), ('quase', 3), ('perto', 3), ('owen', 3), ('sido', 3), ('desde', 3), ('mim', 3), ('ficar', 3), ('melhor', 3), ('alguns', 3), ('sair', 3), ('possa', 3), ('alguma', 3), ('aí', 3), ('veja', 3), ('pertence', 3), ('vão', 3), ('sobre', 3), ('vejo', 3), ('dois', 3), ('indo', 3), ('ir', 3), ('caminho', 3), ('achei', 3), ('piloto', 3), ('feche', 3), ('todos', 3), ('trituradores', 3), ('lixo', 3), ('nível', 3), ('peguei', 3), ('recebeu', 2), ('muitos', 2), ('pensei', 2), ('agora', 2), ('consegue', 2), ('sempre', 2), ('lugar', 2), ('precisa', 2), ('apenas', 2), ('gostaria', 2), ('estelar', 2), ('pegar', 2), ('biggs', 2), ('planeta', 2), ('bom', 2), ('dizer', 2), ('chamado', 2), ('mora', 2), ('pergunto', 2), ('mensagem', 2), ('tia', 2), ('diz', 2), ('parente', 2), ('novos', 2), ('droides', 2), ('outra', 2), ('ano', 2), ('esperar', 2), ('direção', 2), ('voltar', 2), ('antes', 2), ('realmente', 2), ('dar', 2), ('vi', 2), ('pai', 2), ('lutou', 2), ('parte', 2), ('pronto', 2), ('ouvi', 2), ('grande', 2), ('volta', 2), ('três', 2), ('passamos', 2), ('acha', 2), ('encontrar', 2), ('qualquer', 2), ('espera', 2), ('deve', 2), ('bloco', 2), ('queria', 2), ('recompensa', 2), ('acima', 2), ('chegando', 2), ('dêem', 1), ('forma', 1), ('mudou', 1), ('voltou', 1), ('batalha', 1), ('disparos', 1), ('calma', 1), ('cortei', 1), ('desliguei', 1), ('entrei', 1), ('rastro', 1), ('fritar', 1), ('skyhopper', 1), ('deixou', 1), ('castigo', 1), ('resto', 1), ('deveria', 1), ('estado', 1), ('olha', 1), ('dessas', 1), ('naves', 1), ('começando', 1), ('parecer', 1), ('ficou', 1), ('mole', 1), ('coisas', 1), ('têm', 1), ('mesmas', 1), ('ouça', 1), ('mal', 1), ('tentando', 1), ('preso', 1), ('cancelar', 1), ('havido', 1), ('agitação', 1), ('invadiram', 1), ('arredores', 1), ('vaporizadores', 1), ('suficientes', 1), ('valer', 1), ('acontecer', 1), ('império', 1), ('incomodar', 1), ('tempo', 1), ('próxima', 1), ('disso', 1), ('convocado', 1), ('frota', 1), ('amigo', 1), ('entrando', 1), ('toshi', 1), ('station', 1), ('conversores', 1), ('motivador', 1), ('tire', 1), ('menos', 1), ('alterar', 1), ('acelerar', 1), ('colheita', 1), ('teletransportar', 1), ('desta', 1), ('centro', 1), ('brilhante', 1), ('chamar', 1), ('monte', 1), ('pontuação', 1), ('carbono', 1), ('rapazes', 1), ('viram', 1), ('rebelião', 1), ('contra', 1), ('muitas', 1), ('cruzador', 1), ('nessa', 1), ('conheço', 1), ('ninguém', 1), ('além', 1), ('mar', 1), ('meio', 1), ('eremita', 1), ('reproduzir', 1), ('fugir', 1), ('tirar', 1), ('reproduza', 1), ('compramos', 1), ('encontrei', 1), ('gravação', 1), ('enquanto', 1), ('limpando', 1), ('alguém', 1), ('pudesse', 1), ('referindo', 1), ('vier', 1), ('conhecia', 1), ('funcionar', 1), ('pensando', 1), ('acordo', 1), ('permanência', 1), ('funcionarem', 1), ('transmitir', 1), ('inscrição', 1), ('dróides', 1), ('passado', 1), ('tank', 1), ('terminar', 1), ('limpar', 1), ('fazendo', 1), ('escondido', 1), ('pude', 1), ('perigoso', 1), ('causar', 1), ('kenobi', 1), ('nesta', 1), ('algum', 1), ('chegado', 1), ('devemos', 1), ('perdido', 1), ('aceitar', 1), ('provavelmente', 1), ('desativaria', 1), ('morto', 1), ('frente', 1), ('pisou', 1), ('aonde', 1), ('pensa', 1), ('ficando', 1), ('espero', 1), ('possamos', 1), ('tentar', 1), ('errado', 1), ('pessoa', 1), ('banthas', 1), ('feliz', 1), ('procurando', 1), ('antigo', 1), ('tanta', 1), ('devoção', 1), ('afirma', 1), ('propriedade', 1), ('daqui', 1), ('tipo', 1), ('conversa', 1), ('navegador', 1), ('cargueiro', 1), ('guerras', 1), ('vá', 1), ('trabalho', 1), ('goste', 1), ('odeio', 1), ('longo', 1), ('explicar', 1), ('levar', 1), ('transporte', 1), ('mos', 1), ('eisley', 1), ('fez', 1), ('faixas', 1), ('falar', 1), ('batendo', 1), ('mesmos', 1), ('jawas', 1), ('venderam', 1), ('artoo', 1), ('tropas', 1), ('imperiais', 1), ('querem', 1), ('matar', 1), ('rastrearam', 1), ('robôs', 1), ('podem', 1), ('descoberto', 1), ('levaria', 1), ('aprender', 1), ('caminhos', 1), ('força', 1), ('tornar', 1), ('jedi', 1), ('cerca', 1), ('quatro', 1), ('entender', 1), ('levará', 1), ('queremos', 1), ('sinto', 1), ('cuidado', 1), ('dez', 1), ('poderíamos', 1), ('comprar', 1), ('próprio', 1), ('navio', 1), ('apostar', 1), ('ruim', 1), ('sentar', 1), ('ritmo', 1), ('controla', 1), ('acredita', 1), ('escudo', 1), ('senti', 1), ('podia', 1), ('controle', 1), ('talvez', 1), ('saibam', 1), ('certeza', 1), ('saindo', 1), ('feito', 1), ('comboio', 1), ('olhe', 1), ('pequena', 1), ('mau', 1), ('pressentimento', 1), ('ainda', 1), ('movendo', 1), ('sorte', 1), ('uivo', 1), ('explodindo', 1), ('admirar', 1), ('inteira', 1), ('saiba', 1), ('nenhuma', 1), ('minutos', 1), ('atrás', 1), ('riqueza', 1), ('dê', 1), ('colocar', 1), ('coloca', 1), ('tranque', 1), ('neste', 1), ('transferência', 1), ('prisioneiro', 1), ('luke', 1), ('existem', 1), ('outras', 1), ('maneiras', 1), ('selado', 1), ('vivo', 1), ('passa', 1), ('viu', 1), ('arma', 1), ('simplesmente', 1), ('soltou', 1), ('paredes', 1), ('abra', 1), ('escotilha', 1), ('manutenção', 1), ('pressão', 1), ('fará', 1), ('pegamos', 1), ('segurar', 1), ('acabei', 1), ('estragar', 1), ('segure', 1), ('nave', 1), ('acreditar', 1), ('rápido', 1), ('costumava', 1), ('caçar', 1), ('ratos', 1), ('maiores', 1), ('dá', 1), ('olhada', 1), ('prestes', 1), ('poderiam', 1), ('usar', 1), ('virando', 1), ('costas', 1), ('nisso', 1), ('mudaria', 1), ('algumas', 1), ('histórias', 1), ('dia', 1), ('dróide', 1), ('cinco', 1), ('vermelho', 1), ('red', 1), ('fiquei', 1), ('pouco', 1), ('mira', 1), ('cale', 1), ('nenhum', 1), ('sinal', 1), ('ponto', 1), ('líder', 1), ('vire', 1), ('cobrimos', 1), ('igual', 1), ('canyon', 1), ('aumente', 1), ('velocidade', 1), ('preocupa', 1), ('preocupo', 1), ('estabilizador', 1), ('solto', 1), ('tente', 1), ('aumentar', 1), ('perdi', 1)], 'HAN': [('vai', 10), ('bem', 8), ('aqui', 7), ('ficar', 7), ('vou', 6), ('vamos', 6), ('sobre', 5), ('onde', 5), ('fique', 5), ('tudo', 5), ('disse', 4), ('nunca', 4), ('naves', 4), ('suficiente', 4), ('parece', 4), ('pode', 4), ('acho', 4), ('posso', 4), ('grande', 4), ('raio', 4), ('velho', 4), ('melhor', 4), ('espero', 4), ('sair', 4), ('nave', 3), ('algum', 3), ('tipo', 3), ('realmente', 3), ('desta', 3), ('acha', 3), ('venha', 3), ('agora', 3), ('pagar', 3), ('fazer', 3), ('além', 3), ('velocidade', 3), ('algumas', 3), ('todos', 3), ('qualquer', 3), ('nada', 3), ('ir', 3), ('poderia', 3), ('nenhuma', 3), ('coisa', 3), ('millennium', 2), ('algo', 2), ('mil', 2), ('começando', 2), ('devem', 2), ('volte', 2), ('ver', 2), ('diga', 2), ('vez', 2), ('esperando', 2), ('pouco', 2), ('porque', 2), ('incline', 2), ('escudo', 2), ('enquanto', 2), ('cálculos', 2), ('salto', 2), ('vão', 2), ('alguns', 2), ('hiperespaço', 2), ('perto', 2), ('viagem', 2), ('vá', 2), ('devemos', 2), ('antigas', 2), ('bom', 2), ('vi', 2), ('monte', 2), ('força', 2), ('nenhum', 2), ('energia', 2), ('controle', 2), ('contra', 2), ('chegando', 2), ('saímos', 2), ('tentando', 2), ('poder', 2), ('bloqueie', 2), ('chegue', 2), ('ter', 2), ('ótimo', 2), ('cela', 2), ('princesa', 2), ('sob', 2), ('vazamento', 2), ('atrás', 2), ('lá', 2), ('ideia', 2), ('recompensa', 2), ('vale', 2), ('tirado', 2), ('trator', 2), ('ainda', 2), ('nisso', 2), ('han', 1), ('capitão', 1), ('chewie', 1), ('procurando', 1), ('passagem', 1), ('sistema', 1), ('ouviu', 1), ('falar', 1), ('fez', 1), ('kessel', 1), ('correr', 1), ('menos', 1), ('doze', 1), ('ultrapassei', 1), ('cruzadores', 1), ('veja', 1), ('falando', 1), ('grandes', 1), ('corellianas', 1), ('rápida', 1), ('problema', 1), ('verdadeiro', 1), ('custar', 1), ('dez', 1), ('conseguiram', 1), ('partiremos', 1), ('assim', 1), ('doca', 1), ('alguém', 1), ('interessar', 1), ('dezessete', 1), ('caras', 1), ('salvar', 1), ('indo', 1), ('jabba', 1), ('dinheiro', 1), ('consegui', 1), ('abordado', 1), ('aposto', 1), ('desculpe', 1), ('enviou', 1), ('greedo', 1), ('pensou', 1), ('próxima', 1), ('mande', 1), ('desses', 1), ('embarcado', 1), ('carta', 1), ('preciso', 1), ('ponto', 1), ('cinco', 1), ('parecer', 1), ('adicionei', 1), ('modificações', 1), ('então', 1), ('apressar', 1), ('sairemos', 1), ('cruzador', 1), ('passageiros', 1), ('quentes', 1), ('tente', 1), ('defletor', 1), ('faço', 1), ('dois', 1), ('tentar', 1), ('cuidado', 1), ('flutuando', 1), ('estaremos', 1), ('seguros', 1), ('fizermos', 1), ('conheço', 1), ('perderemos', 1), ('diversão', 1), ('levar', 1), ('instantes', 1), ('obter', 1), ('coordenadas', 1), ('computador', 1), ('viajar', 1), ('limpar', 1), ('poderíamos', 1), ('voar', 1), ('direto', 1), ('através', 1), ('estrela', 1), ('saltar', 1), ('supernova', 1), ('terminaria', 1), ('perdendo', 1), ('pular', 1), ('esquecer', 1), ('problemas', 1), ('lesmas', 1), ('superar', 1), ('agradecem', 1), ('alderaan', 1), ('cerca', 1), ('sábio', 1), ('perturbar', 1), ('dróides', 1), ('tiram', 1), ('braços', 1), ('pessoas', 1), ('wookiees', 1), ('conhecidos', 1), ('religiões', 1), ('hipócritas', 1), ('armas', 1), ('páreo', 1), ('blaster', 1), ('voei', 1), ('lado', 1), ('galáxia', 1), ('coisas', 1), ('fizesse', 1), ('acreditar', 1), ('existe', 1), ('controlando', 1), ('campo', 1), ('mística', 1), ('truques', 1), ('simples', 1), ('chamo', 1), ('controles', 1), ('remotos', 1), ('outra', 1), ('desligue', 1), ('motores', 1), ('chuva', 1), ('colisão', 1), ('posição', 1), ('totalmente', 1), ('frota', 1), ('estelar', 1), ('inteira', 1), ('destruir', 1), ('planeta', 1), ('necessárias', 1), ('fogo', 1), ('outro', 1), ('navio', 1), ('base', 1), ('puder', 1), ('tempo', 1), ('contar', 1), ('ninguém', 1), ('antes', 1), ('quase', 1), ('demais', 1), ('reverso', 1), ('presos', 1), ('possa', 1), ('pegar', 1), ('uso', 1), ('pensei', 1), ('estaria', 1), ('contrabandeando', 1), ('pudesse', 1), ('passaria', 1), ('maldito', 1), ('sabia', 1), ('dizer', 1), ('dar', 1), ('mão', 1), ('prefiro', 1), ('luta', 1), ('direta', 1), ('fiz', 1), ('esperava', 1), ('nesta', 1), ('desenterrou', 1), ('colocar', 1), ('idéia', 1), ('quer', 1), ('esperemos', 1), ('lugar', 1), ('marchar', 1), ('área', 1), ('detenção', 1), ('imaginar', 1), ('certo', 1), ('descobrir', 1), ('vinte', 1), ('oito', 1), ('situação', 1), ('pequeno', 1), ('defeito', 1), ('perfeitamente', 1), ('reator', 1), ('minutos', 1), ('conversa', 1), ('chata', 1), ('dessa', 1), ('talvez', 1), ('queira', 1), ('volta', 1), ('diabos', 1), ('entra', 1), ('aí', 1), ('idiota', 1), ('importo', 1), ('preocupe', 1), ('menina', 1), ('gostar', 1), ('calha', 1), ('lixo', 1), ('cheiro', 1), ('incrível', 1), ('saia', 1), ('trouxe', 1), ('demorar', 1), ('descobrirem', 1), ('aconteceu', 1), ('mau', 1), ('pressentimento', 1), ('cima', 1), ('pudermos', 1), ('evitar', 1), ('conselhos', 1), ('capazes', 1), ('esclarecer', 1), ('recebo', 1), ('ordens', 1), ('acabamos', 1), ('arrume', 1), ('escudos', 1), ('defletores', 1), ('carrego', 1), ('canhões', 1), ('aguente', 1), ('ruim', 1), ('vezes', 1), ('chama', 1), ('tão', 1), ('cara', 1), ('dívidas', 1), ('tolo', 1), ('vem', 1), ('usar', 1), ('atacar', 1), ('batalha', 1), ('explodir', 1), ('deixar', 1), ('crédito', 1)], 'THREEPIO': [('vai', 8), ('acho', 8), ('onde', 6), ('vou', 6), ('tudo', 6), ('diz', 6), ('tão', 5), ('sobre', 5), ('mestre', 5), ('ter', 5), ('parece', 4), ('certeza', 4), ('fazer', 4), ('senhor', 4), ('pode', 4), ('principal', 4), ('deveria', 3), ('culpa', 3), ('unidade', 3), ('apenas', 3), ('alguma', 3), ('deve', 3), ('nível', 3), ('reator', 2), ('princesa', 2), ('confiar', 2), ('lógica', 2), ('indo', 2), ('nessa', 2), ('vamos', 2), ('lá', 2), ('entrar', 2), ('missão', 2), ('realmente', 2), ('assim', 2), ('faz', 2), ('deixe', 2), ('ir', 2), ('condições', 2), ('arriscar', 2), ('consigo', 2), ('qualquer', 2), ('quanto', 2), ('fez', 2), ('mau', 2), ('capitão', 2), ('mensagem', 2), ('parafuso', 2), ('gosto', 2), ('luke', 2), ('aqui', 2), ('criaturas', 2), ('energia', 2), ('todos', 2), ('circuitos', 2), ('gostaria', 2), ('poderiam', 2), ('ouviu', 1), ('desligaram', 1), ('destruídos', 1), ('haverá', 1), ('escapatória', 1), ('desta', 1), ('saber', 1), ('melhor', 1), ('assistente', 1), ('remoção', 1), ('alojamento', 1), ('termocapsular', 1), ('tamanho', 1), ('enviados', 1), ('minas', 1), ('especiarias', 1), ('kessel', 1), ('esmagados', 1), ('permissão', 1), ('desativado', 1), ('arrepender', 1), ('dano', 1), ('ruim', 1), ('coisas', 1), ('entrei', 1), ('feitos', 1), ('destino', 1), ('descansar', 1), ('antes', 1), ('articulações', 1), ('quase', 1), ('lugar', 1), ('desolado', 1), ('pensar', 1), ('existem', 1), ('assentamentos', 1), ('técnico', 1), ('suficiente', 1), ('vá', 1), ('estará', 1), ('defeito', 1), ('pilha', 1), ('sucata', 1), ('pegar', 1), ('seguindo', 1), ('implorando', 1), ('porque', 1), ('chega', 1), ('idiota', 1), ('enganou', 1), ('acha', 1), ('vão', 1), ('nunca', 1), ('ambiente', 1), ('programado', 1), ('trinta', 1), ('funções', 1), ('secundárias', 1), ('primeiro', 1), ('trabalho', 1), ('programar', 1), ('elevadores', 1), ('carga', 1), ('semelhantes', 1), ('poderia', 1), ('claro', 1), ('segunda', 1), ('língua', 1), ('fluente', 1), ('cala', 1), ('ótimas', 1), ('verdadeira', 1), ('ficará', 1), ('satisfeito', 1), ('primeira', 1), ('trabalhei', 1), ('vem', 1), ('esqueça', 1), ('pescoço', 1), ('além', 1), ('obrigado', 1), ('banho', 1), ('óleo', 1), ('caso', 1), ('grave', 1), ('contaminação', 1), ('poeira', 1), ('mal', 1), ('algo', 1), ('possa', 1), ('droide', 1), ('conhecimento', 1), ('neste', 1), ('planeta', 1), ('relações', 1), ('vezes', 1), ('fico', 1), ('surpreso', 1), ('estarmos', 1), ('boas', 1), ('rebelião', 1), ('chegamos', 1), ('bom', 1), ('contar', 1), ('dados', 1), ('ligue', 1), ('passageira', 1), ('última', 1), ('pessoa', 1), ('ligado', 1), ('colocar', 1), ('novo', 1), ('propriedade', 1), ('morador', 1), ('particular', 1), ('último', 1), ('pequena', 1), ('tornou', 1), ('pouco', 1), ('sabe', 1), ('restrição', 1), ('causou', 1), ('sistema', 1), ('sugere', 1), ('remover', 1), ('poderá', 1), ('reproduzir', 1), ('gravação', 1), ('carregando', 1), ('dentro', 1), ('entranhas', 1), ('sinto', 1), ('pegado', 1), ('leve', 1), ('reconsidere', 1), ('jogar', 1), ('gosta', 1), ('nada', 1), ('disse', 1), ('continuou', 1), ('tagarelando', 1), ('sempre', 1), ('astrodroides', 1), ('ficando', 1), ('entender', 1), ('poderíamos', 1), ('atrás', 1), ('excelente', 1), ('ajudaria', 1), ('dissesse', 1), ('outro', 1), ('removido', 1), ('retenção', 1), ('legítimo', 1), ('bobagem', 1), ('fale', 1), ('comigo', 1), ('sorte', 1), ('explodir', 1), ('milhão', 1), ('pedaços', 1), ('bem', 1), ('importa', 1), ('desativar', 1), ('pequeno', 1), ('fugitivo', 1), ('volta', 1), ('oh', 1), ('várias', 1), ('aproximando', 1), ('devo', 1), ('dado', 1), ('sentido', 1), ('precisar', 1), ('fechar', 1), ('suporto', 1), ('concordo', 1), ('plenamente', 1), ('aparência', 1), ('tranque', 1), ('preferia', 1), ('ido', 1), ('ficar', 1), ('trata', 1), ('cuidado', 1), ('esquecido', 1), ('odeio', 1), ('viagens', 1), ('agora', 1), ('jogada', 1), ('gritar', 1), ('ninguém', 1), ('preocupa', 1), ('perturbar', 1), ('sugiro', 1), ('nova', 1), ('wookiee', 1), ('encontramos', 1), ('tomada', 1), ('encontrou', 1), ('controle', 1), ('feixe', 1), ('segurando', 1), ('nave', 1), ('tentar', 1), ('localização', 1), ('precisa', 1), ('aparecer', 1), ('raio', 1), ('trator', 1), ('acoplado', 1), ('sete', 1), ('perda', 1), ('terminais', 1), ('permitirá', 1), ('navio', 1), ('fica', 1), ('repetindo', 1), ('bloco', 1), ('detenção', 1), ('receio', 1), ('programada', 1), ('artoo', 1), ('devemos', 1), ('descobertos', 1), ('sistemas', 1), ('alertados', 1), ('entrada', 1), ('única', 1), ('todas', 1), ('outras', 1), ('informações', 1), ('excitação', 1), ('invadiu', 1), ('colega', 1), ('coisa', 1), ('acontecido', 1), ('veja', 1), ('graças', 1), ('usar', 1), ('esqueci', 1), ('alguns', 1), ('desligue', 1), ('ouça', 1), ('maldito', 1), ('corpo', 1), ('rápido', 1), ('pobre', 1), ('hangar', 1), ('frente', 1), ('aguente', 1), ('vida', 1), ('ficasse', 1), ('espera', 1), ('diga', 1), ('algum', 1), ('engrenagens', 1), ('doarei', 1)], 'BEN': [('pode', 9), ('força', 7), ('jedi', 6), ('ter', 5), ('antes', 4), ('melhor', 4), ('estará', 4), ('tão', 4), ('apenas', 4), ('tio', 3), ('algo', 3), ('deve', 3), ('fazer', 3), ('devemos', 3), ('podem', 3), ('navio', 3), ('caça', 3), ('vai', 2), ('sorte', 2), ('ainda', 2), ('devem', 2), ('jovem', 2), ('nome', 2), ('acho', 2), ('povo', 2), ('areia', 2), ('aqui', 2), ('cavaleiro', 2), ('bom', 2), ('pai', 2), ('velho', 2), ('arma', 2), ('mil', 2), ('cavaleiros', 2), ('agora', 2), ('lado', 2), ('vamos', 2), ('ver', 2), ('demais', 2), ('precisa', 2), ('sobre', 2), ('poderia', 2), ('poderoso', 2), ('dois', 2), ('quanto', 2), ('confie', 2), ('ir', 2), ('tolo', 2), ('destino', 2), ('venha', 1), ('cá', 1), ('ficar', 1), ('dia', 1), ('ermos', 1), ('jundland', 1), ('percorridos', 1), ('ânimo', 1), ('traz', 1), ('ouvia', 1), ('claro', 1), ('uso', 1), ('desde', 1), ('lembro', 1), ('tido', 1), ('entrarmos', 1), ('assusta', 1), ('logo', 1), ('volta', 1), ('maior', 1), ('apegou', 1), ('ideais', 1), ('achei', 1), ('deveria', 1), ('ficado', 1), ('igual', 1), ('piloto', 1), ('estelar', 1), ('guerreiro', 1), ('entendo', 1), ('tornou', 1), ('queria', 1), ('idade', 1), ('temia', 1), ('pudesse', 1), ('seguir', 1), ('algum', 1), ('maldito', 1), ('cruzada', 1), ('idealista', 1), ('sabre', 1), ('luz', 1), ('desajeitado', 1), ('aleatório', 1), ('elegante', 1), ('época', 1), ('gerações', 1), ('guardiões', 1), ('paz', 1), ('justiça', 1), ('velha', 1), ('tempos', 1), ('chamado', 1), ('darth', 1), ('pupilo', 1), ('tornar', 1), ('ajudou', 1), ('império', 1), ('caçar', 1), ('destruir', 1), ('traiu', 1), ('assassinou', 1), ('tudo', 1), ('menos', 1), ('vader', 1), ('seduzido', 1), ('negro', 1), ('dá', 1), ('campo', 1), ('energia', 1), ('criado', 1), ('todas', 1), ('coisas', 1), ('cerca', 1), ('une', 1), ('conseguimos', 1), ('descobrir', 1), ('onde', 1), ('parece', 1), ('aprender', 1), ('caminhos', 1), ('quiser', 1), ('vir', 1), ('comigo', 1), ('preciso', 1), ('ficando', 1), ('tipo', 1), ('aprenda', 1), ('acha', 1), ('pensar', 1), ('faixas', 1), ('pessoas', 1), ('sempre', 1), ('andam', 1), ('fila', 1), ('indiana', 1), ('esconder', 1), ('pontos', 1), ('precisos', 1), ('tropas', 1), ('assalto', 1), ('imperiais', 1), ('nada', 1), ('sido', 1), ('morto', 1), ('droides', 1), ('estariam', 1), ('mãos', 1), ('porto', 1), ('espacial', 1), ('mos', 1), ('nunca', 1), ('encontrará', 1), ('colméia', 1), ('miserável', 1), ('escória', 1), ('venda', 1), ('identificação', 1), ('cuidar', 1), ('siga', 1), ('forte', 1), ('influência', 1), ('fracos', 1), ('achará', 1), ('maioria', 1), ('melhores', 1), ('pilotos', 1), ('cargueiros', 1), ('encontrados', 1), ('tome', 1), ('lugar', 1), ('pouco', 1), ('pequeno', 1), ('vale', 1), ('comprar', 1), ('imediato', 1), ('atender', 1), ('devia', 1), ('somente', 1), ('nenhuma', 1), ('dizer', 1), ('gostaríamos', 1), ('evitar', 1), ('qualquer', 1), ('envolvimento', 1), ('podemos', 1), ('quinze', 1), ('chegarmos', 1), ('noventa', 1), ('vender', 1), ('rápido', 1), ('sair', 1), ('tempo', 1), ('possa', 1), ('salto', 1), ('velocidade', 1), ('senti', 1), ('grande', 1), ('perturbação', 1), ('milhões', 1), ('vozes', 1), ('repente', 1), ('gritassem', 1), ('terror', 1), ('silenciadas', 1), ('temo', 1), ('terrível', 1), ('continuar', 1), ('sentir', 1), ('fluindo', 1), ('através', 1), ('obedece', 1), ('sugiro', 1), ('tente', 1), ('desta', 1), ('solte', 1), ('consciente', 1), ('aja', 1), ('olhos', 1), ('deu', 1), ('primeiro', 1), ('passo', 1), ('mundo', 1), ('curto', 1), ('desse', 1), ('tamanho', 1), ('fundo', 1), ('espaço', 1), ('vire', 1), ('existem', 1), ('alternativas', 1), ('deixe', 1), ('capaz', 1), ('interpretar', 1), ('rede', 1), ('computadores', 1), ('meninos', 1), ('devo', 1), ('fique', 1), ('cuide', 1), ('entregues', 1), ('segurança', 1), ('outros', 1), ('sistemas', 1), ('estelares', 1), ('sofrerão', 1), ('caminho', 1), ('diferente', 1), ('mestre', 1), ('tornarei', 1), ('use', 1)], 'LEIA': [('única', 8), ('ainda', 4), ('vai', 3), ('pai', 3), ('deveria', 2), ('poderia', 2), ('senado', 2), ('imperial', 2), ('missão', 2), ('agora', 2), ('alderaan', 2), ('informações', 2), ('sistemas', 2), ('desta', 2), ('unidade', 2), ('deve', 2), ('ter', 2), ('onde', 2), ('parece', 2), ('alguém', 2), ('alguma', 2), ('certamente', 2), ('lá', 2), ('vêm', 2), ('explicação', 2), ('facilidade', 2), ('lorde', 1), ('tão', 1), ('ficar', 1), ('parado', 1), ('souberem', 1), ('atacou', 1), ('membro', 1), ('diplomática', 1), ('general', 1), ('anos', 1), ('atrás', 1), ('serviu', 1), ('guerras', 1), ('implora', 1), ('ajude', 1), ('luta', 1), ('contra', 1), ('lamento', 1), ('poder', 1), ('apresentar', 1), ('pedido', 1), ('pessoalmente', 1), ('nave', 1), ('caiu', 1), ('sob', 1), ('ataque', 1), ('temo', 1), ('coloquei', 1), ('vitais', 1), ('sobrevivência', 1), ('rebelião', 1), ('memória', 1), ('saberá', 1), ('recuperar', 1), ('entregar', 1), ('droide', 1), ('segurança', 1), ('hora', 1), ('governador', 1), ('esperado', 1), ('segurando', 1), ('coleira', 1), ('reconheci', 1), ('mau', 1), ('cheiro', 1), ('trazido', 1), ('assumir', 1), ('responsabilidade', 1), ('quanto', 1), ('apertar', 1), ('estelares', 1), ('escaparão', 1), ('pouco', 1), ('curto', 1), ('ben', 1), ('kenobi', 1), ('conseguiu', 1), ('cortar', 1), ('rota', 1), ('entrou', 1), ('plano', 1), ('salvar', 1), ('guarde', 1), ('matar', 1), ('todos', 1), ('peguem', 1), ('fique', 1), ('aí', 1), ('tente', 1), ('posso', 1), ('vão', 1), ('faz', 1), ('maravilha', 1), ('tirar', 1), ('grande', 1), ('tapete', 1), ('ambulante', 1), ('veio', 1), ('naquela', 1), ('corajoso', 1), ('encontre', 1), ('controle', 1), ('estende', 1), ('dar', 1), ('encontramos', 1), ('alguns', 1), ('velhos', 1), ('vamos', 1), ('tarde', 1), ('havia', 1), ('nada', 1), ('pudesse', 1), ('perdemos', 1), ('controles', 1), ('dois', 1), ('além', 1), ('deixaram', 1), ('menos', 1), ('informação', 1), ('artoo', 1), ('leituras', 1), ('técnicas', 1), ('daquela', 1), ('espero', 1), ('dados', 1), ('fraqueza', 1), ('possa', 1), ('precisa', 1), ('preocupar', 1), ('dinheiro', 1), ('tudo', 1), ('então', 1), ('amigo', 1), ('pergunto', 1), ('realmente', 1), ('importa', 1), ('tempo', 1), ('batalha', 1), ('localizou', 1), ('usar', 1), ('planejar', 1), ('seguir', 1), ('próprio', 1), ('ninguém', 1), ('pode', 1), ('escolher', 1), ('sabia', 1)], 'VADER': [('planos', 5), ('navio', 3), ('desta', 3), ('agora', 3), ('envie', 3), ('onde', 2), ('transmissões', 2), ('encontrar', 2), ('nave', 2), ('espiões', 2), ('quero', 2), ('base', 2), ('algum', 2), ('pode', 2), ('sinto', 2), ('presença', 2), ('força', 2), ('fim', 2), ('fique', 2), ('formação', 2), ('destrua', 1), ('brinque', 1), ('nenhuma', 1), ('missão', 1), ('misericórdia', 1), ('passou', 1), ('diretamente', 1), ('sistema', 1), ('várias', 1), ('enviadas', 1), ('saber', 1), ('aconteceu', 1), ('enviaram', 1), ('faz', 1), ('parte', 1), ('aliança', 1), ('rastreei', 1), ('rebeldes', 1), ('único', 1), ('link', 1), ('secreta', 1), ('deixe', 1), ('sinal', 1), ('socorro', 1), ('informe', 1), ('senado', 1), ('todos', 1), ('bordo', 1), ('deve', 1), ('ter', 1), ('escondido', 1), ('cápsula', 1), ('destacamento', 1), ('cuide', 1), ('disso', 1), ('haverá', 1), ('ninguém', 1), ('parar', 1), ('refere', 1), ('breve', 1), ('estarão', 1), ('volta', 1), ('orgulhe', 1), ('desse', 1), ('terror', 1), ('tecnológico', 1), ('capacidade', 1), ('destruir', 1), ('planeta', 1), ('insignificante', 1), ('perto', 1), ('poder', 1), ('acho', 1), ('falta', 1), ('fé', 1), ('vamos', 1), ('discutir', 1), ('localização', 1), ('rebelde', 1), ('resistência', 1), ('sonda', 1), ('mental', 1), ('levará', 1), ('tempo', 1), ('possamos', 1), ('extrair', 1), ('qualquer', 1), ('informação', 1), ('quer', 1), ('iniciar', 1), ('ignição', 1), ('disse', 1), ('nunca', 1), ('trairia', 1), ('conscientemente', 1), ('devem', 1), ('tentando', 1), ('devolver', 1), ('roubados', 1), ('ainda', 1), ('alguma', 1), ('utilidade', 1), ('encontrou', 1), ('equipe', 1), ('varredura', 1), ('todas', 1), ('partes', 1), ('tremor', 1), ('última', 1), ('vez', 1), ('senti', 1), ('antigo', 1), ('subestime', 1), ('escape', 1), ('devo', 1), ('esperando', 1), ('encontramos', 1), ('círculo', 1), ('apenas', 1), ('poderes', 1), ('acabaram', 1), ('saltar', 1), ('dia', 1), ('lembrado', 1), ('viu', 1), ('kenobi', 1), ('logo', 1), ('verá', 1), ('leve', 1), ('tripulações', 1), ('vários', 1), ('lutadores', 1), ('separaram', 1), ('grupo', 1), ('venha', 1), ('vou', 1), ('forte', 1)]}\n"
          ]
        }
      ],
      "source": [
        "palavras_mais_ditas_ep4 = dict()\n",
        "\n",
        "for personagem in personagens_episodio4:\n",
        "    palavras_mais_ditas_ep4[personagem] = sorted(contador_personagens_ep4[personagem].items(), key=lambda x: x[1], reverse=True)\n",
        "\n",
        "print(palavras_mais_ditas_ep4)"
      ]
    },
    {
      "cell_type": "code",
      "execution_count": 45,
      "metadata": {
        "id": "EDZGNFvaCzvo"
      },
      "outputs": [],
      "source": [
        "for personagem, palavras in palavras_mais_ditas_ep4.items():\n",
        "    df = pd.DataFrame(palavras, columns=[\"palavra\", \"quantidade\"])\n",
        "    df.to_csv(f\"{path}palavras-personagens/EP4/{personagem}.csv\", index=False)"
      ]
    },
    {
      "cell_type": "code",
      "execution_count": 46,
      "metadata": {
        "id": "iGDvzv53Czvo"
      },
      "outputs": [],
      "source": [
        "for personagem, palavras in palavras_mais_ditas_ep5.items():\n",
        "    df = pd.DataFrame(palavras, columns=[\"palavra\", \"quantidade\"])\n",
        "    df.to_csv(f\"{path}palavras-personagens/EP5/{personagem}.csv\", index=False)"
      ]
    },
    {
      "cell_type": "code",
      "execution_count": 47,
      "metadata": {
        "id": "TjtQuJATCzvo"
      },
      "outputs": [],
      "source": [
        "for personagem, palavras in palavras_mais_ditas_ep6.items():\n",
        "    df = pd.DataFrame(palavras, columns=[\"palavra\", \"quantidade\"])\n",
        "    df.to_csv(f\"{path}palavras-personagens/EP6/{personagem}.csv\", index=False)"
      ]
    },
    {
      "cell_type": "markdown",
      "metadata": {
        "id": "V9zk5nnQCzvo"
      },
      "source": [
        "PERSONAGEM MAIS APARECE: LUKE E HAN"
      ]
    },
    {
      "cell_type": "markdown",
      "metadata": {
        "id": "pxARrkB8Czvo"
      },
      "source": [
        "PERSONAGEM MENOS APARECE: (REFAZER GRÁFICO INVERSO DOS QUE MAIS APARECEM)"
      ]
    },
    {
      "cell_type": "markdown",
      "metadata": {
        "id": "o0in5R9vCzvo"
      },
      "source": [
        "PERSONAGEM MAIS POSITIVO:"
      ]
    },
    {
      "cell_type": "markdown",
      "metadata": {
        "id": "jKJ8CcT2Czvo"
      },
      "source": [
        "PERSONAGEM MAIS NEGATIVO:"
      ]
    },
    {
      "cell_type": "markdown",
      "metadata": {},
      "source": [
        "ep4_luke\n",
        "ep4_luke"
      ]
    }
  ],
  "metadata": {
    "colab": {
      "provenance": []
    },
    "kernelspec": {
      "display_name": "Python 3",
      "name": "python3"
    },
    "language_info": {
      "codemirror_mode": {
        "name": "ipython",
        "version": 3
      },
      "file_extension": ".py",
      "mimetype": "text/x-python",
      "name": "python",
      "nbconvert_exporter": "python",
      "pygments_lexer": "ipython3",
      "version": "3.12.3"
    }
  },
  "nbformat": 4,
  "nbformat_minor": 0
}
