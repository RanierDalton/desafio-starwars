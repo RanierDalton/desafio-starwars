{
  "cells": [
    {
      "cell_type": "code",
      "execution_count": 1,
      "metadata": {
        "id": "JyEOYreJ1LHX"
      },
      "outputs": [],
      "source": [
        "import pandas as pd\n",
        "import string "
      ]
    },
    {
      "cell_type": "code",
      "execution_count": 2,
      "metadata": {
        "colab": {
          "base_uri": "https://localhost:8080/"
        },
        "id": "jpHh1czV23CL",
        "outputId": "c88148ad-c3b3-4806-abab-21df1e0497ce"
      },
      "outputs": [
        {
          "name": "stdout",
          "output_type": "stream",
          "text": [
            "['a', 'about', 'above', 'after', 'again', 'against', 'ain', 'all', 'am', 'an', 'and', 'any', 'are', 'aren', \"aren't\", 'as', 'at', 'be', 'because', 'been', 'before', 'being', 'below', 'between', 'both', 'but', 'by', 'can', 'couldn', \"couldn't\", 'd', 'did', 'didn', \"didn't\", 'do', 'does', 'doesn', \"doesn't\", 'doing', 'don', \"don't\", 'down', 'during', 'each', 'few', 'for', 'from', 'further', 'had', 'hadn', \"hadn't\", 'has', 'hasn', \"hasn't\", 'have', 'haven', \"haven't\", 'having', 'he', \"he'd\", \"he'll\", 'her', 'here', 'hers', 'herself', \"he's\", 'him', 'himself', 'his', 'how', 'i', \"i'd\", 'if', \"i'll\", \"i'm\", 'in', 'into', 'is', 'isn', \"isn't\", 'it', \"it'd\", \"it'll\", \"it's\", 'its', 'itself', \"i've\", 'just', 'll', 'm', 'ma', 'me', 'mightn', \"mightn't\", 'more', 'most', 'mustn', \"mustn't\", 'my', 'myself', 'needn', \"needn't\", 'no', 'nor', 'not', 'now', 'o', 'of', 'off', 'on', 'once', 'only', 'or', 'other', 'our', 'ours', 'ourselves', 'out', 'over', 'own', 're', 's', 'same', 'shan', \"shan't\", 'she', \"she'd\", \"she'll\", \"she's\", 'should', 'shouldn', \"shouldn't\", \"should've\", 'so', 'some', 'such', 't', 'than', 'that', \"that'll\", 'the', 'their', 'theirs', 'them', 'themselves', 'then', 'there', 'these', 'they', \"they'd\", \"they'll\", \"they're\", \"they've\", 'this', 'those', 'through', 'to', 'too', 'under', 'until', 'up', 've', 'very', 'was', 'wasn', \"wasn't\", 'we', \"we'd\", \"we'll\", \"we're\", 'were', 'weren', \"weren't\", \"we've\", 'what', 'when', 'where', 'which', 'while', 'who', 'whom', 'why', 'will', 'with', 'won', \"won't\", 'wouldn', \"wouldn't\", 'y', 'you', \"you'd\", \"you'll\", 'your', \"you're\", 'yours', 'yourself', 'yourselves', \"you've\"]\n"
          ]
        },
        {
          "name": "stderr",
          "output_type": "stream",
          "text": [
            "[nltk_data] Downloading package stopwords to\n",
            "[nltk_data]     C:\\Users\\RANIERDALTONDOCOUTO\\AppData\\Roaming\\nltk_data\n",
            "[nltk_data]     ...\n",
            "[nltk_data]   Package stopwords is already up-to-date!\n"
          ]
        }
      ],
      "source": [
        "import nltk\n",
        "from nltk.corpus import stopwords\n",
        "\n",
        "nltk.download('stopwords')\n",
        "print(stopwords.words('english'))"
      ]
    },
    {
      "cell_type": "code",
      "execution_count": 3,
      "metadata": {
        "colab": {
          "base_uri": "https://localhost:8080/"
        },
        "id": "Le34MOCjFIfe",
        "outputId": "8445aba1-a094-48a7-e925-35e5b054e9d5"
      },
      "outputs": [
        {
          "data": {
            "text/plain": [
              "['a',\n",
              " 'à',\n",
              " 'ao',\n",
              " 'aos',\n",
              " 'aquela',\n",
              " 'aquelas',\n",
              " 'aquele',\n",
              " 'aqueles',\n",
              " 'aquilo',\n",
              " 'as',\n",
              " 'às',\n",
              " 'até',\n",
              " 'com',\n",
              " 'como',\n",
              " 'da',\n",
              " 'das',\n",
              " 'de',\n",
              " 'dela',\n",
              " 'delas',\n",
              " 'dele',\n",
              " 'deles',\n",
              " 'depois',\n",
              " 'do',\n",
              " 'dos',\n",
              " 'e',\n",
              " 'é',\n",
              " 'ela',\n",
              " 'elas',\n",
              " 'ele',\n",
              " 'eles',\n",
              " 'em',\n",
              " 'entre',\n",
              " 'era',\n",
              " 'eram',\n",
              " 'éramos',\n",
              " 'essa',\n",
              " 'essas',\n",
              " 'esse',\n",
              " 'esses',\n",
              " 'esta',\n",
              " 'está',\n",
              " 'estamos',\n",
              " 'estão',\n",
              " 'estar',\n",
              " 'estas',\n",
              " 'estava',\n",
              " 'estavam',\n",
              " 'estávamos',\n",
              " 'este',\n",
              " 'esteja',\n",
              " 'estejam',\n",
              " 'estejamos',\n",
              " 'estes',\n",
              " 'esteve',\n",
              " 'estive',\n",
              " 'estivemos',\n",
              " 'estiver',\n",
              " 'estivera',\n",
              " 'estiveram',\n",
              " 'estivéramos',\n",
              " 'estiverem',\n",
              " 'estivermos',\n",
              " 'estivesse',\n",
              " 'estivessem',\n",
              " 'estivéssemos',\n",
              " 'estou',\n",
              " 'eu',\n",
              " 'foi',\n",
              " 'fomos',\n",
              " 'for',\n",
              " 'fora',\n",
              " 'foram',\n",
              " 'fôramos',\n",
              " 'forem',\n",
              " 'formos',\n",
              " 'fosse',\n",
              " 'fossem',\n",
              " 'fôssemos',\n",
              " 'fui',\n",
              " 'há',\n",
              " 'haja',\n",
              " 'hajam',\n",
              " 'hajamos',\n",
              " 'hão',\n",
              " 'havemos',\n",
              " 'haver',\n",
              " 'hei',\n",
              " 'houve',\n",
              " 'houvemos',\n",
              " 'houver',\n",
              " 'houvera',\n",
              " 'houverá',\n",
              " 'houveram',\n",
              " 'houvéramos',\n",
              " 'houverão',\n",
              " 'houverei',\n",
              " 'houverem',\n",
              " 'houveremos',\n",
              " 'houveria',\n",
              " 'houveriam',\n",
              " 'houveríamos',\n",
              " 'houvermos',\n",
              " 'houvesse',\n",
              " 'houvessem',\n",
              " 'houvéssemos',\n",
              " 'isso',\n",
              " 'isto',\n",
              " 'já',\n",
              " 'lhe',\n",
              " 'lhes',\n",
              " 'mais',\n",
              " 'mas',\n",
              " 'me',\n",
              " 'mesmo',\n",
              " 'meu',\n",
              " 'meus',\n",
              " 'minha',\n",
              " 'minhas',\n",
              " 'muito',\n",
              " 'na',\n",
              " 'não',\n",
              " 'nas',\n",
              " 'nem',\n",
              " 'no',\n",
              " 'nos',\n",
              " 'nós',\n",
              " 'nossa',\n",
              " 'nossas',\n",
              " 'nosso',\n",
              " 'nossos',\n",
              " 'num',\n",
              " 'numa',\n",
              " 'o',\n",
              " 'os',\n",
              " 'ou',\n",
              " 'para',\n",
              " 'pela',\n",
              " 'pelas',\n",
              " 'pelo',\n",
              " 'pelos',\n",
              " 'por',\n",
              " 'qual',\n",
              " 'quando',\n",
              " 'que',\n",
              " 'quem',\n",
              " 'são',\n",
              " 'se',\n",
              " 'seja',\n",
              " 'sejam',\n",
              " 'sejamos',\n",
              " 'sem',\n",
              " 'ser',\n",
              " 'será',\n",
              " 'serão',\n",
              " 'serei',\n",
              " 'seremos',\n",
              " 'seria',\n",
              " 'seriam',\n",
              " 'seríamos',\n",
              " 'seu',\n",
              " 'seus',\n",
              " 'só',\n",
              " 'somos',\n",
              " 'sou',\n",
              " 'sua',\n",
              " 'suas',\n",
              " 'também',\n",
              " 'te',\n",
              " 'tem',\n",
              " 'tém',\n",
              " 'temos',\n",
              " 'tenha',\n",
              " 'tenham',\n",
              " 'tenhamos',\n",
              " 'tenho',\n",
              " 'terá',\n",
              " 'terão',\n",
              " 'terei',\n",
              " 'teremos',\n",
              " 'teria',\n",
              " 'teriam',\n",
              " 'teríamos',\n",
              " 'teu',\n",
              " 'teus',\n",
              " 'teve',\n",
              " 'tinha',\n",
              " 'tinham',\n",
              " 'tínhamos',\n",
              " 'tive',\n",
              " 'tivemos',\n",
              " 'tiver',\n",
              " 'tivera',\n",
              " 'tiveram',\n",
              " 'tivéramos',\n",
              " 'tiverem',\n",
              " 'tivermos',\n",
              " 'tivesse',\n",
              " 'tivessem',\n",
              " 'tivéssemos',\n",
              " 'tu',\n",
              " 'tua',\n",
              " 'tuas',\n",
              " 'um',\n",
              " 'uma',\n",
              " 'você',\n",
              " 'vocês',\n",
              " 'vos']"
            ]
          },
          "execution_count": 3,
          "metadata": {},
          "output_type": "execute_result"
        }
      ],
      "source": [
        "stopwords.words('portuguese')"
      ]
    },
    {
      "cell_type": "code",
      "execution_count": 4,
      "metadata": {},
      "outputs": [],
      "source": [
        "df_ep6 = pd.read_csv(\"data/ep6.csv\")\n",
        "df_ep5 = pd.read_csv(\"data/ep5.csv\")\n",
        "df_ep4 = pd.read_csv(\"data/ep4.csv\")"
      ]
    },
    {
      "cell_type": "code",
      "execution_count": 5,
      "metadata": {
        "id": "Qcf2CkTc1M2X"
      },
      "outputs": [],
      "source": [
        "# df_ep6 = pd.read_csv(\"/content/ep6.csv\")\n",
        "# df_ep5 = pd.read_csv(\"/content/ep5.csv\")\n",
        "# df_ep4 = pd.read_csv(\"/content/ep4.csv\")"
      ]
    },
    {
      "cell_type": "code",
      "execution_count": 6,
      "metadata": {
        "colab": {
          "base_uri": "https://localhost:8080/",
          "height": 206
        },
        "id": "nGSfxsva1hQu",
        "outputId": "ad2af372-bf4e-4265-d936-b6f5a824816a"
      },
      "outputs": [
        {
          "data": {
            "text/html": [
              "<div>\n",
              "<style scoped>\n",
              "    .dataframe tbody tr th:only-of-type {\n",
              "        vertical-align: middle;\n",
              "    }\n",
              "\n",
              "    .dataframe tbody tr th {\n",
              "        vertical-align: top;\n",
              "    }\n",
              "\n",
              "    .dataframe thead th {\n",
              "        text-align: right;\n",
              "    }\n",
              "</style>\n",
              "<table border=\"1\" class=\"dataframe\">\n",
              "  <thead>\n",
              "    <tr style=\"text-align: right;\">\n",
              "      <th></th>\n",
              "      <th>personagem</th>\n",
              "      <th>diálogo</th>\n",
              "    </tr>\n",
              "  </thead>\n",
              "  <tbody>\n",
              "    <tr>\n",
              "      <th>0</th>\n",
              "      <td>SHUTTLE CAPTAIN</td>\n",
              "      <td>Estação de comando, esta é a ST 321. Liberação...</td>\n",
              "    </tr>\n",
              "    <tr>\n",
              "      <th>1</th>\n",
              "      <td>DEATH STAR CONTROLLER</td>\n",
              "      <td>O escudo defletor de segurança será desativado...</td>\n",
              "    </tr>\n",
              "    <tr>\n",
              "      <th>2</th>\n",
              "      <td>SHUTTLE CAPTAIN</td>\n",
              "      <td>Estamos começando nossa abordagem.</td>\n",
              "    </tr>\n",
              "    <tr>\n",
              "      <th>3</th>\n",
              "      <td>OFICIAL</td>\n",
              "      <td>Informe o comandante que a nave de Lord Vader ...</td>\n",
              "    </tr>\n",
              "    <tr>\n",
              "      <th>4</th>\n",
              "      <td>OPERADOR</td>\n",
              "      <td>Sim, senhor.</td>\n",
              "    </tr>\n",
              "  </tbody>\n",
              "</table>\n",
              "</div>"
            ],
            "text/plain": [
              "              personagem                                            diálogo\n",
              "0        SHUTTLE CAPTAIN  Estação de comando, esta é a ST 321. Liberação...\n",
              "1  DEATH STAR CONTROLLER  O escudo defletor de segurança será desativado...\n",
              "2        SHUTTLE CAPTAIN                 Estamos começando nossa abordagem.\n",
              "3                OFICIAL  Informe o comandante que a nave de Lord Vader ...\n",
              "4               OPERADOR                                       Sim, senhor."
            ]
          },
          "execution_count": 6,
          "metadata": {},
          "output_type": "execute_result"
        }
      ],
      "source": [
        "df_ep6.head()"
      ]
    },
    {
      "cell_type": "code",
      "execution_count": 7,
      "metadata": {
        "colab": {
          "base_uri": "https://localhost:8080/"
        },
        "id": "XIikq3793p1I",
        "outputId": "09560882-3e26-47b0-8a5f-8a052ac8bf27"
      },
      "outputs": [
        {
          "name": "stderr",
          "output_type": "stream",
          "text": [
            "[nltk_data] Downloading package stopwords to\n",
            "[nltk_data]     C:\\Users\\RANIERDALTONDOCOUTO\\AppData\\Roaming\\nltk_data\n",
            "[nltk_data]     ...\n",
            "[nltk_data]   Package stopwords is already up-to-date!\n"
          ]
        }
      ],
      "source": [
        "nltk.download('stopwords')\n",
        "stopword_pt = stopwords.words('portuguese')"
      ]
    },
    {
      "cell_type": "code",
      "execution_count": 8,
      "metadata": {
        "id": "HBze5X0p6HZb"
      },
      "outputs": [],
      "source": [
        "stopword_pt.append('Estação')"
      ]
    },
    {
      "cell_type": "code",
      "execution_count": 9,
      "metadata": {
        "id": "zSiZ9ny26qfv"
      },
      "outputs": [],
      "source": [
        "pontuacao = [',','.','...',';', ', ']"
      ]
    },
    {
      "cell_type": "code",
      "execution_count": 10,
      "metadata": {},
      "outputs": [],
      "source": [
        "contador_palavras_ep6 = dict()\n",
        "\n",
        "'''\n",
        "{\n",
        "  Luke:{\n",
        "    bom:5\n",
        "    legal:78\n",
        "    bacana:3\n",
        "  },\n",
        "\n",
        "}\n",
        "'''\n",
        "\n",
        "for touple in df_ep6.itertuples():\n",
        "    char = touple.personagem\n",
        "    contador_palavras_ep6[char] = dict()\n",
        "    dialogo_atual = str(touple.diálogo).split()\n",
        "\n",
        "    for word in dialogo_atual:\n",
        "      word = word.strip(string.punctuation).lower()\n",
        "\n",
        "      if word not in stopword_pt:\n",
        "        if  contador_palavras_ep6[char].get(word) == None:\n",
        "          contador_palavras_ep6[char][word] = 0\n",
        "\n",
        "        contador_palavras_ep6[char][word] = contador_palavras_ep6[char].get(word) + 1\n",
        "\n"
      ]
    },
    {
      "cell_type": "code",
      "execution_count": 11,
      "metadata": {
        "colab": {
          "base_uri": "https://localhost:8080/"
        },
        "id": "g3p0sGG-D7iL",
        "outputId": "d21d3e26-50f5-48c7-9d93-e37fd1d8e087"
      },
      "outputs": [
        {
          "name": "stdout",
          "output_type": "stream",
          "text": [
            "{'SHUTTLE CAPTAIN': {'começando': 1, 'abordagem': 1}, 'DEATH STAR CONTROLLER': {'escudo': 1, 'defletor': 1, 'segurança': 1, 'desativado': 1, 'confirmação': 1, 'transmissão': 1, 'código': 1, 'aguarde': 1, 'liberado': 1, 'prosseguir': 1}, 'OFICIAL': {'informe': 1, 'comandante': 1, 'nave': 1, 'lord': 1, 'vader': 1, 'chegou': 1}, 'OPERADOR': {'sim': 1, 'senhor': 1}, 'JERGERROD': {'lorde': 1, 'vader': 1, 'prazer': 1, 'inesperado': 1, 'honrados': 1, 'presença': 1}, 'VADER': {'nada': 1, 'pode': 1, 'parar': 1, 'agora': 1, 'vez': 1, 'deixe-me': 1, 'olhar': 1, 'próprios': 1, 'olhos': 1}, 'JERJERROD': {'fogo': 1}, 'THREEPIO': {'conseguiram': 1}, 'VOZ ESTRANHA': {'tee': 1, 'chuta': 1, 'ei': 1, '': 1}, 'TRÊS': {'artoo': 3, 'espere': 1, 'oh': 1, 'querido': 1, 'realmente': 1, 'acho': 1, 'devemos': 1, 'apressar': 1, 'tudo': 1}, 'BIB': {'deve': 1, 'poder': 1, 'falar': 1}, 'JABBA': {'coloque-o': 1, 'dentro': 1}, 'LUKE': {'pai': 1, 'vou': 1, 'deixar': 1}, 'NINEDENINE': {'criança': 1, 'mal-humorada': 1, 'logo': 1, 'aprenderá': 1, 'pouco': 1, 'respeito': 1, 'preciso': 1, 'barca': 1, 'vela': 1, 'mestre': 1, 'acho': 1, 'vai': 1, 'encaixar': 1, 'bem': 1}, 'OOLA': {'chuba': 1, 'negatorie': 1, 'natoota': 1, '': 1}, 'BOUSHH': {'palácio': 1, 'jabba': 1}, 'HAN': {'lando': 1, '': 1}, 'LEIA': {'sei': 1}, 'LANDO': {'prometi': 1, 'devolver': 1, 'navio': 1, 'arranhão': 1, 'espero': 1, 'velho': 1, 'pirata': 1, 'perdoe': 1}, 'IMPERADOR': {'agora': 1, 'jovem': 1, 'skywalker': 1, 'vai': 1, 'morrer': 1}, 'YODA': {'luke...luke...não...não': 1, 'subestime': 1, 'poderes': 1, 'imperador': 1, 'sofrerá': 1, 'destino': 1, 'pai': 1, 'irá': 1, 'luke': 3, 'embora': 1, 'último': 1, 'jedi': 1, 'vai': 1, 'força': 1, 'corre': 1, 'forte': 1, 'família': 1, 'passe': 1, 'adiante': 1, 'aprendeu': 1, 'outro': 1, 'céu': 2, 'andarilho': 1}, 'BEN': {'treinada': 1, 'caminhos': 1, 'jedi': 1, 'luke': 1, 'deve': 1, 'enfrentar': 1, 'destruir': 1, 'vader': 1}, 'MON MOTHMA': {'muitos': 1, 'bothanos': 1, 'morreram': 1, 'trazer': 1, 'informação': 1, 'almirante': 1, 'ackbar': 1, '': 1, 'favor': 1}, 'ACKBAR': {'mova': 1, 'frota': 1, 'longe': 1, 'estrela': 1, 'morte': 1}, 'GENERAL MADINE': {'general': 1, 'solo': 1, 'equipe': 1, 'ataque': 1, 'montada': 1}, 'VOZ': {}, 'CONTROLADOR': {'senhor': 1, 'perdemos': 1, 'escudo': 1, 'defletor': 1, 'ponte': 1}, 'PIETT': {'intensificar': 1, 'poder': 1, 'fogo': 1, 'frente': 1}, 'PILOT VOICE': {'peças': 1, 'equipe': 1, 'técnica': 1, 'lua': 1, 'floresta': 1}, 'CONTROLLER': {'shuttle': 1, 'tydirium': 1, '': 1, 'desativação': 1, 'escudo': 1, 'começará': 1, 'imediatamente': 1, 'siga': 1, 'curso': 1, 'atual': 1}, 'ESCUTEIRO #1': {'vá': 1, 'pegar': 1, 'carona': 1, 'leve-a': 1, 'volta': 1, 'base': 1}, 'ESCUTEIRO #l': {'congela': 1, 'vamos': 1, 'levante-se': 1}, 'ESCUTEIRO #2': {'sim': 1, 'senhor': 1}, 'GUARDA': {'imperador': 1, 'vai': 1, 'vê-lo': 1, 'agora': 1}, 'HAN e LUKE': {'leia': 1}, ' ': {'': 1}, 'eu': {'disse': 1}, 'eles': {}, 'O': {}, 'o': {'': 1}, 'que': {}, 'Oh!': {'oh': 1}, 'Oh!\"': {'nan': 1}, 'COMANDANTE': {'tarde': 1, 'demais': 1}, 'SCOUT': {'olha': 1, 'ali': 1, 'pare': 1}, 'WEDGE': {'vai': 1, 'conseguir': 1, 'apenas': 1, 'siga': 1, 'líder': 1, 'ouro': 1}, 'LÍDER CINZENTO': {'líder': 1, 'cinzento': 1, 'aguardando': 1}, 'LÍDER VERDE': {'líder': 1, 'verde': 1, 'aguardando': 1}, 'CUNHA': {'aí': 1}, 'LÍDER VERMELHO': {'consigo': 1, 'ler': 1, 'certeza': 1}, 'PILOTO REBELDE': {'nisso': 1, 'líder': 1, 'dourado': 1}, 'STORMTROOPER': {'mãos': 1, 'cima': 1, 'levante-se': 1}, 'COMANDANTE DO BUNKER': {'traga': 1, 'dois': 1, 'aqui': 1, 'embaixo': 1}, 'VERMELHO DOIS': {'entendi': 1}, 'VERMELHO TRÊS': {'três': 1, 'chegando': 1, 'vinte': 1, 'graus': 1}, 'NAVEGADOR': {'pressão': 1, 'estável': 1}, 'PILOTO Y-WING': {'atingido': 1}, 'WALKER PILOTO #1': {'olha': 1}, 'PILOTO #2': {'tire-o': 1, 'daí': 1}, 'HAN/PILOT': {'acabou': 1, 'comandante': 1, 'rebeldes': 1, 'derrotados': 1, 'fugindo': 1, 'floresta': 1, 'precisamos': 1, 'reforços': 1, 'continuar': 1, 'perseguição': 1}, 'COMANDANTE DA SALA DE CONTROLE': {'envie': 1, 'três': 1, 'esquadrões': 1, 'ajudar': 1, 'abra': 1, 'porta': 1, 'fundos': 1}, 'SEGUNDA COMANDANTE': {'sim': 1, 'senhor': 1}, 'PILOTO': {'cópia': 1, 'líder': 1, 'ouro': 1}, 'LURE': {'vai': 1, 'morrer': 1}, 'ANAKIN': {'luke': 1, 'certo': 2, 'sobre': 1, 'mim': 1, 'diga': 1, 'irmã': 1}}\n"
          ]
        }
      ],
      "source": [
        "print(contador_palavras_ep6) # contador de palavras do ep 6"
      ]
    },
    {
      "cell_type": "code",
      "execution_count": 13,
      "metadata": {},
      "outputs": [],
      "source": [
        "contador_palavras_ep5 = dict()\n",
        "\n",
        "for touple in df_ep5.itertuples():\n",
        "    char = touple.personagem\n",
        "    contador_palavras_ep5[char] = dict()\n",
        "    dialogo_atual = str(touple.diálogo).split()\n",
        "\n",
        "    for word in dialogo_atual:\n",
        "      word = word.strip(string.punctuation).lower()\n",
        "\n",
        "      if word not in stopword_pt:\n",
        "        if  contador_palavras_ep5[char].get(word) == None:\n",
        "          contador_palavras_ep5[char][word] = 0\n",
        "\n",
        "        contador_palavras_ep5[char][word] = contador_palavras_ep5[char].get(word) + 1"
      ]
    },
    {
      "cell_type": "code",
      "execution_count": 14,
      "metadata": {},
      "outputs": [],
      "source": [
        "contador_palavras_ep4 = dict()\n",
        "\n",
        "for touple in df_ep4.itertuples():\n",
        "    char = touple.personagem\n",
        "    contador_palavras_ep4[char] = dict()\n",
        "    dialogo_atual = str(touple.diálogo).split()\n",
        "\n",
        "    for word in dialogo_atual:\n",
        "      word = word.strip(string.punctuation).lower()\n",
        "\n",
        "      if word not in stopword_pt:\n",
        "        if  contador_palavras_ep4[char].get(word) == None:\n",
        "          contador_palavras_ep4[char][word] = 0\n",
        "\n",
        "        contador_palavras_ep4[char][word] = contador_palavras_ep4[char].get(word) + 1"
      ]
    },
    {
      "cell_type": "markdown",
      "metadata": {},
      "source": [
        "![alt text](image.png)"
      ]
    },
    {
      "attachments": {
        "person-freq-ep5.png": {
          "image/png": "[encoded data removed]"
        }
      },
      "cell_type": "markdown",
      "metadata": {},
      "source": [
        "![person-freq-ep5.png](attachment:person-freq-ep5.png)"
      ]
    },
    {
      "cell_type": "markdown",
      "metadata": {},
      "source": [
        "![alt text](res/graficos-freq-person/person-freq-ep4.png)"
      ]
    },
    {
      "cell_type": "code",
      "execution_count": 15,
      "metadata": {
        "colab": {
          "base_uri": "https://localhost:8080/"
        },
        "id": "UrQBi7lw5rsX",
        "outputId": "8af1becc-2940-4671-9448-e6304284f65e"
      },
      "outputs": [],
      "source": [
        "personagens_episodio6 = ['HAN', 'LUKE','THREEPIO', 'LEIA', 'VADER','LANDO']\n",
        "personagens_episodio5 = ['HAN', 'LUKE','LEIA','THREEPIO', 'LANDO', 'VADER']\n",
        "personagens_episodio4 = ['LUKE','HAN', 'THREEPIO', 'BEN', 'LEIA','VADER']"
      ]
    },
    {
      "cell_type": "code",
      "execution_count": 16,
      "metadata": {},
      "outputs": [
        {
          "name": "stdout",
          "output_type": "stream",
          "text": [
            "{'HAN': [('lando', 1), ('', 1)], 'LUKE': [('pai', 1), ('vou', 1), ('deixar', 1)], 'THREEPIO': [('conseguiram', 1)], 'LEIA': [('sei', 1)], 'VADER': [('nada', 1), ('pode', 1), ('parar', 1), ('agora', 1), ('vez', 1), ('deixe-me', 1), ('olhar', 1), ('próprios', 1), ('olhos', 1)], 'LANDO': [('prometi', 1), ('devolver', 1), ('navio', 1), ('arranhão', 1), ('espero', 1), ('velho', 1), ('pirata', 1), ('perdoe', 1)]}\n"
          ]
        }
      ],
      "source": [
        "palavras_mais_ditas_ep6 = dict()\n",
        "\n",
        "for personagem in personagens_episodio6:\n",
        "    palavras_mais_ditas_ep6[personagem] = sorted(contador_palavras_ep6[personagem].items(), key=lambda x: x[1], reverse=True)\n",
        "\n",
        "print(palavras_mais_ditas_ep6)"
      ]
    },
    {
      "cell_type": "code",
      "execution_count": 17,
      "metadata": {},
      "outputs": [
        {
          "name": "stdout",
          "output_type": "stream",
          "text": [
            "{'HAN': [('sei', 1)], 'LUKE': [('ai', 1)], 'LEIA': [('todas', 1), ('coordenadas', 1), ('definidas', 1), ('agora', 1), ('nunca', 1)], 'THREEPIO': [('ah', 1), ('conseguiu', 1)], 'LANDO': [('princesa', 1), ('vamos', 1), ('encontrar', 1), ('han', 1), ('prometo', 1)], 'VADER': [('luke', 1), ('destino', 1)]}\n"
          ]
        }
      ],
      "source": [
        "palavras_mais_ditas_ep5 = dict()\n",
        "\n",
        "for personagem in personagens_episodio5:\n",
        "    palavras_mais_ditas_ep5[personagem] = sorted(contador_palavras_ep5[personagem].items(), key=lambda x: x[1], reverse=True)\n",
        "\n",
        "print(palavras_mais_ditas_ep5)"
      ]
    },
    {
      "cell_type": "code",
      "execution_count": 18,
      "metadata": {},
      "outputs": [
        {
          "name": "stdout",
          "output_type": "stream",
          "text": [
            "{'LUKE': [('vai', 1), ('ficar', 1), ('bem', 1)], 'HAN': [('ficar', 2), ('bem', 1), ('ia', 1), ('deixar', 1), ('todo', 1), ('crédito', 1), ('toda', 1), ('recompensa', 1)], 'THREEPIO': [('deve', 1), ('consertá-lo', 1), ('senhor', 1), ('algum', 1), ('circuitos', 1), ('engrenagens', 1), ('ajudar', 1), ('doarei', 1), ('prazer', 1)], 'BEN': [('lembre-se', 1), ('força', 1), ('estará', 1), ('sempre', 1)], 'LEIA': [('ei', 1), ('sabia', 1), ('dinheiro', 1)], 'VADER': [('quê', 1)]}\n"
          ]
        }
      ],
      "source": [
        "palavras_mais_ditas_ep4 = dict()\n",
        "\n",
        "for personagem in personagens_episodio4:\n",
        "    palavras_mais_ditas_ep4[personagem] = sorted(contador_palavras_ep4[personagem].items(), key=lambda x: x[1], reverse=True)\n",
        "\n",
        "print(palavras_mais_ditas_ep4)"
      ]
    },
    {
      "cell_type": "code",
      "execution_count": 19,
      "metadata": {},
      "outputs": [],
      "source": [
        "for personagem, palavras in palavras_mais_ditas_ep4.items():\n",
        "    df = pd.DataFrame(palavras, columns=[\"palavra\", \"quantidade\"])\n",
        "    df.to_csv(f\"data/palavras-personagens/EP4/{personagem}.csv\", index=False)"
      ]
    },
    {
      "cell_type": "code",
      "execution_count": 20,
      "metadata": {},
      "outputs": [],
      "source": [
        "for personagem, palavras in palavras_mais_ditas_ep5.items():\n",
        "    df = pd.DataFrame(palavras, columns=[\"palavra\", \"quantidade\"])\n",
        "    df.to_csv(f\"data/palavras-personagens/EP5/{personagem}.csv\", index=False)"
      ]
    },
    {
      "cell_type": "code",
      "execution_count": 21,
      "metadata": {},
      "outputs": [],
      "source": [
        "for personagem, palavras in palavras_mais_ditas_ep6.items():\n",
        "    df = pd.DataFrame(palavras, columns=[\"palavra\", \"quantidade\"])\n",
        "    df.to_csv(f\"data/palavras-personagens/EP6/{personagem}.csv\", index=False)"
      ]
    },
    {
      "cell_type": "markdown",
      "metadata": {},
      "source": [
        "PERSONAGEM MAIS APARECE: LUKE E HAN"
      ]
    },
    {
      "cell_type": "markdown",
      "metadata": {},
      "source": [
        "PERSONAGEM MENOS APARECE: (REFAZER GRÁFICO INVERSO DOS QUE MAIS APARECEM)"
      ]
    },
    {
      "cell_type": "markdown",
      "metadata": {},
      "source": [
        "PERSONAGEM MAIS POSITIVO:"
      ]
    },
    {
      "cell_type": "markdown",
      "metadata": {},
      "source": [
        "PERSONAGEM MAIS NEGATIVO:"
      ]
    }
  ],
  "metadata": {
    "colab": {
      "provenance": []
    },
    "kernelspec": {
      "display_name": "Python 3",
      "name": "python3"
    },
    "language_info": {
      "codemirror_mode": {
        "name": "ipython",
        "version": 3
      },
      "file_extension": ".py",
      "mimetype": "text/x-python",
      "name": "python",
      "nbconvert_exporter": "python",
      "pygments_lexer": "ipython3",
      "version": "3.12.3"
    }
  },
  "nbformat": 4,
  "nbformat_minor": 0
}
